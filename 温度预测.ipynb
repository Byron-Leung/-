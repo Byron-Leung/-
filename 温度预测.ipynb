{
 "cells": [
  {
   "cell_type": "code",
   "execution_count": 1,
   "metadata": {},
   "outputs": [],
   "source": [
    "import pandas as pd\n",
    "import numpy as np\n",
    "from sklearn.model_selection import train_test_split"
   ]
  },
  {
   "cell_type": "code",
   "execution_count": 2,
   "metadata": {},
   "outputs": [
    {
     "data": {
      "text/html": [
       "<div>\n",
       "<style scoped>\n",
       "    .dataframe tbody tr th:only-of-type {\n",
       "        vertical-align: middle;\n",
       "    }\n",
       "\n",
       "    .dataframe tbody tr th {\n",
       "        vertical-align: top;\n",
       "    }\n",
       "\n",
       "    .dataframe thead th {\n",
       "        text-align: right;\n",
       "    }\n",
       "</style>\n",
       "<table border=\"1\" class=\"dataframe\">\n",
       "  <thead>\n",
       "    <tr style=\"text-align: right;\">\n",
       "      <th></th>\n",
       "      <th>Date</th>\n",
       "      <th>Location</th>\n",
       "      <th>MinTemp</th>\n",
       "      <th>MaxTemp</th>\n",
       "      <th>Rainfall</th>\n",
       "      <th>Evaporation</th>\n",
       "      <th>Sunshine</th>\n",
       "      <th>WindGustDir</th>\n",
       "      <th>WindGustSpeed</th>\n",
       "      <th>WindDir9am</th>\n",
       "      <th>...</th>\n",
       "      <th>WindSpeed3pm</th>\n",
       "      <th>Humidity9am</th>\n",
       "      <th>Humidity3pm</th>\n",
       "      <th>Pressure9am</th>\n",
       "      <th>Pressure3pm</th>\n",
       "      <th>Cloud9am</th>\n",
       "      <th>Cloud3pm</th>\n",
       "      <th>Temp9am</th>\n",
       "      <th>Temp3pm</th>\n",
       "      <th>RainTomorrow</th>\n",
       "    </tr>\n",
       "  </thead>\n",
       "  <tbody>\n",
       "    <tr>\n",
       "      <th>0</th>\n",
       "      <td>2015-03-24</td>\n",
       "      <td>Adelaide</td>\n",
       "      <td>12.3</td>\n",
       "      <td>19.3</td>\n",
       "      <td>0.0</td>\n",
       "      <td>5.0</td>\n",
       "      <td>NaN</td>\n",
       "      <td>S</td>\n",
       "      <td>39.0</td>\n",
       "      <td>S</td>\n",
       "      <td>...</td>\n",
       "      <td>19.0</td>\n",
       "      <td>59.0</td>\n",
       "      <td>47.0</td>\n",
       "      <td>1022.2</td>\n",
       "      <td>1021.4</td>\n",
       "      <td>NaN</td>\n",
       "      <td>NaN</td>\n",
       "      <td>15.1</td>\n",
       "      <td>17.7</td>\n",
       "      <td>No</td>\n",
       "    </tr>\n",
       "    <tr>\n",
       "      <th>1</th>\n",
       "      <td>2011-07-12</td>\n",
       "      <td>Adelaide</td>\n",
       "      <td>7.9</td>\n",
       "      <td>11.4</td>\n",
       "      <td>0.0</td>\n",
       "      <td>1.0</td>\n",
       "      <td>0.5</td>\n",
       "      <td>N</td>\n",
       "      <td>20.0</td>\n",
       "      <td>NNE</td>\n",
       "      <td>...</td>\n",
       "      <td>7.0</td>\n",
       "      <td>70.0</td>\n",
       "      <td>59.0</td>\n",
       "      <td>1028.7</td>\n",
       "      <td>1025.7</td>\n",
       "      <td>NaN</td>\n",
       "      <td>NaN</td>\n",
       "      <td>8.4</td>\n",
       "      <td>11.3</td>\n",
       "      <td>No</td>\n",
       "    </tr>\n",
       "    <tr>\n",
       "      <th>2</th>\n",
       "      <td>2010-02-08</td>\n",
       "      <td>Adelaide</td>\n",
       "      <td>24.0</td>\n",
       "      <td>38.1</td>\n",
       "      <td>0.0</td>\n",
       "      <td>23.4</td>\n",
       "      <td>13.0</td>\n",
       "      <td>SE</td>\n",
       "      <td>39.0</td>\n",
       "      <td>NNE</td>\n",
       "      <td>...</td>\n",
       "      <td>19.0</td>\n",
       "      <td>36.0</td>\n",
       "      <td>24.0</td>\n",
       "      <td>1018.0</td>\n",
       "      <td>1016.0</td>\n",
       "      <td>NaN</td>\n",
       "      <td>NaN</td>\n",
       "      <td>32.4</td>\n",
       "      <td>37.4</td>\n",
       "      <td>No</td>\n",
       "    </tr>\n",
       "    <tr>\n",
       "      <th>3</th>\n",
       "      <td>2016-09-19</td>\n",
       "      <td>Adelaide</td>\n",
       "      <td>6.7</td>\n",
       "      <td>16.4</td>\n",
       "      <td>0.4</td>\n",
       "      <td>NaN</td>\n",
       "      <td>NaN</td>\n",
       "      <td>N</td>\n",
       "      <td>31.0</td>\n",
       "      <td>N</td>\n",
       "      <td>...</td>\n",
       "      <td>15.0</td>\n",
       "      <td>65.0</td>\n",
       "      <td>40.0</td>\n",
       "      <td>1014.4</td>\n",
       "      <td>1010.0</td>\n",
       "      <td>NaN</td>\n",
       "      <td>NaN</td>\n",
       "      <td>11.2</td>\n",
       "      <td>15.9</td>\n",
       "      <td>No</td>\n",
       "    </tr>\n",
       "    <tr>\n",
       "      <th>4</th>\n",
       "      <td>2014-03-05</td>\n",
       "      <td>Adelaide</td>\n",
       "      <td>16.7</td>\n",
       "      <td>24.8</td>\n",
       "      <td>0.0</td>\n",
       "      <td>6.6</td>\n",
       "      <td>11.7</td>\n",
       "      <td>S</td>\n",
       "      <td>37.0</td>\n",
       "      <td>S</td>\n",
       "      <td>...</td>\n",
       "      <td>24.0</td>\n",
       "      <td>61.0</td>\n",
       "      <td>48.0</td>\n",
       "      <td>1019.3</td>\n",
       "      <td>1018.9</td>\n",
       "      <td>NaN</td>\n",
       "      <td>NaN</td>\n",
       "      <td>20.8</td>\n",
       "      <td>23.7</td>\n",
       "      <td>No</td>\n",
       "    </tr>\n",
       "  </tbody>\n",
       "</table>\n",
       "<p>5 rows × 22 columns</p>\n",
       "</div>"
      ],
      "text/plain": [
       "         Date  Location  MinTemp  MaxTemp  Rainfall  Evaporation  Sunshine  \\\n",
       "0  2015-03-24  Adelaide     12.3     19.3       0.0          5.0       NaN   \n",
       "1  2011-07-12  Adelaide      7.9     11.4       0.0          1.0       0.5   \n",
       "2  2010-02-08  Adelaide     24.0     38.1       0.0         23.4      13.0   \n",
       "3  2016-09-19  Adelaide      6.7     16.4       0.4          NaN       NaN   \n",
       "4  2014-03-05  Adelaide     16.7     24.8       0.0          6.6      11.7   \n",
       "\n",
       "  WindGustDir  WindGustSpeed WindDir9am  ... WindSpeed3pm  Humidity9am  \\\n",
       "0           S           39.0          S  ...         19.0         59.0   \n",
       "1           N           20.0        NNE  ...          7.0         70.0   \n",
       "2          SE           39.0        NNE  ...         19.0         36.0   \n",
       "3           N           31.0          N  ...         15.0         65.0   \n",
       "4           S           37.0          S  ...         24.0         61.0   \n",
       "\n",
       "   Humidity3pm  Pressure9am  Pressure3pm  Cloud9am  Cloud3pm  Temp9am  \\\n",
       "0         47.0       1022.2       1021.4       NaN       NaN     15.1   \n",
       "1         59.0       1028.7       1025.7       NaN       NaN      8.4   \n",
       "2         24.0       1018.0       1016.0       NaN       NaN     32.4   \n",
       "3         40.0       1014.4       1010.0       NaN       NaN     11.2   \n",
       "4         48.0       1019.3       1018.9       NaN       NaN     20.8   \n",
       "\n",
       "   Temp3pm  RainTomorrow  \n",
       "0     17.7            No  \n",
       "1     11.3            No  \n",
       "2     37.4            No  \n",
       "3     15.9            No  \n",
       "4     23.7            No  \n",
       "\n",
       "[5 rows x 22 columns]"
      ]
     },
     "execution_count": 2,
     "metadata": {},
     "output_type": "execute_result"
    }
   ],
   "source": [
    "weather = pd.read_csv(r'/Users/byronleung/Downloads/machine learning/SVM (second half)/weather5000.csv'\n",
    ",index_col=0)\n",
    "weather.head()"
   ]
  },
  {
   "cell_type": "code",
   "execution_count": 3,
   "metadata": {},
   "outputs": [
    {
     "data": {
      "text/plain": [
       "(5000, 22)"
      ]
     },
     "execution_count": 3,
     "metadata": {},
     "output_type": "execute_result"
    }
   ],
   "source": [
    "weather.shape"
   ]
  },
  {
   "cell_type": "code",
   "execution_count": 4,
   "metadata": {},
   "outputs": [],
   "source": [
    "#将特征矩阵和标签Y分开\n",
    "X = weather.iloc[:,:-1]\n",
    "Y = weather.iloc[:,-1]"
   ]
  },
  {
   "cell_type": "code",
   "execution_count": 5,
   "metadata": {},
   "outputs": [
    {
     "data": {
      "text/plain": [
       "(5000, 21)"
      ]
     },
     "execution_count": 5,
     "metadata": {},
     "output_type": "execute_result"
    }
   ],
   "source": [
    "X.shape"
   ]
  },
  {
   "cell_type": "code",
   "execution_count": 6,
   "metadata": {},
   "outputs": [
    {
     "name": "stdout",
     "output_type": "stream",
     "text": [
      "<class 'pandas.core.frame.DataFrame'>\n",
      "Int64Index: 5000 entries, 0 to 4999\n",
      "Data columns (total 21 columns):\n",
      "Date             5000 non-null object\n",
      "Location         5000 non-null object\n",
      "MinTemp          4979 non-null float64\n",
      "MaxTemp          4987 non-null float64\n",
      "Rainfall         4950 non-null float64\n",
      "Evaporation      2841 non-null float64\n",
      "Sunshine         2571 non-null float64\n",
      "WindGustDir      4669 non-null object\n",
      "WindGustSpeed    4669 non-null float64\n",
      "WindDir9am       4651 non-null object\n",
      "WindDir3pm       4887 non-null object\n",
      "WindSpeed9am     4949 non-null float64\n",
      "WindSpeed3pm     4919 non-null float64\n",
      "Humidity9am      4936 non-null float64\n",
      "Humidity3pm      4880 non-null float64\n",
      "Pressure9am      4506 non-null float64\n",
      "Pressure3pm      4504 non-null float64\n",
      "Cloud9am         3111 non-null float64\n",
      "Cloud3pm         3012 non-null float64\n",
      "Temp9am          4967 non-null float64\n",
      "Temp3pm          4912 non-null float64\n",
      "dtypes: float64(16), object(5)\n",
      "memory usage: 859.4+ KB\n"
     ]
    }
   ],
   "source": [
    "X.info()\n",
    "#返回数据类型"
   ]
  },
  {
   "cell_type": "code",
   "execution_count": 7,
   "metadata": {
    "scrolled": false
   },
   "outputs": [
    {
     "data": {
      "text/plain": [
       "Date             0.0000\n",
       "Location         0.0000\n",
       "MinTemp          0.0042\n",
       "MaxTemp          0.0026\n",
       "Rainfall         0.0100\n",
       "Evaporation      0.4318\n",
       "Sunshine         0.4858\n",
       "WindGustDir      0.0662\n",
       "WindGustSpeed    0.0662\n",
       "WindDir9am       0.0698\n",
       "WindDir3pm       0.0226\n",
       "WindSpeed9am     0.0102\n",
       "WindSpeed3pm     0.0162\n",
       "Humidity9am      0.0128\n",
       "Humidity3pm      0.0240\n",
       "Pressure9am      0.0988\n",
       "Pressure3pm      0.0992\n",
       "Cloud9am         0.3778\n",
       "Cloud3pm         0.3976\n",
       "Temp9am          0.0066\n",
       "Temp3pm          0.0176\n",
       "dtype: float64"
      ]
     },
     "execution_count": 7,
     "metadata": {},
     "output_type": "execute_result"
    }
   ],
   "source": [
    "X.isnull().mean()\n",
    "#缺失值所占总值的比例 isnull().sum(全部的True)/X.shape[0]\n",
    "#缺失值占总值的比例"
   ]
  },
  {
   "cell_type": "markdown",
   "metadata": {},
   "source": [
    "#### 不同的缺失值的填补策略"
   ]
  },
  {
   "cell_type": "code",
   "execution_count": 8,
   "metadata": {
    "scrolled": true
   },
   "outputs": [
    {
     "data": {
      "text/plain": [
       "array(['No', 'Yes'], dtype=object)"
      ]
     },
     "execution_count": 8,
     "metadata": {},
     "output_type": "execute_result"
    }
   ],
   "source": [
    "np.unique(Y)\n",
    "#返回去重后的对象有多少个，有什么\n",
    "#返回label的分类"
   ]
  },
  {
   "cell_type": "code",
   "execution_count": 9,
   "metadata": {},
   "outputs": [
    {
     "data": {
      "text/plain": [
       "(5000,)"
      ]
     },
     "execution_count": 9,
     "metadata": {},
     "output_type": "execute_result"
    }
   ],
   "source": [
    "Y.shape"
   ]
  },
  {
   "cell_type": "code",
   "execution_count": 10,
   "metadata": {},
   "outputs": [
    {
     "data": {
      "text/plain": [
       "0"
      ]
     },
     "execution_count": 10,
     "metadata": {},
     "output_type": "execute_result"
    }
   ],
   "source": [
    "Y.isnull().sum()"
   ]
  },
  {
   "cell_type": "code",
   "execution_count": 11,
   "metadata": {},
   "outputs": [
    {
     "data": {
      "text/plain": [
       "(2,)"
      ]
     },
     "execution_count": 11,
     "metadata": {},
     "output_type": "execute_result"
    }
   ],
   "source": [
    "np.unique(Y).shape#binary"
   ]
  },
  {
   "cell_type": "markdown",
   "metadata": {},
   "source": [
    "#### 粗略观察发现，这个特征矩阵由一部分分类变量和一部分连续变量组成，其中云层遮蔽程度虽然是数字表示，但本质确是分类变量，大多数特征都是采集的自然数据，比如蒸发量，日照时间，湿度等等，而少部分特征是人为构成的。还有一些是单纯表示样本信息的变量，比如采集信息的地点和时间"
   ]
  },
  {
   "cell_type": "markdown",
   "metadata": {},
   "source": [
    "# 现实中一定要先分了训练集和测试集之后才可以开始预处理"
   ]
  },
  {
   "cell_type": "code",
   "execution_count": 12,
   "metadata": {},
   "outputs": [],
   "source": [
    "#分训练集和测试集\n",
    "Xtrain, Xtest, Ytrain, Ytest = train_test_split(X,Y,test_size=0.3,random_state=420) "
   ]
  },
  {
   "cell_type": "markdown",
   "metadata": {},
   "source": [
    "#### 分训练集跟测试集属于随机抽样，所以index会被打乱，如果后面有对index的操作那就必须重新恢复索引"
   ]
  },
  {
   "cell_type": "markdown",
   "metadata": {},
   "source": [
    "## 预处理只对训练集进行操作，分好数据集之后就不要去动除训练集除外的了"
   ]
  },
  {
   "cell_type": "code",
   "execution_count": 13,
   "metadata": {},
   "outputs": [],
   "source": [
    "#分了训练集和测试集之后要记得恢复索引，形成良好习惯\n",
    "for i in [Xtrain, Xtest, Ytrain, Ytest]:\n",
    "    i.index = range(i.shape[0])"
   ]
  },
  {
   "cell_type": "code",
   "execution_count": 14,
   "metadata": {},
   "outputs": [
    {
     "data": {
      "text/plain": [
       "array(['No', 'Yes'], dtype=object)"
      ]
     },
     "execution_count": 14,
     "metadata": {},
     "output_type": "execute_result"
    }
   ],
   "source": [
    "#先来探索标签，因为label处理起来非常容易\n",
    "np.unique(Y)\n",
    "#先发现label是二元"
   ]
  },
  {
   "cell_type": "markdown",
   "metadata": {},
   "source": [
    "### observation.value_counts( )返回每个样本有多少个数量"
   ]
  },
  {
   "cell_type": "code",
   "execution_count": 15,
   "metadata": {},
   "outputs": [
    {
     "data": {
      "text/plain": [
       "No     2704\n",
       "Yes     796\n",
       "Name: RainTomorrow, dtype: int64"
      ]
     },
     "execution_count": 15,
     "metadata": {},
     "output_type": "execute_result"
    }
   ],
   "source": [
    "#是否有样本不平衡问题？\n",
    "Ytrain.value_counts()"
   ]
  },
  {
   "cell_type": "code",
   "execution_count": 16,
   "metadata": {},
   "outputs": [
    {
     "data": {
      "text/plain": [
       "No     1157\n",
       "Yes     343\n",
       "Name: RainTomorrow, dtype: int64"
      ]
     },
     "execution_count": 16,
     "metadata": {},
     "output_type": "execute_result"
    }
   ],
   "source": [
    "Ytest.value_counts()"
   ]
  },
  {
   "cell_type": "markdown",
   "metadata": {},
   "source": [
    "#### 有轻微的样本不均衡问题"
   ]
  },
  {
   "cell_type": "code",
   "execution_count": 17,
   "metadata": {},
   "outputs": [
    {
     "data": {
      "text/plain": [
       "3.3969849246231156"
      ]
     },
     "execution_count": 17,
     "metadata": {},
     "output_type": "execute_result"
    }
   ],
   "source": [
    "Ytrain.value_counts()[0]/Ytrain.value_counts()[1]"
   ]
  },
  {
   "cell_type": "markdown",
   "metadata": {},
   "source": [
    "LabelEncoder就是label专用，把label变成哑变量"
   ]
  },
  {
   "cell_type": "code",
   "execution_count": 18,
   "metadata": {},
   "outputs": [],
   "source": [
    "#将标签编码\n",
    "from sklearn.preprocessing import LabelEncoder #标签专用\n",
    "encorder = LabelEncoder().fit(Ytrain) #允许一维数据的输入的\n",
    "#认得了：有两类，YES和NO，YES是1，NO是0"
   ]
  },
  {
   "cell_type": "code",
   "execution_count": 19,
   "metadata": {},
   "outputs": [],
   "source": [
    "#使用训练集进行训练，然后在训练集和测试集上分别进行transform\n",
    "#相当于是用训练集的训练结果来对测试集和训练集分别进行改造\n",
    "Ytrain = pd.DataFrame(encorder.transform(Ytrain))\n",
    "Ytest = pd.DataFrame(encorder.transform(Ytest))"
   ]
  },
  {
   "cell_type": "code",
   "execution_count": 20,
   "metadata": {},
   "outputs": [],
   "source": [
    "#如果我们的测试集中，出现了训练集中没有出现过的标签类别\n",
    "#比如说，测试集中有YES, NO, UNKNOWN\n",
    "#而我们的训练集中只有YES和NO，这个时候transform的时候labelencoder就会报错"
   ]
  },
  {
   "cell_type": "markdown",
   "metadata": {},
   "source": [
    "# 现实中一旦标签出现了新的类别，labelencoder就会报错，这个时候就得重新建模，所以分测试集跟训练集之前一定要看 .unique(observation)标签有多少类"
   ]
  },
  {
   "cell_type": "code",
   "execution_count": 21,
   "metadata": {},
   "outputs": [],
   "source": [
    "#一旦改好了label，最好就保留文件，形成好习惯\n",
    "# Ytrain.to_csv('path/filename.csv')"
   ]
  },
  {
   "cell_type": "code",
   "execution_count": 22,
   "metadata": {
    "scrolled": false
   },
   "outputs": [
    {
     "data": {
      "text/html": [
       "<div>\n",
       "<style scoped>\n",
       "    .dataframe tbody tr th:only-of-type {\n",
       "        vertical-align: middle;\n",
       "    }\n",
       "\n",
       "    .dataframe tbody tr th {\n",
       "        vertical-align: top;\n",
       "    }\n",
       "\n",
       "    .dataframe thead th {\n",
       "        text-align: right;\n",
       "    }\n",
       "</style>\n",
       "<table border=\"1\" class=\"dataframe\">\n",
       "  <thead>\n",
       "    <tr style=\"text-align: right;\">\n",
       "      <th></th>\n",
       "      <th>count</th>\n",
       "      <th>mean</th>\n",
       "      <th>std</th>\n",
       "      <th>min</th>\n",
       "      <th>1%</th>\n",
       "      <th>5%</th>\n",
       "      <th>10%</th>\n",
       "      <th>25%</th>\n",
       "      <th>50%</th>\n",
       "      <th>75%</th>\n",
       "      <th>90%</th>\n",
       "      <th>99%</th>\n",
       "      <th>max</th>\n",
       "    </tr>\n",
       "  </thead>\n",
       "  <tbody>\n",
       "    <tr>\n",
       "      <th>MinTemp</th>\n",
       "      <td>3486.0</td>\n",
       "      <td>12.225645</td>\n",
       "      <td>6.396243</td>\n",
       "      <td>-6.5</td>\n",
       "      <td>-1.715</td>\n",
       "      <td>1.800</td>\n",
       "      <td>4.1</td>\n",
       "      <td>7.7</td>\n",
       "      <td>12.0</td>\n",
       "      <td>16.7</td>\n",
       "      <td>20.9</td>\n",
       "      <td>25.900</td>\n",
       "      <td>29.0</td>\n",
       "    </tr>\n",
       "    <tr>\n",
       "      <th>MaxTemp</th>\n",
       "      <td>3489.0</td>\n",
       "      <td>23.245543</td>\n",
       "      <td>7.201839</td>\n",
       "      <td>-3.7</td>\n",
       "      <td>8.888</td>\n",
       "      <td>12.840</td>\n",
       "      <td>14.5</td>\n",
       "      <td>18.0</td>\n",
       "      <td>22.5</td>\n",
       "      <td>28.4</td>\n",
       "      <td>33.0</td>\n",
       "      <td>40.400</td>\n",
       "      <td>46.4</td>\n",
       "    </tr>\n",
       "    <tr>\n",
       "      <th>Rainfall</th>\n",
       "      <td>3467.0</td>\n",
       "      <td>2.487049</td>\n",
       "      <td>7.949686</td>\n",
       "      <td>0.0</td>\n",
       "      <td>0.000</td>\n",
       "      <td>0.000</td>\n",
       "      <td>0.0</td>\n",
       "      <td>0.0</td>\n",
       "      <td>0.0</td>\n",
       "      <td>0.8</td>\n",
       "      <td>6.6</td>\n",
       "      <td>41.272</td>\n",
       "      <td>115.8</td>\n",
       "    </tr>\n",
       "    <tr>\n",
       "      <th>Evaporation</th>\n",
       "      <td>1983.0</td>\n",
       "      <td>5.619163</td>\n",
       "      <td>4.383098</td>\n",
       "      <td>0.0</td>\n",
       "      <td>0.400</td>\n",
       "      <td>0.800</td>\n",
       "      <td>1.4</td>\n",
       "      <td>2.6</td>\n",
       "      <td>4.8</td>\n",
       "      <td>7.4</td>\n",
       "      <td>10.2</td>\n",
       "      <td>20.600</td>\n",
       "      <td>56.0</td>\n",
       "    </tr>\n",
       "    <tr>\n",
       "      <th>Sunshine</th>\n",
       "      <td>1790.0</td>\n",
       "      <td>7.508659</td>\n",
       "      <td>3.805841</td>\n",
       "      <td>0.0</td>\n",
       "      <td>0.000</td>\n",
       "      <td>0.345</td>\n",
       "      <td>1.4</td>\n",
       "      <td>4.6</td>\n",
       "      <td>8.3</td>\n",
       "      <td>10.6</td>\n",
       "      <td>12.0</td>\n",
       "      <td>13.300</td>\n",
       "      <td>13.9</td>\n",
       "    </tr>\n",
       "    <tr>\n",
       "      <th>WindGustSpeed</th>\n",
       "      <td>3263.0</td>\n",
       "      <td>39.858413</td>\n",
       "      <td>13.219607</td>\n",
       "      <td>9.0</td>\n",
       "      <td>15.000</td>\n",
       "      <td>20.000</td>\n",
       "      <td>24.0</td>\n",
       "      <td>31.0</td>\n",
       "      <td>39.0</td>\n",
       "      <td>48.0</td>\n",
       "      <td>57.0</td>\n",
       "      <td>76.000</td>\n",
       "      <td>117.0</td>\n",
       "    </tr>\n",
       "    <tr>\n",
       "      <th>WindSpeed9am</th>\n",
       "      <td>3466.0</td>\n",
       "      <td>14.046163</td>\n",
       "      <td>8.670472</td>\n",
       "      <td>0.0</td>\n",
       "      <td>0.000</td>\n",
       "      <td>0.000</td>\n",
       "      <td>4.0</td>\n",
       "      <td>7.0</td>\n",
       "      <td>13.0</td>\n",
       "      <td>19.0</td>\n",
       "      <td>26.0</td>\n",
       "      <td>37.000</td>\n",
       "      <td>65.0</td>\n",
       "    </tr>\n",
       "    <tr>\n",
       "      <th>WindSpeed3pm</th>\n",
       "      <td>3437.0</td>\n",
       "      <td>18.553390</td>\n",
       "      <td>8.611818</td>\n",
       "      <td>0.0</td>\n",
       "      <td>2.000</td>\n",
       "      <td>6.000</td>\n",
       "      <td>7.0</td>\n",
       "      <td>13.0</td>\n",
       "      <td>19.0</td>\n",
       "      <td>24.0</td>\n",
       "      <td>30.0</td>\n",
       "      <td>43.000</td>\n",
       "      <td>65.0</td>\n",
       "    </tr>\n",
       "    <tr>\n",
       "      <th>Humidity9am</th>\n",
       "      <td>3459.0</td>\n",
       "      <td>69.069095</td>\n",
       "      <td>18.787698</td>\n",
       "      <td>2.0</td>\n",
       "      <td>18.000</td>\n",
       "      <td>35.000</td>\n",
       "      <td>45.0</td>\n",
       "      <td>57.0</td>\n",
       "      <td>70.0</td>\n",
       "      <td>83.0</td>\n",
       "      <td>94.0</td>\n",
       "      <td>100.000</td>\n",
       "      <td>100.0</td>\n",
       "    </tr>\n",
       "    <tr>\n",
       "      <th>Humidity3pm</th>\n",
       "      <td>3408.0</td>\n",
       "      <td>51.651995</td>\n",
       "      <td>20.697872</td>\n",
       "      <td>2.0</td>\n",
       "      <td>9.000</td>\n",
       "      <td>17.000</td>\n",
       "      <td>23.0</td>\n",
       "      <td>37.0</td>\n",
       "      <td>52.0</td>\n",
       "      <td>66.0</td>\n",
       "      <td>79.0</td>\n",
       "      <td>98.000</td>\n",
       "      <td>100.0</td>\n",
       "    </tr>\n",
       "    <tr>\n",
       "      <th>Pressure9am</th>\n",
       "      <td>3154.0</td>\n",
       "      <td>1017.622067</td>\n",
       "      <td>7.065236</td>\n",
       "      <td>985.1</td>\n",
       "      <td>1000.506</td>\n",
       "      <td>1006.100</td>\n",
       "      <td>1008.9</td>\n",
       "      <td>1012.8</td>\n",
       "      <td>1017.6</td>\n",
       "      <td>1022.3</td>\n",
       "      <td>1027.0</td>\n",
       "      <td>1033.247</td>\n",
       "      <td>1038.1</td>\n",
       "    </tr>\n",
       "    <tr>\n",
       "      <th>Pressure3pm</th>\n",
       "      <td>3154.0</td>\n",
       "      <td>1015.227077</td>\n",
       "      <td>7.032531</td>\n",
       "      <td>980.2</td>\n",
       "      <td>998.000</td>\n",
       "      <td>1004.000</td>\n",
       "      <td>1006.5</td>\n",
       "      <td>1010.3</td>\n",
       "      <td>1015.2</td>\n",
       "      <td>1020.0</td>\n",
       "      <td>1024.4</td>\n",
       "      <td>1030.800</td>\n",
       "      <td>1036.0</td>\n",
       "    </tr>\n",
       "    <tr>\n",
       "      <th>Cloud9am</th>\n",
       "      <td>2171.0</td>\n",
       "      <td>4.491939</td>\n",
       "      <td>2.858781</td>\n",
       "      <td>0.0</td>\n",
       "      <td>0.000</td>\n",
       "      <td>0.000</td>\n",
       "      <td>1.0</td>\n",
       "      <td>1.0</td>\n",
       "      <td>5.0</td>\n",
       "      <td>7.0</td>\n",
       "      <td>8.0</td>\n",
       "      <td>8.000</td>\n",
       "      <td>8.0</td>\n",
       "    </tr>\n",
       "    <tr>\n",
       "      <th>Cloud3pm</th>\n",
       "      <td>2095.0</td>\n",
       "      <td>4.603819</td>\n",
       "      <td>2.655765</td>\n",
       "      <td>0.0</td>\n",
       "      <td>0.000</td>\n",
       "      <td>0.000</td>\n",
       "      <td>1.0</td>\n",
       "      <td>2.0</td>\n",
       "      <td>5.0</td>\n",
       "      <td>7.0</td>\n",
       "      <td>8.0</td>\n",
       "      <td>8.000</td>\n",
       "      <td>8.0</td>\n",
       "    </tr>\n",
       "    <tr>\n",
       "      <th>Temp9am</th>\n",
       "      <td>3481.0</td>\n",
       "      <td>16.989859</td>\n",
       "      <td>6.537552</td>\n",
       "      <td>-5.2</td>\n",
       "      <td>2.400</td>\n",
       "      <td>7.000</td>\n",
       "      <td>9.0</td>\n",
       "      <td>12.2</td>\n",
       "      <td>16.6</td>\n",
       "      <td>21.6</td>\n",
       "      <td>26.0</td>\n",
       "      <td>31.000</td>\n",
       "      <td>38.0</td>\n",
       "    </tr>\n",
       "    <tr>\n",
       "      <th>Temp3pm</th>\n",
       "      <td>3431.0</td>\n",
       "      <td>21.719003</td>\n",
       "      <td>7.031199</td>\n",
       "      <td>-4.1</td>\n",
       "      <td>7.460</td>\n",
       "      <td>11.500</td>\n",
       "      <td>13.3</td>\n",
       "      <td>16.6</td>\n",
       "      <td>21.0</td>\n",
       "      <td>26.6</td>\n",
       "      <td>31.4</td>\n",
       "      <td>38.600</td>\n",
       "      <td>45.9</td>\n",
       "    </tr>\n",
       "  </tbody>\n",
       "</table>\n",
       "</div>"
      ],
      "text/plain": [
       "                count         mean        std    min        1%        5%  \\\n",
       "MinTemp        3486.0    12.225645   6.396243   -6.5    -1.715     1.800   \n",
       "MaxTemp        3489.0    23.245543   7.201839   -3.7     8.888    12.840   \n",
       "Rainfall       3467.0     2.487049   7.949686    0.0     0.000     0.000   \n",
       "Evaporation    1983.0     5.619163   4.383098    0.0     0.400     0.800   \n",
       "Sunshine       1790.0     7.508659   3.805841    0.0     0.000     0.345   \n",
       "WindGustSpeed  3263.0    39.858413  13.219607    9.0    15.000    20.000   \n",
       "WindSpeed9am   3466.0    14.046163   8.670472    0.0     0.000     0.000   \n",
       "WindSpeed3pm   3437.0    18.553390   8.611818    0.0     2.000     6.000   \n",
       "Humidity9am    3459.0    69.069095  18.787698    2.0    18.000    35.000   \n",
       "Humidity3pm    3408.0    51.651995  20.697872    2.0     9.000    17.000   \n",
       "Pressure9am    3154.0  1017.622067   7.065236  985.1  1000.506  1006.100   \n",
       "Pressure3pm    3154.0  1015.227077   7.032531  980.2   998.000  1004.000   \n",
       "Cloud9am       2171.0     4.491939   2.858781    0.0     0.000     0.000   \n",
       "Cloud3pm       2095.0     4.603819   2.655765    0.0     0.000     0.000   \n",
       "Temp9am        3481.0    16.989859   6.537552   -5.2     2.400     7.000   \n",
       "Temp3pm        3431.0    21.719003   7.031199   -4.1     7.460    11.500   \n",
       "\n",
       "                  10%     25%     50%     75%     90%       99%     max  \n",
       "MinTemp           4.1     7.7    12.0    16.7    20.9    25.900    29.0  \n",
       "MaxTemp          14.5    18.0    22.5    28.4    33.0    40.400    46.4  \n",
       "Rainfall          0.0     0.0     0.0     0.8     6.6    41.272   115.8  \n",
       "Evaporation       1.4     2.6     4.8     7.4    10.2    20.600    56.0  \n",
       "Sunshine          1.4     4.6     8.3    10.6    12.0    13.300    13.9  \n",
       "WindGustSpeed    24.0    31.0    39.0    48.0    57.0    76.000   117.0  \n",
       "WindSpeed9am      4.0     7.0    13.0    19.0    26.0    37.000    65.0  \n",
       "WindSpeed3pm      7.0    13.0    19.0    24.0    30.0    43.000    65.0  \n",
       "Humidity9am      45.0    57.0    70.0    83.0    94.0   100.000   100.0  \n",
       "Humidity3pm      23.0    37.0    52.0    66.0    79.0    98.000   100.0  \n",
       "Pressure9am    1008.9  1012.8  1017.6  1022.3  1027.0  1033.247  1038.1  \n",
       "Pressure3pm    1006.5  1010.3  1015.2  1020.0  1024.4  1030.800  1036.0  \n",
       "Cloud9am          1.0     1.0     5.0     7.0     8.0     8.000     8.0  \n",
       "Cloud3pm          1.0     2.0     5.0     7.0     8.0     8.000     8.0  \n",
       "Temp9am           9.0    12.2    16.6    21.6    26.0    31.000    38.0  \n",
       "Temp3pm          13.3    16.6    21.0    26.6    31.4    38.600    45.9  "
      ]
     },
     "execution_count": 22,
     "metadata": {},
     "output_type": "execute_result"
    }
   ],
   "source": [
    "#描述性统计\n",
    "Xtrain.describe([0.01,0.05,0.1,0.25,0.5,0.75,0.9,0.99]).T\n",
    "#可以看有没有偏态分布\n",
    "#rainfall严重右偏"
   ]
  },
  {
   "cell_type": "markdown",
   "metadata": {},
   "source": [
    "一眼望去数据肯定是量纲不统一的，因为跑模型最后一般都是需要统一量纲，最后反正都要标准化处理的，可以先不在意"
   ]
  },
  {
   "cell_type": "markdown",
   "metadata": {},
   "source": [
    "可以判断正负号什么的"
   ]
  },
  {
   "cell_type": "code",
   "execution_count": 23,
   "metadata": {},
   "outputs": [
    {
     "data": {
      "text/html": [
       "<div>\n",
       "<style scoped>\n",
       "    .dataframe tbody tr th:only-of-type {\n",
       "        vertical-align: middle;\n",
       "    }\n",
       "\n",
       "    .dataframe tbody tr th {\n",
       "        vertical-align: top;\n",
       "    }\n",
       "\n",
       "    .dataframe thead th {\n",
       "        text-align: right;\n",
       "    }\n",
       "</style>\n",
       "<table border=\"1\" class=\"dataframe\">\n",
       "  <thead>\n",
       "    <tr style=\"text-align: right;\">\n",
       "      <th></th>\n",
       "      <th>count</th>\n",
       "      <th>mean</th>\n",
       "      <th>std</th>\n",
       "      <th>min</th>\n",
       "      <th>1%</th>\n",
       "      <th>5%</th>\n",
       "      <th>10%</th>\n",
       "      <th>25%</th>\n",
       "      <th>50%</th>\n",
       "      <th>75%</th>\n",
       "      <th>90%</th>\n",
       "      <th>99%</th>\n",
       "      <th>max</th>\n",
       "    </tr>\n",
       "  </thead>\n",
       "  <tbody>\n",
       "    <tr>\n",
       "      <th>MinTemp</th>\n",
       "      <td>1493.0</td>\n",
       "      <td>11.916812</td>\n",
       "      <td>6.375377</td>\n",
       "      <td>-8.5</td>\n",
       "      <td>-2.024</td>\n",
       "      <td>1.600</td>\n",
       "      <td>3.70</td>\n",
       "      <td>7.3</td>\n",
       "      <td>11.8</td>\n",
       "      <td>16.5</td>\n",
       "      <td>20.48</td>\n",
       "      <td>25.316</td>\n",
       "      <td>28.3</td>\n",
       "    </tr>\n",
       "    <tr>\n",
       "      <th>MaxTemp</th>\n",
       "      <td>1498.0</td>\n",
       "      <td>22.906809</td>\n",
       "      <td>6.986043</td>\n",
       "      <td>-0.8</td>\n",
       "      <td>9.134</td>\n",
       "      <td>13.000</td>\n",
       "      <td>14.50</td>\n",
       "      <td>17.8</td>\n",
       "      <td>22.4</td>\n",
       "      <td>27.8</td>\n",
       "      <td>32.60</td>\n",
       "      <td>38.303</td>\n",
       "      <td>45.1</td>\n",
       "    </tr>\n",
       "    <tr>\n",
       "      <th>Rainfall</th>\n",
       "      <td>1483.0</td>\n",
       "      <td>2.241807</td>\n",
       "      <td>7.988822</td>\n",
       "      <td>0.0</td>\n",
       "      <td>0.000</td>\n",
       "      <td>0.000</td>\n",
       "      <td>0.00</td>\n",
       "      <td>0.0</td>\n",
       "      <td>0.0</td>\n",
       "      <td>0.8</td>\n",
       "      <td>5.20</td>\n",
       "      <td>35.372</td>\n",
       "      <td>108.2</td>\n",
       "    </tr>\n",
       "    <tr>\n",
       "      <th>Evaporation</th>\n",
       "      <td>858.0</td>\n",
       "      <td>5.657809</td>\n",
       "      <td>4.105762</td>\n",
       "      <td>0.0</td>\n",
       "      <td>0.400</td>\n",
       "      <td>1.000</td>\n",
       "      <td>1.60</td>\n",
       "      <td>2.8</td>\n",
       "      <td>4.8</td>\n",
       "      <td>7.6</td>\n",
       "      <td>10.40</td>\n",
       "      <td>19.458</td>\n",
       "      <td>38.8</td>\n",
       "    </tr>\n",
       "    <tr>\n",
       "      <th>Sunshine</th>\n",
       "      <td>781.0</td>\n",
       "      <td>7.677465</td>\n",
       "      <td>3.862294</td>\n",
       "      <td>0.0</td>\n",
       "      <td>0.000</td>\n",
       "      <td>0.300</td>\n",
       "      <td>1.50</td>\n",
       "      <td>4.7</td>\n",
       "      <td>8.6</td>\n",
       "      <td>10.7</td>\n",
       "      <td>12.20</td>\n",
       "      <td>13.400</td>\n",
       "      <td>13.9</td>\n",
       "    </tr>\n",
       "    <tr>\n",
       "      <th>WindGustSpeed</th>\n",
       "      <td>1406.0</td>\n",
       "      <td>40.044097</td>\n",
       "      <td>14.027052</td>\n",
       "      <td>9.0</td>\n",
       "      <td>15.000</td>\n",
       "      <td>20.000</td>\n",
       "      <td>24.00</td>\n",
       "      <td>30.0</td>\n",
       "      <td>39.0</td>\n",
       "      <td>48.0</td>\n",
       "      <td>57.00</td>\n",
       "      <td>78.000</td>\n",
       "      <td>122.0</td>\n",
       "    </tr>\n",
       "    <tr>\n",
       "      <th>WindSpeed9am</th>\n",
       "      <td>1483.0</td>\n",
       "      <td>13.986514</td>\n",
       "      <td>9.124337</td>\n",
       "      <td>0.0</td>\n",
       "      <td>0.000</td>\n",
       "      <td>0.000</td>\n",
       "      <td>4.00</td>\n",
       "      <td>7.0</td>\n",
       "      <td>13.0</td>\n",
       "      <td>20.0</td>\n",
       "      <td>26.00</td>\n",
       "      <td>39.360</td>\n",
       "      <td>72.0</td>\n",
       "    </tr>\n",
       "    <tr>\n",
       "      <th>WindSpeed3pm</th>\n",
       "      <td>1482.0</td>\n",
       "      <td>18.601215</td>\n",
       "      <td>8.850446</td>\n",
       "      <td>0.0</td>\n",
       "      <td>2.000</td>\n",
       "      <td>6.000</td>\n",
       "      <td>7.00</td>\n",
       "      <td>13.0</td>\n",
       "      <td>19.0</td>\n",
       "      <td>24.0</td>\n",
       "      <td>31.00</td>\n",
       "      <td>43.000</td>\n",
       "      <td>56.0</td>\n",
       "    </tr>\n",
       "    <tr>\n",
       "      <th>Humidity9am</th>\n",
       "      <td>1477.0</td>\n",
       "      <td>68.688558</td>\n",
       "      <td>18.876448</td>\n",
       "      <td>4.0</td>\n",
       "      <td>20.000</td>\n",
       "      <td>36.000</td>\n",
       "      <td>44.00</td>\n",
       "      <td>57.0</td>\n",
       "      <td>69.0</td>\n",
       "      <td>82.0</td>\n",
       "      <td>95.00</td>\n",
       "      <td>100.000</td>\n",
       "      <td>100.0</td>\n",
       "    </tr>\n",
       "    <tr>\n",
       "      <th>Humidity3pm</th>\n",
       "      <td>1472.0</td>\n",
       "      <td>51.431386</td>\n",
       "      <td>20.459957</td>\n",
       "      <td>2.0</td>\n",
       "      <td>8.710</td>\n",
       "      <td>18.000</td>\n",
       "      <td>23.00</td>\n",
       "      <td>37.0</td>\n",
       "      <td>52.0</td>\n",
       "      <td>66.0</td>\n",
       "      <td>78.00</td>\n",
       "      <td>96.290</td>\n",
       "      <td>100.0</td>\n",
       "    </tr>\n",
       "    <tr>\n",
       "      <th>Pressure9am</th>\n",
       "      <td>1352.0</td>\n",
       "      <td>1017.763536</td>\n",
       "      <td>6.910275</td>\n",
       "      <td>988.5</td>\n",
       "      <td>1000.900</td>\n",
       "      <td>1006.255</td>\n",
       "      <td>1008.61</td>\n",
       "      <td>1013.2</td>\n",
       "      <td>1017.8</td>\n",
       "      <td>1022.3</td>\n",
       "      <td>1026.50</td>\n",
       "      <td>1033.449</td>\n",
       "      <td>1038.2</td>\n",
       "    </tr>\n",
       "    <tr>\n",
       "      <th>Pressure3pm</th>\n",
       "      <td>1350.0</td>\n",
       "      <td>1015.397926</td>\n",
       "      <td>6.916976</td>\n",
       "      <td>986.2</td>\n",
       "      <td>999.198</td>\n",
       "      <td>1003.900</td>\n",
       "      <td>1006.49</td>\n",
       "      <td>1010.9</td>\n",
       "      <td>1015.4</td>\n",
       "      <td>1020.0</td>\n",
       "      <td>1024.20</td>\n",
       "      <td>1031.151</td>\n",
       "      <td>1036.9</td>\n",
       "    </tr>\n",
       "    <tr>\n",
       "      <th>Cloud9am</th>\n",
       "      <td>940.0</td>\n",
       "      <td>4.494681</td>\n",
       "      <td>2.870468</td>\n",
       "      <td>0.0</td>\n",
       "      <td>0.000</td>\n",
       "      <td>0.000</td>\n",
       "      <td>1.00</td>\n",
       "      <td>1.0</td>\n",
       "      <td>5.0</td>\n",
       "      <td>7.0</td>\n",
       "      <td>8.00</td>\n",
       "      <td>8.000</td>\n",
       "      <td>8.0</td>\n",
       "    </tr>\n",
       "    <tr>\n",
       "      <th>Cloud3pm</th>\n",
       "      <td>917.0</td>\n",
       "      <td>4.403490</td>\n",
       "      <td>2.731969</td>\n",
       "      <td>0.0</td>\n",
       "      <td>0.000</td>\n",
       "      <td>0.000</td>\n",
       "      <td>1.00</td>\n",
       "      <td>2.0</td>\n",
       "      <td>5.0</td>\n",
       "      <td>7.0</td>\n",
       "      <td>8.00</td>\n",
       "      <td>8.000</td>\n",
       "      <td>8.0</td>\n",
       "    </tr>\n",
       "    <tr>\n",
       "      <th>Temp9am</th>\n",
       "      <td>1486.0</td>\n",
       "      <td>16.751817</td>\n",
       "      <td>6.339816</td>\n",
       "      <td>-5.3</td>\n",
       "      <td>2.370</td>\n",
       "      <td>6.725</td>\n",
       "      <td>9.00</td>\n",
       "      <td>12.1</td>\n",
       "      <td>16.5</td>\n",
       "      <td>21.3</td>\n",
       "      <td>25.45</td>\n",
       "      <td>30.200</td>\n",
       "      <td>35.1</td>\n",
       "    </tr>\n",
       "    <tr>\n",
       "      <th>Temp3pm</th>\n",
       "      <td>1481.0</td>\n",
       "      <td>21.483660</td>\n",
       "      <td>6.770567</td>\n",
       "      <td>-1.2</td>\n",
       "      <td>8.540</td>\n",
       "      <td>11.800</td>\n",
       "      <td>13.30</td>\n",
       "      <td>16.5</td>\n",
       "      <td>20.9</td>\n",
       "      <td>26.2</td>\n",
       "      <td>30.90</td>\n",
       "      <td>37.400</td>\n",
       "      <td>42.9</td>\n",
       "    </tr>\n",
       "  </tbody>\n",
       "</table>\n",
       "</div>"
      ],
      "text/plain": [
       "                count         mean        std    min        1%        5%  \\\n",
       "MinTemp        1493.0    11.916812   6.375377   -8.5    -2.024     1.600   \n",
       "MaxTemp        1498.0    22.906809   6.986043   -0.8     9.134    13.000   \n",
       "Rainfall       1483.0     2.241807   7.988822    0.0     0.000     0.000   \n",
       "Evaporation     858.0     5.657809   4.105762    0.0     0.400     1.000   \n",
       "Sunshine        781.0     7.677465   3.862294    0.0     0.000     0.300   \n",
       "WindGustSpeed  1406.0    40.044097  14.027052    9.0    15.000    20.000   \n",
       "WindSpeed9am   1483.0    13.986514   9.124337    0.0     0.000     0.000   \n",
       "WindSpeed3pm   1482.0    18.601215   8.850446    0.0     2.000     6.000   \n",
       "Humidity9am    1477.0    68.688558  18.876448    4.0    20.000    36.000   \n",
       "Humidity3pm    1472.0    51.431386  20.459957    2.0     8.710    18.000   \n",
       "Pressure9am    1352.0  1017.763536   6.910275  988.5  1000.900  1006.255   \n",
       "Pressure3pm    1350.0  1015.397926   6.916976  986.2   999.198  1003.900   \n",
       "Cloud9am        940.0     4.494681   2.870468    0.0     0.000     0.000   \n",
       "Cloud3pm        917.0     4.403490   2.731969    0.0     0.000     0.000   \n",
       "Temp9am        1486.0    16.751817   6.339816   -5.3     2.370     6.725   \n",
       "Temp3pm        1481.0    21.483660   6.770567   -1.2     8.540    11.800   \n",
       "\n",
       "                   10%     25%     50%     75%      90%       99%     max  \n",
       "MinTemp           3.70     7.3    11.8    16.5    20.48    25.316    28.3  \n",
       "MaxTemp          14.50    17.8    22.4    27.8    32.60    38.303    45.1  \n",
       "Rainfall          0.00     0.0     0.0     0.8     5.20    35.372   108.2  \n",
       "Evaporation       1.60     2.8     4.8     7.6    10.40    19.458    38.8  \n",
       "Sunshine          1.50     4.7     8.6    10.7    12.20    13.400    13.9  \n",
       "WindGustSpeed    24.00    30.0    39.0    48.0    57.00    78.000   122.0  \n",
       "WindSpeed9am      4.00     7.0    13.0    20.0    26.00    39.360    72.0  \n",
       "WindSpeed3pm      7.00    13.0    19.0    24.0    31.00    43.000    56.0  \n",
       "Humidity9am      44.00    57.0    69.0    82.0    95.00   100.000   100.0  \n",
       "Humidity3pm      23.00    37.0    52.0    66.0    78.00    96.290   100.0  \n",
       "Pressure9am    1008.61  1013.2  1017.8  1022.3  1026.50  1033.449  1038.2  \n",
       "Pressure3pm    1006.49  1010.9  1015.4  1020.0  1024.20  1031.151  1036.9  \n",
       "Cloud9am          1.00     1.0     5.0     7.0     8.00     8.000     8.0  \n",
       "Cloud3pm          1.00     2.0     5.0     7.0     8.00     8.000     8.0  \n",
       "Temp9am           9.00    12.1    16.5    21.3    25.45    30.200    35.1  \n",
       "Temp3pm          13.30    16.5    20.9    26.2    30.90    37.400    42.9  "
      ]
     },
     "execution_count": 23,
     "metadata": {},
     "output_type": "execute_result"
    }
   ],
   "source": [
    "Xtest.describe([0.01,0.05,0.1,0.25,0.5,0.75,0.9,0.99]).T"
   ]
  },
  {
   "cell_type": "markdown",
   "metadata": {},
   "source": [
    "编码跟哑变量是不能接受空值的，如果里面的文字变量有空值，然后传入encoder是会报错的"
   ]
  },
  {
   "cell_type": "markdown",
   "metadata": {},
   "source": [
    "## 处理困难特征--日期"
   ]
  },
  {
   "cell_type": "code",
   "execution_count": 24,
   "metadata": {},
   "outputs": [],
   "source": [
    "Xtrainc = Xtrain.copy()"
   ]
  },
  {
   "cell_type": "code",
   "execution_count": 25,
   "metadata": {},
   "outputs": [
    {
     "data": {
      "text/html": [
       "<div>\n",
       "<style scoped>\n",
       "    .dataframe tbody tr th:only-of-type {\n",
       "        vertical-align: middle;\n",
       "    }\n",
       "\n",
       "    .dataframe tbody tr th {\n",
       "        vertical-align: top;\n",
       "    }\n",
       "\n",
       "    .dataframe thead th {\n",
       "        text-align: right;\n",
       "    }\n",
       "</style>\n",
       "<table border=\"1\" class=\"dataframe\">\n",
       "  <thead>\n",
       "    <tr style=\"text-align: right;\">\n",
       "      <th></th>\n",
       "      <th>Date</th>\n",
       "      <th>Location</th>\n",
       "      <th>MinTemp</th>\n",
       "      <th>MaxTemp</th>\n",
       "      <th>Rainfall</th>\n",
       "      <th>Evaporation</th>\n",
       "      <th>Sunshine</th>\n",
       "      <th>WindGustDir</th>\n",
       "      <th>WindGustSpeed</th>\n",
       "      <th>WindDir9am</th>\n",
       "      <th>...</th>\n",
       "      <th>WindSpeed9am</th>\n",
       "      <th>WindSpeed3pm</th>\n",
       "      <th>Humidity9am</th>\n",
       "      <th>Humidity3pm</th>\n",
       "      <th>Pressure9am</th>\n",
       "      <th>Pressure3pm</th>\n",
       "      <th>Cloud9am</th>\n",
       "      <th>Cloud3pm</th>\n",
       "      <th>Temp9am</th>\n",
       "      <th>Temp3pm</th>\n",
       "    </tr>\n",
       "  </thead>\n",
       "  <tbody>\n",
       "    <tr>\n",
       "      <th>2796</th>\n",
       "      <td>2015-03-24</td>\n",
       "      <td>Adelaide</td>\n",
       "      <td>12.3</td>\n",
       "      <td>19.3</td>\n",
       "      <td>0.0</td>\n",
       "      <td>5.0</td>\n",
       "      <td>NaN</td>\n",
       "      <td>S</td>\n",
       "      <td>39.0</td>\n",
       "      <td>S</td>\n",
       "      <td>...</td>\n",
       "      <td>13.0</td>\n",
       "      <td>19.0</td>\n",
       "      <td>59.0</td>\n",
       "      <td>47.0</td>\n",
       "      <td>1022.2</td>\n",
       "      <td>1021.4</td>\n",
       "      <td>NaN</td>\n",
       "      <td>NaN</td>\n",
       "      <td>15.1</td>\n",
       "      <td>17.7</td>\n",
       "    </tr>\n",
       "    <tr>\n",
       "      <th>2975</th>\n",
       "      <td>2012-08-17</td>\n",
       "      <td>Adelaide</td>\n",
       "      <td>7.8</td>\n",
       "      <td>13.2</td>\n",
       "      <td>17.6</td>\n",
       "      <td>0.8</td>\n",
       "      <td>NaN</td>\n",
       "      <td>SW</td>\n",
       "      <td>61.0</td>\n",
       "      <td>SW</td>\n",
       "      <td>...</td>\n",
       "      <td>20.0</td>\n",
       "      <td>28.0</td>\n",
       "      <td>76.0</td>\n",
       "      <td>47.0</td>\n",
       "      <td>1012.5</td>\n",
       "      <td>1014.7</td>\n",
       "      <td>NaN</td>\n",
       "      <td>NaN</td>\n",
       "      <td>8.3</td>\n",
       "      <td>12.5</td>\n",
       "    </tr>\n",
       "    <tr>\n",
       "      <th>775</th>\n",
       "      <td>2013-03-16</td>\n",
       "      <td>Adelaide</td>\n",
       "      <td>17.4</td>\n",
       "      <td>23.8</td>\n",
       "      <td>NaN</td>\n",
       "      <td>NaN</td>\n",
       "      <td>9.7</td>\n",
       "      <td>SSE</td>\n",
       "      <td>46.0</td>\n",
       "      <td>S</td>\n",
       "      <td>...</td>\n",
       "      <td>9.0</td>\n",
       "      <td>19.0</td>\n",
       "      <td>63.0</td>\n",
       "      <td>57.0</td>\n",
       "      <td>1019.9</td>\n",
       "      <td>1020.5</td>\n",
       "      <td>NaN</td>\n",
       "      <td>NaN</td>\n",
       "      <td>19.1</td>\n",
       "      <td>20.7</td>\n",
       "    </tr>\n",
       "    <tr>\n",
       "      <th>861</th>\n",
       "      <td>2011-07-12</td>\n",
       "      <td>Adelaide</td>\n",
       "      <td>7.9</td>\n",
       "      <td>11.4</td>\n",
       "      <td>0.0</td>\n",
       "      <td>1.0</td>\n",
       "      <td>0.5</td>\n",
       "      <td>N</td>\n",
       "      <td>20.0</td>\n",
       "      <td>NNE</td>\n",
       "      <td>...</td>\n",
       "      <td>7.0</td>\n",
       "      <td>7.0</td>\n",
       "      <td>70.0</td>\n",
       "      <td>59.0</td>\n",
       "      <td>1028.7</td>\n",
       "      <td>1025.7</td>\n",
       "      <td>NaN</td>\n",
       "      <td>NaN</td>\n",
       "      <td>8.4</td>\n",
       "      <td>11.3</td>\n",
       "    </tr>\n",
       "    <tr>\n",
       "      <th>2906</th>\n",
       "      <td>2015-08-24</td>\n",
       "      <td>Adelaide</td>\n",
       "      <td>9.2</td>\n",
       "      <td>14.3</td>\n",
       "      <td>0.0</td>\n",
       "      <td>NaN</td>\n",
       "      <td>NaN</td>\n",
       "      <td>SE</td>\n",
       "      <td>48.0</td>\n",
       "      <td>SE</td>\n",
       "      <td>...</td>\n",
       "      <td>17.0</td>\n",
       "      <td>19.0</td>\n",
       "      <td>64.0</td>\n",
       "      <td>42.0</td>\n",
       "      <td>1024.7</td>\n",
       "      <td>1024.1</td>\n",
       "      <td>NaN</td>\n",
       "      <td>NaN</td>\n",
       "      <td>9.9</td>\n",
       "      <td>13.4</td>\n",
       "    </tr>\n",
       "    <tr>\n",
       "      <th>...</th>\n",
       "      <td>...</td>\n",
       "      <td>...</td>\n",
       "      <td>...</td>\n",
       "      <td>...</td>\n",
       "      <td>...</td>\n",
       "      <td>...</td>\n",
       "      <td>...</td>\n",
       "      <td>...</td>\n",
       "      <td>...</td>\n",
       "      <td>...</td>\n",
       "      <td>...</td>\n",
       "      <td>...</td>\n",
       "      <td>...</td>\n",
       "      <td>...</td>\n",
       "      <td>...</td>\n",
       "      <td>...</td>\n",
       "      <td>...</td>\n",
       "      <td>...</td>\n",
       "      <td>...</td>\n",
       "      <td>...</td>\n",
       "      <td>...</td>\n",
       "    </tr>\n",
       "    <tr>\n",
       "      <th>2223</th>\n",
       "      <td>2009-05-08</td>\n",
       "      <td>Woomera</td>\n",
       "      <td>9.2</td>\n",
       "      <td>20.6</td>\n",
       "      <td>0.0</td>\n",
       "      <td>5.2</td>\n",
       "      <td>10.4</td>\n",
       "      <td>ESE</td>\n",
       "      <td>37.0</td>\n",
       "      <td>SE</td>\n",
       "      <td>...</td>\n",
       "      <td>19.0</td>\n",
       "      <td>19.0</td>\n",
       "      <td>64.0</td>\n",
       "      <td>34.0</td>\n",
       "      <td>1030.5</td>\n",
       "      <td>1026.9</td>\n",
       "      <td>0.0</td>\n",
       "      <td>1.0</td>\n",
       "      <td>13.7</td>\n",
       "      <td>20.1</td>\n",
       "    </tr>\n",
       "    <tr>\n",
       "      <th>1984</th>\n",
       "      <td>2014-05-26</td>\n",
       "      <td>Woomera</td>\n",
       "      <td>15.5</td>\n",
       "      <td>23.6</td>\n",
       "      <td>0.0</td>\n",
       "      <td>24.0</td>\n",
       "      <td>NaN</td>\n",
       "      <td>NNW</td>\n",
       "      <td>43.0</td>\n",
       "      <td>NNE</td>\n",
       "      <td>...</td>\n",
       "      <td>9.0</td>\n",
       "      <td>26.0</td>\n",
       "      <td>49.0</td>\n",
       "      <td>37.0</td>\n",
       "      <td>1014.2</td>\n",
       "      <td>1010.3</td>\n",
       "      <td>7.0</td>\n",
       "      <td>7.0</td>\n",
       "      <td>18.0</td>\n",
       "      <td>21.5</td>\n",
       "    </tr>\n",
       "    <tr>\n",
       "      <th>1592</th>\n",
       "      <td>2012-01-10</td>\n",
       "      <td>Woomera</td>\n",
       "      <td>16.8</td>\n",
       "      <td>26.7</td>\n",
       "      <td>0.0</td>\n",
       "      <td>10.0</td>\n",
       "      <td>5.3</td>\n",
       "      <td>SW</td>\n",
       "      <td>46.0</td>\n",
       "      <td>S</td>\n",
       "      <td>...</td>\n",
       "      <td>20.0</td>\n",
       "      <td>22.0</td>\n",
       "      <td>52.0</td>\n",
       "      <td>33.0</td>\n",
       "      <td>1019.1</td>\n",
       "      <td>1016.8</td>\n",
       "      <td>4.0</td>\n",
       "      <td>6.0</td>\n",
       "      <td>18.3</td>\n",
       "      <td>24.9</td>\n",
       "    </tr>\n",
       "    <tr>\n",
       "      <th>2824</th>\n",
       "      <td>2015-11-03</td>\n",
       "      <td>Woomera</td>\n",
       "      <td>16.2</td>\n",
       "      <td>28.5</td>\n",
       "      <td>7.8</td>\n",
       "      <td>4.2</td>\n",
       "      <td>4.5</td>\n",
       "      <td>WSW</td>\n",
       "      <td>80.0</td>\n",
       "      <td>NE</td>\n",
       "      <td>...</td>\n",
       "      <td>26.0</td>\n",
       "      <td>50.0</td>\n",
       "      <td>76.0</td>\n",
       "      <td>53.0</td>\n",
       "      <td>1009.6</td>\n",
       "      <td>1006.8</td>\n",
       "      <td>6.0</td>\n",
       "      <td>7.0</td>\n",
       "      <td>20.5</td>\n",
       "      <td>26.2</td>\n",
       "    </tr>\n",
       "    <tr>\n",
       "      <th>1005</th>\n",
       "      <td>2010-05-14</td>\n",
       "      <td>Woomera</td>\n",
       "      <td>3.9</td>\n",
       "      <td>19.3</td>\n",
       "      <td>0.0</td>\n",
       "      <td>5.8</td>\n",
       "      <td>10.5</td>\n",
       "      <td>NE</td>\n",
       "      <td>33.0</td>\n",
       "      <td>ENE</td>\n",
       "      <td>...</td>\n",
       "      <td>15.0</td>\n",
       "      <td>13.0</td>\n",
       "      <td>43.0</td>\n",
       "      <td>19.0</td>\n",
       "      <td>1020.2</td>\n",
       "      <td>1016.4</td>\n",
       "      <td>1.0</td>\n",
       "      <td>1.0</td>\n",
       "      <td>11.5</td>\n",
       "      <td>18.5</td>\n",
       "    </tr>\n",
       "  </tbody>\n",
       "</table>\n",
       "<p>3500 rows × 21 columns</p>\n",
       "</div>"
      ],
      "text/plain": [
       "            Date  Location  MinTemp  MaxTemp  Rainfall  Evaporation  Sunshine  \\\n",
       "2796  2015-03-24  Adelaide     12.3     19.3       0.0          5.0       NaN   \n",
       "2975  2012-08-17  Adelaide      7.8     13.2      17.6          0.8       NaN   \n",
       "775   2013-03-16  Adelaide     17.4     23.8       NaN          NaN       9.7   \n",
       "861   2011-07-12  Adelaide      7.9     11.4       0.0          1.0       0.5   \n",
       "2906  2015-08-24  Adelaide      9.2     14.3       0.0          NaN       NaN   \n",
       "...          ...       ...      ...      ...       ...          ...       ...   \n",
       "2223  2009-05-08   Woomera      9.2     20.6       0.0          5.2      10.4   \n",
       "1984  2014-05-26   Woomera     15.5     23.6       0.0         24.0       NaN   \n",
       "1592  2012-01-10   Woomera     16.8     26.7       0.0         10.0       5.3   \n",
       "2824  2015-11-03   Woomera     16.2     28.5       7.8          4.2       4.5   \n",
       "1005  2010-05-14   Woomera      3.9     19.3       0.0          5.8      10.5   \n",
       "\n",
       "     WindGustDir  WindGustSpeed WindDir9am  ... WindSpeed9am  WindSpeed3pm  \\\n",
       "2796           S           39.0          S  ...         13.0          19.0   \n",
       "2975          SW           61.0         SW  ...         20.0          28.0   \n",
       "775          SSE           46.0          S  ...          9.0          19.0   \n",
       "861            N           20.0        NNE  ...          7.0           7.0   \n",
       "2906          SE           48.0         SE  ...         17.0          19.0   \n",
       "...          ...            ...        ...  ...          ...           ...   \n",
       "2223         ESE           37.0         SE  ...         19.0          19.0   \n",
       "1984         NNW           43.0        NNE  ...          9.0          26.0   \n",
       "1592          SW           46.0          S  ...         20.0          22.0   \n",
       "2824         WSW           80.0         NE  ...         26.0          50.0   \n",
       "1005          NE           33.0        ENE  ...         15.0          13.0   \n",
       "\n",
       "      Humidity9am  Humidity3pm  Pressure9am  Pressure3pm  Cloud9am  Cloud3pm  \\\n",
       "2796         59.0         47.0       1022.2       1021.4       NaN       NaN   \n",
       "2975         76.0         47.0       1012.5       1014.7       NaN       NaN   \n",
       "775          63.0         57.0       1019.9       1020.5       NaN       NaN   \n",
       "861          70.0         59.0       1028.7       1025.7       NaN       NaN   \n",
       "2906         64.0         42.0       1024.7       1024.1       NaN       NaN   \n",
       "...           ...          ...          ...          ...       ...       ...   \n",
       "2223         64.0         34.0       1030.5       1026.9       0.0       1.0   \n",
       "1984         49.0         37.0       1014.2       1010.3       7.0       7.0   \n",
       "1592         52.0         33.0       1019.1       1016.8       4.0       6.0   \n",
       "2824         76.0         53.0       1009.6       1006.8       6.0       7.0   \n",
       "1005         43.0         19.0       1020.2       1016.4       1.0       1.0   \n",
       "\n",
       "      Temp9am  Temp3pm  \n",
       "2796     15.1     17.7  \n",
       "2975      8.3     12.5  \n",
       "775      19.1     20.7  \n",
       "861       8.4     11.3  \n",
       "2906      9.9     13.4  \n",
       "...       ...      ...  \n",
       "2223     13.7     20.1  \n",
       "1984     18.0     21.5  \n",
       "1592     18.3     24.9  \n",
       "2824     20.5     26.2  \n",
       "1005     11.5     18.5  \n",
       "\n",
       "[3500 rows x 21 columns]"
      ]
     },
     "execution_count": 25,
     "metadata": {},
     "output_type": "execute_result"
    }
   ],
   "source": [
    "Xtrainc.sort_values(by=\"Location\")"
   ]
  },
  {
   "cell_type": "code",
   "execution_count": 28,
   "metadata": {},
   "outputs": [
    {
     "data": {
      "text/plain": [
       "pandas.core.series.Series"
      ]
     },
     "execution_count": 28,
     "metadata": {},
     "output_type": "execute_result"
    }
   ],
   "source": [
    "type(Xtrain.iloc[:,0])\n",
    "\n",
    "#这是字符串肯定不行，得处理成数字"
   ]
  },
  {
   "cell_type": "markdown",
   "metadata": {},
   "source": [
    "日期是天生分类型数据，一年上分成365类（365天）的分类型变量"
   ]
  },
  {
   "cell_type": "code",
   "execution_count": 26,
   "metadata": {},
   "outputs": [],
   "source": [
    "#现在拥有的日期特征，是连续型特征，还是分类型特征\n",
    "#2019-1-6\n",
    "#2019-1-6.5\n",
    "#日期是一年分了365类的分类型变量\n",
    "#的日期特征中，日期是否有重复"
   ]
  },
  {
   "cell_type": "markdown",
   "metadata": {},
   "source": [
    "#### 对象.value_counts()返回observation的分类型变量里面的个数，可以看是否有重复"
   ]
  },
  {
   "cell_type": "code",
   "execution_count": 27,
   "metadata": {
    "scrolled": true
   },
   "outputs": [
    {
     "data": {
      "text/plain": [
       "2015-10-12    6\n",
       "2014-05-16    6\n",
       "2015-07-03    6\n",
       "2012-07-18    5\n",
       "2016-11-01    5\n",
       "             ..\n",
       "2015-04-24    1\n",
       "2010-09-22    1\n",
       "2015-08-30    1\n",
       "2012-04-07    1\n",
       "2014-11-21    1\n",
       "Name: Date, Length: 2141, dtype: int64"
      ]
     },
     "execution_count": 27,
     "metadata": {},
     "output_type": "execute_result"
    }
   ],
   "source": [
    "Xtrain.iloc[:,0].value_counts()\n",
    "#不同地点上一段相似的时间的数据"
   ]
  },
  {
   "cell_type": "code",
   "execution_count": 29,
   "metadata": {},
   "outputs": [
    {
     "data": {
      "text/html": [
       "<div>\n",
       "<style scoped>\n",
       "    .dataframe tbody tr th:only-of-type {\n",
       "        vertical-align: middle;\n",
       "    }\n",
       "\n",
       "    .dataframe tbody tr th {\n",
       "        vertical-align: top;\n",
       "    }\n",
       "\n",
       "    .dataframe thead th {\n",
       "        text-align: right;\n",
       "    }\n",
       "</style>\n",
       "<table border=\"1\" class=\"dataframe\">\n",
       "  <thead>\n",
       "    <tr style=\"text-align: right;\">\n",
       "      <th></th>\n",
       "      <th>Date</th>\n",
       "      <th>Location</th>\n",
       "      <th>MinTemp</th>\n",
       "      <th>MaxTemp</th>\n",
       "      <th>Rainfall</th>\n",
       "      <th>Evaporation</th>\n",
       "      <th>Sunshine</th>\n",
       "      <th>WindGustDir</th>\n",
       "      <th>WindGustSpeed</th>\n",
       "      <th>WindDir9am</th>\n",
       "      <th>...</th>\n",
       "      <th>WindSpeed9am</th>\n",
       "      <th>WindSpeed3pm</th>\n",
       "      <th>Humidity9am</th>\n",
       "      <th>Humidity3pm</th>\n",
       "      <th>Pressure9am</th>\n",
       "      <th>Pressure3pm</th>\n",
       "      <th>Cloud9am</th>\n",
       "      <th>Cloud3pm</th>\n",
       "      <th>Temp9am</th>\n",
       "      <th>Temp3pm</th>\n",
       "    </tr>\n",
       "  </thead>\n",
       "  <tbody>\n",
       "    <tr>\n",
       "      <th>0</th>\n",
       "      <td>2015-08-24</td>\n",
       "      <td>Katherine</td>\n",
       "      <td>17.5</td>\n",
       "      <td>36.0</td>\n",
       "      <td>0.0</td>\n",
       "      <td>8.8</td>\n",
       "      <td>NaN</td>\n",
       "      <td>ESE</td>\n",
       "      <td>26.0</td>\n",
       "      <td>NNW</td>\n",
       "      <td>...</td>\n",
       "      <td>17.0</td>\n",
       "      <td>15.0</td>\n",
       "      <td>57.0</td>\n",
       "      <td>NaN</td>\n",
       "      <td>1016.8</td>\n",
       "      <td>1012.2</td>\n",
       "      <td>0.0</td>\n",
       "      <td>NaN</td>\n",
       "      <td>27.5</td>\n",
       "      <td>NaN</td>\n",
       "    </tr>\n",
       "    <tr>\n",
       "      <th>2906</th>\n",
       "      <td>2015-08-24</td>\n",
       "      <td>Adelaide</td>\n",
       "      <td>9.2</td>\n",
       "      <td>14.3</td>\n",
       "      <td>0.0</td>\n",
       "      <td>NaN</td>\n",
       "      <td>NaN</td>\n",
       "      <td>SE</td>\n",
       "      <td>48.0</td>\n",
       "      <td>SE</td>\n",
       "      <td>...</td>\n",
       "      <td>17.0</td>\n",
       "      <td>19.0</td>\n",
       "      <td>64.0</td>\n",
       "      <td>42.0</td>\n",
       "      <td>1024.7</td>\n",
       "      <td>1024.1</td>\n",
       "      <td>NaN</td>\n",
       "      <td>NaN</td>\n",
       "      <td>9.9</td>\n",
       "      <td>13.4</td>\n",
       "    </tr>\n",
       "  </tbody>\n",
       "</table>\n",
       "<p>2 rows × 21 columns</p>\n",
       "</div>"
      ],
      "text/plain": [
       "            Date   Location  MinTemp  MaxTemp  Rainfall  Evaporation  \\\n",
       "0     2015-08-24  Katherine     17.5     36.0       0.0          8.8   \n",
       "2906  2015-08-24   Adelaide      9.2     14.3       0.0          NaN   \n",
       "\n",
       "      Sunshine WindGustDir  WindGustSpeed WindDir9am  ... WindSpeed9am  \\\n",
       "0          NaN         ESE           26.0        NNW  ...         17.0   \n",
       "2906       NaN          SE           48.0         SE  ...         17.0   \n",
       "\n",
       "      WindSpeed3pm  Humidity9am  Humidity3pm  Pressure9am  Pressure3pm  \\\n",
       "0             15.0         57.0          NaN       1016.8       1012.2   \n",
       "2906          19.0         64.0         42.0       1024.7       1024.1   \n",
       "\n",
       "      Cloud9am  Cloud3pm  Temp9am  Temp3pm  \n",
       "0          0.0       NaN     27.5      NaN  \n",
       "2906       NaN       NaN      9.9     13.4  \n",
       "\n",
       "[2 rows x 21 columns]"
      ]
     },
     "execution_count": 29,
     "metadata": {},
     "output_type": "execute_result"
    }
   ],
   "source": [
    "Xtrain.loc[Xtrain.iloc[:,0] == \"2015-08-24\",:]"
   ]
  },
  {
   "cell_type": "code",
   "execution_count": 30,
   "metadata": {},
   "outputs": [],
   "source": [
    "#首先，日期不是独一无二的，日期有重复\n",
    "#其次，在分训练集和测试集之后，日期也不是连续的，而是分散的\n",
    "#某一年的某一天倾向于会下雨？或者倾向于不会下雨吗？\n",
    "#不是日期影响了下雨与否，反而更多的是这一天的日照时间，湿度，温度等等这些因素影响了是否会下雨\n",
    "#光看日期，其实感觉它对我们的判断并无直接影响\n",
    "#如果我们把它当作连续型变量处理，那算法会人为它是一系列1~3000左右的数字，不会意识到这是日期"
   ]
  },
  {
   "cell_type": "code",
   "execution_count": 31,
   "metadata": {},
   "outputs": [
    {
     "data": {
      "text/plain": [
       "2141"
      ]
     },
     "execution_count": 31,
     "metadata": {},
     "output_type": "execute_result"
    }
   ],
   "source": [
    "Xtrain.iloc[:,0].value_counts().count()\n",
    "#如果我们把它当作分类型变量处理，类别太多，有2141类，如果换成数值型，会被直接当成连续型变量，如果做成哑变量，我们特征的维度会爆炸"
   ]
  },
  {
   "cell_type": "markdown",
   "metadata": {},
   "source": [
    "如果思考简单些，可以直接删除日期这个特征。\n",
    "\n",
    "但是首先他不是一个直接影响label的特征，并且要处理日期是非常困难的。\n",
    "\n",
    "先尝试删除日期做下去"
   ]
  },
  {
   "cell_type": "code",
   "execution_count": 32,
   "metadata": {},
   "outputs": [
    {
     "data": {
      "text/plain": [
       "0      0.0\n",
       "1      0.0\n",
       "2      0.0\n",
       "3      0.0\n",
       "4      0.0\n",
       "5      0.0\n",
       "6      0.0\n",
       "7      0.2\n",
       "8      0.0\n",
       "9      0.2\n",
       "10     1.0\n",
       "11     0.0\n",
       "12     0.2\n",
       "13     0.0\n",
       "14     0.0\n",
       "15     3.0\n",
       "16     0.2\n",
       "17     0.0\n",
       "18    35.2\n",
       "19     0.0\n",
       "Name: Rainfall, dtype: float64"
      ]
     },
     "execution_count": 32,
     "metadata": {},
     "output_type": "execute_result"
    }
   ],
   "source": [
    "Xtrain[\"Rainfall\"].head(20)\n",
    "#这里算是自己设置的threshold，降雨量大于多少算降雨"
   ]
  },
  {
   "cell_type": "code",
   "execution_count": 36,
   "metadata": {},
   "outputs": [
    {
     "data": {
      "text/plain": [
       "count    1483.000000\n",
       "mean        2.241807\n",
       "std         7.988822\n",
       "min         0.000000\n",
       "1%          0.000000\n",
       "5%          0.000000\n",
       "10%         0.000000\n",
       "25%         0.000000\n",
       "50%         0.000000\n",
       "75%         0.800000\n",
       "90%         5.200000\n",
       "99%        35.372000\n",
       "max       108.200000\n",
       "Name: Rainfall, dtype: float64"
      ]
     },
     "execution_count": 36,
     "metadata": {},
     "output_type": "execute_result"
    }
   ],
   "source": [
    "Xtest.loc[:,'Rainfall'].describe([0.01,0.05,0.1,0.25,0.5,0.75,0.9,0.99])"
   ]
  },
  {
   "cell_type": "markdown",
   "metadata": {},
   "source": [
    "首先有偏态分布，75%开始才有0.8，再对比90%以上和最大值的数值，所以在这里设置假如说rainfall>0就算下雨的话有点不靠谱，可以人为把threshold往上推一推"
   ]
  },
  {
   "cell_type": "code",
   "execution_count": 37,
   "metadata": {},
   "outputs": [
    {
     "data": {
      "text/plain": [
       "33"
      ]
     },
     "execution_count": 37,
     "metadata": {},
     "output_type": "execute_result"
    }
   ],
   "source": [
    "Xtrain[\"Rainfall\"].isnull().sum()\n",
    "#假设你没有下雨\n",
    "#复制你的空值"
   ]
  },
  {
   "cell_type": "markdown",
   "metadata": {},
   "source": [
    "如果rainfall里面有空值的话下面跑if loop会报错的"
   ]
  },
  {
   "cell_type": "code",
   "execution_count": 38,
   "metadata": {},
   "outputs": [
    {
     "name": "stderr",
     "output_type": "stream",
     "text": [
      "/Users/byronleung/opt/anaconda3/lib/python3.7/site-packages/pandas/core/indexing.py:376: SettingWithCopyWarning: \n",
      "A value is trying to be set on a copy of a slice from a DataFrame.\n",
      "Try using .loc[row_indexer,col_indexer] = value instead\n",
      "\n",
      "See the caveats in the documentation: http://pandas.pydata.org/pandas-docs/stable/user_guide/indexing.html#returning-a-view-versus-a-copy\n",
      "  self.obj[key] = _infer_fill_value(value)\n",
      "/Users/byronleung/opt/anaconda3/lib/python3.7/site-packages/pandas/core/indexing.py:494: SettingWithCopyWarning: \n",
      "A value is trying to be set on a copy of a slice from a DataFrame.\n",
      "Try using .loc[row_indexer,col_indexer] = value instead\n",
      "\n",
      "See the caveats in the documentation: http://pandas.pydata.org/pandas-docs/stable/user_guide/indexing.html#returning-a-view-versus-a-copy\n",
      "  self.obj[item] = s\n"
     ]
    }
   ],
   "source": [
    "Xtrain.loc[Xtrain[\"Rainfall\"] >= 1,\"RainToday\"] = \"Yes\"\n",
    "Xtrain.loc[Xtrain[\"Rainfall\"] < 1,\"RainToday\"] = \"No\"\n",
    "Xtrain.loc[Xtrain[\"Rainfall\"] == np.nan,\"RainToday\"] = np.nan #这个是复制空值的办法"
   ]
  },
  {
   "cell_type": "code",
   "execution_count": 39,
   "metadata": {},
   "outputs": [
    {
     "data": {
      "text/html": [
       "<div>\n",
       "<style scoped>\n",
       "    .dataframe tbody tr th:only-of-type {\n",
       "        vertical-align: middle;\n",
       "    }\n",
       "\n",
       "    .dataframe tbody tr th {\n",
       "        vertical-align: top;\n",
       "    }\n",
       "\n",
       "    .dataframe thead th {\n",
       "        text-align: right;\n",
       "    }\n",
       "</style>\n",
       "<table border=\"1\" class=\"dataframe\">\n",
       "  <thead>\n",
       "    <tr style=\"text-align: right;\">\n",
       "      <th></th>\n",
       "      <th>Date</th>\n",
       "      <th>Location</th>\n",
       "      <th>MinTemp</th>\n",
       "      <th>MaxTemp</th>\n",
       "      <th>Rainfall</th>\n",
       "      <th>Evaporation</th>\n",
       "      <th>Sunshine</th>\n",
       "      <th>WindGustDir</th>\n",
       "      <th>WindGustSpeed</th>\n",
       "      <th>WindDir9am</th>\n",
       "      <th>...</th>\n",
       "      <th>WindSpeed3pm</th>\n",
       "      <th>Humidity9am</th>\n",
       "      <th>Humidity3pm</th>\n",
       "      <th>Pressure9am</th>\n",
       "      <th>Pressure3pm</th>\n",
       "      <th>Cloud9am</th>\n",
       "      <th>Cloud3pm</th>\n",
       "      <th>Temp9am</th>\n",
       "      <th>Temp3pm</th>\n",
       "      <th>RainToday</th>\n",
       "    </tr>\n",
       "  </thead>\n",
       "  <tbody>\n",
       "    <tr>\n",
       "      <th>0</th>\n",
       "      <td>2015-08-24</td>\n",
       "      <td>Katherine</td>\n",
       "      <td>17.5</td>\n",
       "      <td>36.0</td>\n",
       "      <td>0.0</td>\n",
       "      <td>8.8</td>\n",
       "      <td>NaN</td>\n",
       "      <td>ESE</td>\n",
       "      <td>26.0</td>\n",
       "      <td>NNW</td>\n",
       "      <td>...</td>\n",
       "      <td>15.0</td>\n",
       "      <td>57.0</td>\n",
       "      <td>NaN</td>\n",
       "      <td>1016.8</td>\n",
       "      <td>1012.2</td>\n",
       "      <td>0.0</td>\n",
       "      <td>NaN</td>\n",
       "      <td>27.5</td>\n",
       "      <td>NaN</td>\n",
       "      <td>No</td>\n",
       "    </tr>\n",
       "    <tr>\n",
       "      <th>1</th>\n",
       "      <td>2016-12-10</td>\n",
       "      <td>Tuggeranong</td>\n",
       "      <td>9.5</td>\n",
       "      <td>25.0</td>\n",
       "      <td>0.0</td>\n",
       "      <td>NaN</td>\n",
       "      <td>NaN</td>\n",
       "      <td>NNW</td>\n",
       "      <td>33.0</td>\n",
       "      <td>NE</td>\n",
       "      <td>...</td>\n",
       "      <td>17.0</td>\n",
       "      <td>59.0</td>\n",
       "      <td>31.0</td>\n",
       "      <td>1020.4</td>\n",
       "      <td>1017.5</td>\n",
       "      <td>NaN</td>\n",
       "      <td>NaN</td>\n",
       "      <td>14.6</td>\n",
       "      <td>23.6</td>\n",
       "      <td>No</td>\n",
       "    </tr>\n",
       "    <tr>\n",
       "      <th>2</th>\n",
       "      <td>2010-04-18</td>\n",
       "      <td>Albany</td>\n",
       "      <td>13.0</td>\n",
       "      <td>22.6</td>\n",
       "      <td>0.0</td>\n",
       "      <td>3.8</td>\n",
       "      <td>10.4</td>\n",
       "      <td>NaN</td>\n",
       "      <td>NaN</td>\n",
       "      <td>NE</td>\n",
       "      <td>...</td>\n",
       "      <td>31.0</td>\n",
       "      <td>79.0</td>\n",
       "      <td>68.0</td>\n",
       "      <td>1020.3</td>\n",
       "      <td>1015.7</td>\n",
       "      <td>1.0</td>\n",
       "      <td>3.0</td>\n",
       "      <td>17.5</td>\n",
       "      <td>20.8</td>\n",
       "      <td>No</td>\n",
       "    </tr>\n",
       "    <tr>\n",
       "      <th>3</th>\n",
       "      <td>2009-11-26</td>\n",
       "      <td>Sale</td>\n",
       "      <td>13.9</td>\n",
       "      <td>29.8</td>\n",
       "      <td>0.0</td>\n",
       "      <td>5.8</td>\n",
       "      <td>5.1</td>\n",
       "      <td>S</td>\n",
       "      <td>37.0</td>\n",
       "      <td>N</td>\n",
       "      <td>...</td>\n",
       "      <td>28.0</td>\n",
       "      <td>82.0</td>\n",
       "      <td>44.0</td>\n",
       "      <td>1012.5</td>\n",
       "      <td>1005.9</td>\n",
       "      <td>6.0</td>\n",
       "      <td>6.0</td>\n",
       "      <td>18.5</td>\n",
       "      <td>27.5</td>\n",
       "      <td>No</td>\n",
       "    </tr>\n",
       "    <tr>\n",
       "      <th>4</th>\n",
       "      <td>2014-04-25</td>\n",
       "      <td>Mildura</td>\n",
       "      <td>6.0</td>\n",
       "      <td>23.5</td>\n",
       "      <td>0.0</td>\n",
       "      <td>2.8</td>\n",
       "      <td>8.6</td>\n",
       "      <td>NNE</td>\n",
       "      <td>24.0</td>\n",
       "      <td>E</td>\n",
       "      <td>...</td>\n",
       "      <td>15.0</td>\n",
       "      <td>58.0</td>\n",
       "      <td>35.0</td>\n",
       "      <td>1019.8</td>\n",
       "      <td>1014.1</td>\n",
       "      <td>2.0</td>\n",
       "      <td>4.0</td>\n",
       "      <td>12.4</td>\n",
       "      <td>22.4</td>\n",
       "      <td>No</td>\n",
       "    </tr>\n",
       "  </tbody>\n",
       "</table>\n",
       "<p>5 rows × 22 columns</p>\n",
       "</div>"
      ],
      "text/plain": [
       "         Date     Location  MinTemp  MaxTemp  Rainfall  Evaporation  Sunshine  \\\n",
       "0  2015-08-24    Katherine     17.5     36.0       0.0          8.8       NaN   \n",
       "1  2016-12-10  Tuggeranong      9.5     25.0       0.0          NaN       NaN   \n",
       "2  2010-04-18       Albany     13.0     22.6       0.0          3.8      10.4   \n",
       "3  2009-11-26         Sale     13.9     29.8       0.0          5.8       5.1   \n",
       "4  2014-04-25      Mildura      6.0     23.5       0.0          2.8       8.6   \n",
       "\n",
       "  WindGustDir  WindGustSpeed WindDir9am  ... WindSpeed3pm  Humidity9am  \\\n",
       "0         ESE           26.0        NNW  ...         15.0         57.0   \n",
       "1         NNW           33.0         NE  ...         17.0         59.0   \n",
       "2         NaN            NaN         NE  ...         31.0         79.0   \n",
       "3           S           37.0          N  ...         28.0         82.0   \n",
       "4         NNE           24.0          E  ...         15.0         58.0   \n",
       "\n",
       "   Humidity3pm  Pressure9am  Pressure3pm  Cloud9am  Cloud3pm  Temp9am  \\\n",
       "0          NaN       1016.8       1012.2       0.0       NaN     27.5   \n",
       "1         31.0       1020.4       1017.5       NaN       NaN     14.6   \n",
       "2         68.0       1020.3       1015.7       1.0       3.0     17.5   \n",
       "3         44.0       1012.5       1005.9       6.0       6.0     18.5   \n",
       "4         35.0       1019.8       1014.1       2.0       4.0     12.4   \n",
       "\n",
       "   Temp3pm  RainToday  \n",
       "0      NaN         No  \n",
       "1     23.6         No  \n",
       "2     20.8         No  \n",
       "3     27.5         No  \n",
       "4     22.4         No  \n",
       "\n",
       "[5 rows x 22 columns]"
      ]
     },
     "execution_count": 39,
     "metadata": {},
     "output_type": "execute_result"
    }
   ],
   "source": [
    "Xtrain.head()"
   ]
  },
  {
   "cell_type": "code",
   "execution_count": 40,
   "metadata": {},
   "outputs": [
    {
     "data": {
      "text/plain": [
       "No     2642\n",
       "Yes     825\n",
       "Name: RainToday, dtype: int64"
      ]
     },
     "execution_count": 40,
     "metadata": {},
     "output_type": "execute_result"
    }
   ],
   "source": [
    "Xtrain.loc[:,\"RainToday\"].value_counts()"
   ]
  },
  {
   "cell_type": "markdown",
   "metadata": {},
   "source": [
    "训练集做了别忘了测试集也做一做，不然model训练不了"
   ]
  },
  {
   "cell_type": "code",
   "execution_count": 41,
   "metadata": {},
   "outputs": [],
   "source": [
    "Xtest.loc[Xtest[\"Rainfall\"] >= 1,\"RainToday\"] = \"Yes\"\n",
    "Xtest.loc[Xtest[\"Rainfall\"] < 1,\"RainToday\"] = \"No\"\n",
    "Xtest.loc[Xtest[\"Rainfall\"] == np.nan,\"RainToday\"] = np.nan"
   ]
  },
  {
   "cell_type": "code",
   "execution_count": 42,
   "metadata": {},
   "outputs": [
    {
     "data": {
      "text/html": [
       "<div>\n",
       "<style scoped>\n",
       "    .dataframe tbody tr th:only-of-type {\n",
       "        vertical-align: middle;\n",
       "    }\n",
       "\n",
       "    .dataframe tbody tr th {\n",
       "        vertical-align: top;\n",
       "    }\n",
       "\n",
       "    .dataframe thead th {\n",
       "        text-align: right;\n",
       "    }\n",
       "</style>\n",
       "<table border=\"1\" class=\"dataframe\">\n",
       "  <thead>\n",
       "    <tr style=\"text-align: right;\">\n",
       "      <th></th>\n",
       "      <th>Date</th>\n",
       "      <th>Location</th>\n",
       "      <th>MinTemp</th>\n",
       "      <th>MaxTemp</th>\n",
       "      <th>Rainfall</th>\n",
       "      <th>Evaporation</th>\n",
       "      <th>Sunshine</th>\n",
       "      <th>WindGustDir</th>\n",
       "      <th>WindGustSpeed</th>\n",
       "      <th>WindDir9am</th>\n",
       "      <th>...</th>\n",
       "      <th>WindSpeed3pm</th>\n",
       "      <th>Humidity9am</th>\n",
       "      <th>Humidity3pm</th>\n",
       "      <th>Pressure9am</th>\n",
       "      <th>Pressure3pm</th>\n",
       "      <th>Cloud9am</th>\n",
       "      <th>Cloud3pm</th>\n",
       "      <th>Temp9am</th>\n",
       "      <th>Temp3pm</th>\n",
       "      <th>RainToday</th>\n",
       "    </tr>\n",
       "  </thead>\n",
       "  <tbody>\n",
       "    <tr>\n",
       "      <th>0</th>\n",
       "      <td>2015-08-24</td>\n",
       "      <td>Katherine</td>\n",
       "      <td>17.5</td>\n",
       "      <td>36.0</td>\n",
       "      <td>0.0</td>\n",
       "      <td>8.8</td>\n",
       "      <td>NaN</td>\n",
       "      <td>ESE</td>\n",
       "      <td>26.0</td>\n",
       "      <td>NNW</td>\n",
       "      <td>...</td>\n",
       "      <td>15.0</td>\n",
       "      <td>57.0</td>\n",
       "      <td>NaN</td>\n",
       "      <td>1016.8</td>\n",
       "      <td>1012.2</td>\n",
       "      <td>0.0</td>\n",
       "      <td>NaN</td>\n",
       "      <td>27.5</td>\n",
       "      <td>NaN</td>\n",
       "      <td>No</td>\n",
       "    </tr>\n",
       "    <tr>\n",
       "      <th>1</th>\n",
       "      <td>2016-12-10</td>\n",
       "      <td>Tuggeranong</td>\n",
       "      <td>9.5</td>\n",
       "      <td>25.0</td>\n",
       "      <td>0.0</td>\n",
       "      <td>NaN</td>\n",
       "      <td>NaN</td>\n",
       "      <td>NNW</td>\n",
       "      <td>33.0</td>\n",
       "      <td>NE</td>\n",
       "      <td>...</td>\n",
       "      <td>17.0</td>\n",
       "      <td>59.0</td>\n",
       "      <td>31.0</td>\n",
       "      <td>1020.4</td>\n",
       "      <td>1017.5</td>\n",
       "      <td>NaN</td>\n",
       "      <td>NaN</td>\n",
       "      <td>14.6</td>\n",
       "      <td>23.6</td>\n",
       "      <td>No</td>\n",
       "    </tr>\n",
       "    <tr>\n",
       "      <th>2</th>\n",
       "      <td>2010-04-18</td>\n",
       "      <td>Albany</td>\n",
       "      <td>13.0</td>\n",
       "      <td>22.6</td>\n",
       "      <td>0.0</td>\n",
       "      <td>3.8</td>\n",
       "      <td>10.4</td>\n",
       "      <td>NaN</td>\n",
       "      <td>NaN</td>\n",
       "      <td>NE</td>\n",
       "      <td>...</td>\n",
       "      <td>31.0</td>\n",
       "      <td>79.0</td>\n",
       "      <td>68.0</td>\n",
       "      <td>1020.3</td>\n",
       "      <td>1015.7</td>\n",
       "      <td>1.0</td>\n",
       "      <td>3.0</td>\n",
       "      <td>17.5</td>\n",
       "      <td>20.8</td>\n",
       "      <td>No</td>\n",
       "    </tr>\n",
       "    <tr>\n",
       "      <th>3</th>\n",
       "      <td>2009-11-26</td>\n",
       "      <td>Sale</td>\n",
       "      <td>13.9</td>\n",
       "      <td>29.8</td>\n",
       "      <td>0.0</td>\n",
       "      <td>5.8</td>\n",
       "      <td>5.1</td>\n",
       "      <td>S</td>\n",
       "      <td>37.0</td>\n",
       "      <td>N</td>\n",
       "      <td>...</td>\n",
       "      <td>28.0</td>\n",
       "      <td>82.0</td>\n",
       "      <td>44.0</td>\n",
       "      <td>1012.5</td>\n",
       "      <td>1005.9</td>\n",
       "      <td>6.0</td>\n",
       "      <td>6.0</td>\n",
       "      <td>18.5</td>\n",
       "      <td>27.5</td>\n",
       "      <td>No</td>\n",
       "    </tr>\n",
       "    <tr>\n",
       "      <th>4</th>\n",
       "      <td>2014-04-25</td>\n",
       "      <td>Mildura</td>\n",
       "      <td>6.0</td>\n",
       "      <td>23.5</td>\n",
       "      <td>0.0</td>\n",
       "      <td>2.8</td>\n",
       "      <td>8.6</td>\n",
       "      <td>NNE</td>\n",
       "      <td>24.0</td>\n",
       "      <td>E</td>\n",
       "      <td>...</td>\n",
       "      <td>15.0</td>\n",
       "      <td>58.0</td>\n",
       "      <td>35.0</td>\n",
       "      <td>1019.8</td>\n",
       "      <td>1014.1</td>\n",
       "      <td>2.0</td>\n",
       "      <td>4.0</td>\n",
       "      <td>12.4</td>\n",
       "      <td>22.4</td>\n",
       "      <td>No</td>\n",
       "    </tr>\n",
       "  </tbody>\n",
       "</table>\n",
       "<p>5 rows × 22 columns</p>\n",
       "</div>"
      ],
      "text/plain": [
       "         Date     Location  MinTemp  MaxTemp  Rainfall  Evaporation  Sunshine  \\\n",
       "0  2015-08-24    Katherine     17.5     36.0       0.0          8.8       NaN   \n",
       "1  2016-12-10  Tuggeranong      9.5     25.0       0.0          NaN       NaN   \n",
       "2  2010-04-18       Albany     13.0     22.6       0.0          3.8      10.4   \n",
       "3  2009-11-26         Sale     13.9     29.8       0.0          5.8       5.1   \n",
       "4  2014-04-25      Mildura      6.0     23.5       0.0          2.8       8.6   \n",
       "\n",
       "  WindGustDir  WindGustSpeed WindDir9am  ... WindSpeed3pm  Humidity9am  \\\n",
       "0         ESE           26.0        NNW  ...         15.0         57.0   \n",
       "1         NNW           33.0         NE  ...         17.0         59.0   \n",
       "2         NaN            NaN         NE  ...         31.0         79.0   \n",
       "3           S           37.0          N  ...         28.0         82.0   \n",
       "4         NNE           24.0          E  ...         15.0         58.0   \n",
       "\n",
       "   Humidity3pm  Pressure9am  Pressure3pm  Cloud9am  Cloud3pm  Temp9am  \\\n",
       "0          NaN       1016.8       1012.2       0.0       NaN     27.5   \n",
       "1         31.0       1020.4       1017.5       NaN       NaN     14.6   \n",
       "2         68.0       1020.3       1015.7       1.0       3.0     17.5   \n",
       "3         44.0       1012.5       1005.9       6.0       6.0     18.5   \n",
       "4         35.0       1019.8       1014.1       2.0       4.0     12.4   \n",
       "\n",
       "   Temp3pm  RainToday  \n",
       "0      NaN         No  \n",
       "1     23.6         No  \n",
       "2     20.8         No  \n",
       "3     27.5         No  \n",
       "4     22.4         No  \n",
       "\n",
       "[5 rows x 22 columns]"
      ]
     },
     "execution_count": 42,
     "metadata": {},
     "output_type": "execute_result"
    }
   ],
   "source": [
    "Xtrain.head()"
   ]
  },
  {
   "cell_type": "code",
   "execution_count": 43,
   "metadata": {},
   "outputs": [
    {
     "data": {
      "text/html": [
       "<div>\n",
       "<style scoped>\n",
       "    .dataframe tbody tr th:only-of-type {\n",
       "        vertical-align: middle;\n",
       "    }\n",
       "\n",
       "    .dataframe tbody tr th {\n",
       "        vertical-align: top;\n",
       "    }\n",
       "\n",
       "    .dataframe thead th {\n",
       "        text-align: right;\n",
       "    }\n",
       "</style>\n",
       "<table border=\"1\" class=\"dataframe\">\n",
       "  <thead>\n",
       "    <tr style=\"text-align: right;\">\n",
       "      <th></th>\n",
       "      <th>Date</th>\n",
       "      <th>Location</th>\n",
       "      <th>MinTemp</th>\n",
       "      <th>MaxTemp</th>\n",
       "      <th>Rainfall</th>\n",
       "      <th>Evaporation</th>\n",
       "      <th>Sunshine</th>\n",
       "      <th>WindGustDir</th>\n",
       "      <th>WindGustSpeed</th>\n",
       "      <th>WindDir9am</th>\n",
       "      <th>...</th>\n",
       "      <th>WindSpeed3pm</th>\n",
       "      <th>Humidity9am</th>\n",
       "      <th>Humidity3pm</th>\n",
       "      <th>Pressure9am</th>\n",
       "      <th>Pressure3pm</th>\n",
       "      <th>Cloud9am</th>\n",
       "      <th>Cloud3pm</th>\n",
       "      <th>Temp9am</th>\n",
       "      <th>Temp3pm</th>\n",
       "      <th>RainToday</th>\n",
       "    </tr>\n",
       "  </thead>\n",
       "  <tbody>\n",
       "    <tr>\n",
       "      <th>0</th>\n",
       "      <td>2016-01-23</td>\n",
       "      <td>NorahHead</td>\n",
       "      <td>22.0</td>\n",
       "      <td>27.8</td>\n",
       "      <td>25.2</td>\n",
       "      <td>NaN</td>\n",
       "      <td>NaN</td>\n",
       "      <td>SSW</td>\n",
       "      <td>57.0</td>\n",
       "      <td>S</td>\n",
       "      <td>...</td>\n",
       "      <td>37.0</td>\n",
       "      <td>91.0</td>\n",
       "      <td>86.0</td>\n",
       "      <td>1006.6</td>\n",
       "      <td>1008.1</td>\n",
       "      <td>NaN</td>\n",
       "      <td>NaN</td>\n",
       "      <td>26.2</td>\n",
       "      <td>23.1</td>\n",
       "      <td>Yes</td>\n",
       "    </tr>\n",
       "    <tr>\n",
       "      <th>1</th>\n",
       "      <td>2009-03-05</td>\n",
       "      <td>MountGambier</td>\n",
       "      <td>12.0</td>\n",
       "      <td>18.6</td>\n",
       "      <td>2.2</td>\n",
       "      <td>3.0</td>\n",
       "      <td>7.8</td>\n",
       "      <td>SW</td>\n",
       "      <td>52.0</td>\n",
       "      <td>SW</td>\n",
       "      <td>...</td>\n",
       "      <td>28.0</td>\n",
       "      <td>88.0</td>\n",
       "      <td>62.0</td>\n",
       "      <td>1020.2</td>\n",
       "      <td>1019.9</td>\n",
       "      <td>8.0</td>\n",
       "      <td>7.0</td>\n",
       "      <td>14.8</td>\n",
       "      <td>17.5</td>\n",
       "      <td>Yes</td>\n",
       "    </tr>\n",
       "    <tr>\n",
       "      <th>2</th>\n",
       "      <td>2010-03-05</td>\n",
       "      <td>MountGinini</td>\n",
       "      <td>9.1</td>\n",
       "      <td>13.3</td>\n",
       "      <td>NaN</td>\n",
       "      <td>NaN</td>\n",
       "      <td>NaN</td>\n",
       "      <td>NE</td>\n",
       "      <td>41.0</td>\n",
       "      <td>NaN</td>\n",
       "      <td>...</td>\n",
       "      <td>NaN</td>\n",
       "      <td>NaN</td>\n",
       "      <td>NaN</td>\n",
       "      <td>NaN</td>\n",
       "      <td>NaN</td>\n",
       "      <td>NaN</td>\n",
       "      <td>NaN</td>\n",
       "      <td>NaN</td>\n",
       "      <td>NaN</td>\n",
       "      <td>NaN</td>\n",
       "    </tr>\n",
       "    <tr>\n",
       "      <th>3</th>\n",
       "      <td>2013-10-26</td>\n",
       "      <td>Wollongong</td>\n",
       "      <td>13.1</td>\n",
       "      <td>20.3</td>\n",
       "      <td>0.0</td>\n",
       "      <td>NaN</td>\n",
       "      <td>NaN</td>\n",
       "      <td>SW</td>\n",
       "      <td>33.0</td>\n",
       "      <td>W</td>\n",
       "      <td>...</td>\n",
       "      <td>24.0</td>\n",
       "      <td>40.0</td>\n",
       "      <td>51.0</td>\n",
       "      <td>1021.3</td>\n",
       "      <td>1019.5</td>\n",
       "      <td>NaN</td>\n",
       "      <td>NaN</td>\n",
       "      <td>16.8</td>\n",
       "      <td>19.6</td>\n",
       "      <td>No</td>\n",
       "    </tr>\n",
       "    <tr>\n",
       "      <th>4</th>\n",
       "      <td>2016-11-28</td>\n",
       "      <td>Sale</td>\n",
       "      <td>12.2</td>\n",
       "      <td>20.0</td>\n",
       "      <td>0.4</td>\n",
       "      <td>NaN</td>\n",
       "      <td>NaN</td>\n",
       "      <td>E</td>\n",
       "      <td>33.0</td>\n",
       "      <td>SW</td>\n",
       "      <td>...</td>\n",
       "      <td>19.0</td>\n",
       "      <td>92.0</td>\n",
       "      <td>69.0</td>\n",
       "      <td>1015.6</td>\n",
       "      <td>1013.2</td>\n",
       "      <td>8.0</td>\n",
       "      <td>4.0</td>\n",
       "      <td>13.6</td>\n",
       "      <td>19.0</td>\n",
       "      <td>No</td>\n",
       "    </tr>\n",
       "  </tbody>\n",
       "</table>\n",
       "<p>5 rows × 22 columns</p>\n",
       "</div>"
      ],
      "text/plain": [
       "         Date      Location  MinTemp  MaxTemp  Rainfall  Evaporation  \\\n",
       "0  2016-01-23     NorahHead     22.0     27.8      25.2          NaN   \n",
       "1  2009-03-05  MountGambier     12.0     18.6       2.2          3.0   \n",
       "2  2010-03-05   MountGinini      9.1     13.3       NaN          NaN   \n",
       "3  2013-10-26    Wollongong     13.1     20.3       0.0          NaN   \n",
       "4  2016-11-28          Sale     12.2     20.0       0.4          NaN   \n",
       "\n",
       "   Sunshine WindGustDir  WindGustSpeed WindDir9am  ... WindSpeed3pm  \\\n",
       "0       NaN         SSW           57.0          S  ...         37.0   \n",
       "1       7.8          SW           52.0         SW  ...         28.0   \n",
       "2       NaN          NE           41.0        NaN  ...          NaN   \n",
       "3       NaN          SW           33.0          W  ...         24.0   \n",
       "4       NaN           E           33.0         SW  ...         19.0   \n",
       "\n",
       "   Humidity9am  Humidity3pm  Pressure9am  Pressure3pm  Cloud9am  Cloud3pm  \\\n",
       "0         91.0         86.0       1006.6       1008.1       NaN       NaN   \n",
       "1         88.0         62.0       1020.2       1019.9       8.0       7.0   \n",
       "2          NaN          NaN          NaN          NaN       NaN       NaN   \n",
       "3         40.0         51.0       1021.3       1019.5       NaN       NaN   \n",
       "4         92.0         69.0       1015.6       1013.2       8.0       4.0   \n",
       "\n",
       "   Temp9am  Temp3pm  RainToday  \n",
       "0     26.2     23.1        Yes  \n",
       "1     14.8     17.5        Yes  \n",
       "2      NaN      NaN        NaN  \n",
       "3     16.8     19.6         No  \n",
       "4     13.6     19.0         No  \n",
       "\n",
       "[5 rows x 22 columns]"
      ]
     },
     "execution_count": 43,
     "metadata": {},
     "output_type": "execute_result"
    }
   ],
   "source": [
    "Xtest.head()"
   ]
  },
  {
   "cell_type": "markdown",
   "metadata": {},
   "source": [
    "把月份取出来"
   ]
  },
  {
   "cell_type": "code",
   "execution_count": 45,
   "metadata": {},
   "outputs": [
    {
     "data": {
      "text/plain": [
       "'2015-08-24'"
      ]
     },
     "execution_count": 45,
     "metadata": {},
     "output_type": "execute_result"
    }
   ],
   "source": [
    "Xtrain.loc[0,'Date']"
   ]
  },
  {
   "cell_type": "code",
   "execution_count": 46,
   "metadata": {},
   "outputs": [
    {
     "data": {
      "text/plain": [
       "['2015', '08', '24']"
      ]
     },
     "execution_count": 46,
     "metadata": {},
     "output_type": "execute_result"
    }
   ],
   "source": [
    "Xtrain.loc[0,'Date'].split('-')"
   ]
  },
  {
   "cell_type": "code",
   "execution_count": 47,
   "metadata": {},
   "outputs": [
    {
     "data": {
      "text/plain": [
       "'08'"
      ]
     },
     "execution_count": 47,
     "metadata": {},
     "output_type": "execute_result"
    }
   ],
   "source": [
    "Xtrain.loc[0,'Date'].split('-')[1]"
   ]
  },
  {
   "cell_type": "code",
   "execution_count": 48,
   "metadata": {},
   "outputs": [
    {
     "data": {
      "text/plain": [
       "str"
      ]
     },
     "execution_count": 48,
     "metadata": {},
     "output_type": "execute_result"
    }
   ],
   "source": [
    "type(Xtrain.loc[0,'Date'].split('-')[1])\n",
    "#注意这里还是str类型，要把他们转换成数值"
   ]
  },
  {
   "cell_type": "code",
   "execution_count": 44,
   "metadata": {},
   "outputs": [
    {
     "data": {
      "text/plain": [
       "8"
      ]
     },
     "execution_count": 44,
     "metadata": {},
     "output_type": "execute_result"
    }
   ],
   "source": [
    "int(Xtrain.loc[0,\"Date\"].split(\"-\")[1]) #提取出月份"
   ]
  },
  {
   "cell_type": "markdown",
   "metadata": {},
   "source": [
    "#### lambda是匿名函数，如果要在dataframe里面执行的话前面要加上  .apply( )\n",
    "\n",
    "#### 能不用loop就不用loop，尽量用  .apply(lambda : )去操作"
   ]
  },
  {
   "cell_type": "code",
   "execution_count": 49,
   "metadata": {
    "scrolled": true
   },
   "outputs": [
    {
     "name": "stderr",
     "output_type": "stream",
     "text": [
      "/Users/byronleung/opt/anaconda3/lib/python3.7/site-packages/ipykernel_launcher.py:1: SettingWithCopyWarning: \n",
      "A value is trying to be set on a copy of a slice from a DataFrame.\n",
      "Try using .loc[row_indexer,col_indexer] = value instead\n",
      "\n",
      "See the caveats in the documentation: http://pandas.pydata.org/pandas-docs/stable/user_guide/indexing.html#returning-a-view-versus-a-copy\n",
      "  \"\"\"Entry point for launching an IPython kernel.\n"
     ]
    }
   ],
   "source": [
    "Xtrain[\"Date\"] = Xtrain[\"Date\"].apply(lambda x:int(x.split(\"-\")[1]))\n",
    "#apply是对dataframe上的某一列进行处理的一个函数\n",
    "#lambda x匿名函数，请在dataframe上这一列中的每一行帮我执行冒号后的命令"
   ]
  },
  {
   "cell_type": "code",
   "execution_count": 50,
   "metadata": {},
   "outputs": [
    {
     "data": {
      "text/plain": [
       "3     334\n",
       "5     324\n",
       "7     316\n",
       "9     302\n",
       "6     302\n",
       "1     300\n",
       "11    299\n",
       "10    282\n",
       "4     265\n",
       "2     264\n",
       "12    259\n",
       "8     253\n",
       "Name: Date, dtype: int64"
      ]
     },
     "execution_count": 50,
     "metadata": {},
     "output_type": "execute_result"
    }
   ],
   "source": [
    "Xtrain.loc[:,\"Date\"].value_counts()"
   ]
  },
  {
   "cell_type": "code",
   "execution_count": 51,
   "metadata": {},
   "outputs": [],
   "source": [
    "#替换完毕后，我们需要修改列的名称\n",
    "#rename是比较少用的，可以用来修改单个列名的函数\n",
    "#我们通常都直接使用 df.columns = 某个列表 这样的形式来一次修改所有的列名\n",
    "#但rename允许我们只修改某个单独的列\n",
    "Xtrain = Xtrain.rename(columns={\"Date\":\"Month\"})"
   ]
  },
  {
   "cell_type": "code",
   "execution_count": 52,
   "metadata": {},
   "outputs": [
    {
     "data": {
      "text/html": [
       "<div>\n",
       "<style scoped>\n",
       "    .dataframe tbody tr th:only-of-type {\n",
       "        vertical-align: middle;\n",
       "    }\n",
       "\n",
       "    .dataframe tbody tr th {\n",
       "        vertical-align: top;\n",
       "    }\n",
       "\n",
       "    .dataframe thead th {\n",
       "        text-align: right;\n",
       "    }\n",
       "</style>\n",
       "<table border=\"1\" class=\"dataframe\">\n",
       "  <thead>\n",
       "    <tr style=\"text-align: right;\">\n",
       "      <th></th>\n",
       "      <th>Month</th>\n",
       "      <th>Location</th>\n",
       "      <th>MinTemp</th>\n",
       "      <th>MaxTemp</th>\n",
       "      <th>Rainfall</th>\n",
       "      <th>Evaporation</th>\n",
       "      <th>Sunshine</th>\n",
       "      <th>WindGustDir</th>\n",
       "      <th>WindGustSpeed</th>\n",
       "      <th>WindDir9am</th>\n",
       "      <th>...</th>\n",
       "      <th>WindSpeed3pm</th>\n",
       "      <th>Humidity9am</th>\n",
       "      <th>Humidity3pm</th>\n",
       "      <th>Pressure9am</th>\n",
       "      <th>Pressure3pm</th>\n",
       "      <th>Cloud9am</th>\n",
       "      <th>Cloud3pm</th>\n",
       "      <th>Temp9am</th>\n",
       "      <th>Temp3pm</th>\n",
       "      <th>RainToday</th>\n",
       "    </tr>\n",
       "  </thead>\n",
       "  <tbody>\n",
       "    <tr>\n",
       "      <th>0</th>\n",
       "      <td>8</td>\n",
       "      <td>Katherine</td>\n",
       "      <td>17.5</td>\n",
       "      <td>36.0</td>\n",
       "      <td>0.0</td>\n",
       "      <td>8.8</td>\n",
       "      <td>NaN</td>\n",
       "      <td>ESE</td>\n",
       "      <td>26.0</td>\n",
       "      <td>NNW</td>\n",
       "      <td>...</td>\n",
       "      <td>15.0</td>\n",
       "      <td>57.0</td>\n",
       "      <td>NaN</td>\n",
       "      <td>1016.8</td>\n",
       "      <td>1012.2</td>\n",
       "      <td>0.0</td>\n",
       "      <td>NaN</td>\n",
       "      <td>27.5</td>\n",
       "      <td>NaN</td>\n",
       "      <td>No</td>\n",
       "    </tr>\n",
       "    <tr>\n",
       "      <th>1</th>\n",
       "      <td>12</td>\n",
       "      <td>Tuggeranong</td>\n",
       "      <td>9.5</td>\n",
       "      <td>25.0</td>\n",
       "      <td>0.0</td>\n",
       "      <td>NaN</td>\n",
       "      <td>NaN</td>\n",
       "      <td>NNW</td>\n",
       "      <td>33.0</td>\n",
       "      <td>NE</td>\n",
       "      <td>...</td>\n",
       "      <td>17.0</td>\n",
       "      <td>59.0</td>\n",
       "      <td>31.0</td>\n",
       "      <td>1020.4</td>\n",
       "      <td>1017.5</td>\n",
       "      <td>NaN</td>\n",
       "      <td>NaN</td>\n",
       "      <td>14.6</td>\n",
       "      <td>23.6</td>\n",
       "      <td>No</td>\n",
       "    </tr>\n",
       "    <tr>\n",
       "      <th>2</th>\n",
       "      <td>4</td>\n",
       "      <td>Albany</td>\n",
       "      <td>13.0</td>\n",
       "      <td>22.6</td>\n",
       "      <td>0.0</td>\n",
       "      <td>3.8</td>\n",
       "      <td>10.4</td>\n",
       "      <td>NaN</td>\n",
       "      <td>NaN</td>\n",
       "      <td>NE</td>\n",
       "      <td>...</td>\n",
       "      <td>31.0</td>\n",
       "      <td>79.0</td>\n",
       "      <td>68.0</td>\n",
       "      <td>1020.3</td>\n",
       "      <td>1015.7</td>\n",
       "      <td>1.0</td>\n",
       "      <td>3.0</td>\n",
       "      <td>17.5</td>\n",
       "      <td>20.8</td>\n",
       "      <td>No</td>\n",
       "    </tr>\n",
       "    <tr>\n",
       "      <th>3</th>\n",
       "      <td>11</td>\n",
       "      <td>Sale</td>\n",
       "      <td>13.9</td>\n",
       "      <td>29.8</td>\n",
       "      <td>0.0</td>\n",
       "      <td>5.8</td>\n",
       "      <td>5.1</td>\n",
       "      <td>S</td>\n",
       "      <td>37.0</td>\n",
       "      <td>N</td>\n",
       "      <td>...</td>\n",
       "      <td>28.0</td>\n",
       "      <td>82.0</td>\n",
       "      <td>44.0</td>\n",
       "      <td>1012.5</td>\n",
       "      <td>1005.9</td>\n",
       "      <td>6.0</td>\n",
       "      <td>6.0</td>\n",
       "      <td>18.5</td>\n",
       "      <td>27.5</td>\n",
       "      <td>No</td>\n",
       "    </tr>\n",
       "    <tr>\n",
       "      <th>4</th>\n",
       "      <td>4</td>\n",
       "      <td>Mildura</td>\n",
       "      <td>6.0</td>\n",
       "      <td>23.5</td>\n",
       "      <td>0.0</td>\n",
       "      <td>2.8</td>\n",
       "      <td>8.6</td>\n",
       "      <td>NNE</td>\n",
       "      <td>24.0</td>\n",
       "      <td>E</td>\n",
       "      <td>...</td>\n",
       "      <td>15.0</td>\n",
       "      <td>58.0</td>\n",
       "      <td>35.0</td>\n",
       "      <td>1019.8</td>\n",
       "      <td>1014.1</td>\n",
       "      <td>2.0</td>\n",
       "      <td>4.0</td>\n",
       "      <td>12.4</td>\n",
       "      <td>22.4</td>\n",
       "      <td>No</td>\n",
       "    </tr>\n",
       "  </tbody>\n",
       "</table>\n",
       "<p>5 rows × 22 columns</p>\n",
       "</div>"
      ],
      "text/plain": [
       "   Month     Location  MinTemp  MaxTemp  Rainfall  Evaporation  Sunshine  \\\n",
       "0      8    Katherine     17.5     36.0       0.0          8.8       NaN   \n",
       "1     12  Tuggeranong      9.5     25.0       0.0          NaN       NaN   \n",
       "2      4       Albany     13.0     22.6       0.0          3.8      10.4   \n",
       "3     11         Sale     13.9     29.8       0.0          5.8       5.1   \n",
       "4      4      Mildura      6.0     23.5       0.0          2.8       8.6   \n",
       "\n",
       "  WindGustDir  WindGustSpeed WindDir9am  ... WindSpeed3pm  Humidity9am  \\\n",
       "0         ESE           26.0        NNW  ...         15.0         57.0   \n",
       "1         NNW           33.0         NE  ...         17.0         59.0   \n",
       "2         NaN            NaN         NE  ...         31.0         79.0   \n",
       "3           S           37.0          N  ...         28.0         82.0   \n",
       "4         NNE           24.0          E  ...         15.0         58.0   \n",
       "\n",
       "   Humidity3pm  Pressure9am  Pressure3pm  Cloud9am  Cloud3pm  Temp9am  \\\n",
       "0          NaN       1016.8       1012.2       0.0       NaN     27.5   \n",
       "1         31.0       1020.4       1017.5       NaN       NaN     14.6   \n",
       "2         68.0       1020.3       1015.7       1.0       3.0     17.5   \n",
       "3         44.0       1012.5       1005.9       6.0       6.0     18.5   \n",
       "4         35.0       1019.8       1014.1       2.0       4.0     12.4   \n",
       "\n",
       "   Temp3pm  RainToday  \n",
       "0      NaN         No  \n",
       "1     23.6         No  \n",
       "2     20.8         No  \n",
       "3     27.5         No  \n",
       "4     22.4         No  \n",
       "\n",
       "[5 rows x 22 columns]"
      ]
     },
     "execution_count": 52,
     "metadata": {},
     "output_type": "execute_result"
    }
   ],
   "source": [
    "Xtrain.head()"
   ]
  },
  {
   "cell_type": "markdown",
   "metadata": {},
   "source": [
    "训练集跟测试集都要进行相同的预处理操作"
   ]
  },
  {
   "cell_type": "code",
   "execution_count": 53,
   "metadata": {},
   "outputs": [
    {
     "name": "stderr",
     "output_type": "stream",
     "text": [
      "/Users/byronleung/opt/anaconda3/lib/python3.7/site-packages/ipykernel_launcher.py:1: SettingWithCopyWarning: \n",
      "A value is trying to be set on a copy of a slice from a DataFrame.\n",
      "Try using .loc[row_indexer,col_indexer] = value instead\n",
      "\n",
      "See the caveats in the documentation: http://pandas.pydata.org/pandas-docs/stable/user_guide/indexing.html#returning-a-view-versus-a-copy\n",
      "  \"\"\"Entry point for launching an IPython kernel.\n"
     ]
    }
   ],
   "source": [
    "Xtest[\"Date\"] = Xtest[\"Date\"].apply(lambda x:int(x.split(\"-\")[1]))\n",
    "Xtest = Xtest.rename(columns={\"Date\":\"Month\"})"
   ]
  },
  {
   "cell_type": "code",
   "execution_count": 54,
   "metadata": {},
   "outputs": [
    {
     "data": {
      "text/html": [
       "<div>\n",
       "<style scoped>\n",
       "    .dataframe tbody tr th:only-of-type {\n",
       "        vertical-align: middle;\n",
       "    }\n",
       "\n",
       "    .dataframe tbody tr th {\n",
       "        vertical-align: top;\n",
       "    }\n",
       "\n",
       "    .dataframe thead th {\n",
       "        text-align: right;\n",
       "    }\n",
       "</style>\n",
       "<table border=\"1\" class=\"dataframe\">\n",
       "  <thead>\n",
       "    <tr style=\"text-align: right;\">\n",
       "      <th></th>\n",
       "      <th>Month</th>\n",
       "      <th>Location</th>\n",
       "      <th>MinTemp</th>\n",
       "      <th>MaxTemp</th>\n",
       "      <th>Rainfall</th>\n",
       "      <th>Evaporation</th>\n",
       "      <th>Sunshine</th>\n",
       "      <th>WindGustDir</th>\n",
       "      <th>WindGustSpeed</th>\n",
       "      <th>WindDir9am</th>\n",
       "      <th>...</th>\n",
       "      <th>WindSpeed3pm</th>\n",
       "      <th>Humidity9am</th>\n",
       "      <th>Humidity3pm</th>\n",
       "      <th>Pressure9am</th>\n",
       "      <th>Pressure3pm</th>\n",
       "      <th>Cloud9am</th>\n",
       "      <th>Cloud3pm</th>\n",
       "      <th>Temp9am</th>\n",
       "      <th>Temp3pm</th>\n",
       "      <th>RainToday</th>\n",
       "    </tr>\n",
       "  </thead>\n",
       "  <tbody>\n",
       "    <tr>\n",
       "      <th>0</th>\n",
       "      <td>1</td>\n",
       "      <td>NorahHead</td>\n",
       "      <td>22.0</td>\n",
       "      <td>27.8</td>\n",
       "      <td>25.2</td>\n",
       "      <td>NaN</td>\n",
       "      <td>NaN</td>\n",
       "      <td>SSW</td>\n",
       "      <td>57.0</td>\n",
       "      <td>S</td>\n",
       "      <td>...</td>\n",
       "      <td>37.0</td>\n",
       "      <td>91.0</td>\n",
       "      <td>86.0</td>\n",
       "      <td>1006.6</td>\n",
       "      <td>1008.1</td>\n",
       "      <td>NaN</td>\n",
       "      <td>NaN</td>\n",
       "      <td>26.2</td>\n",
       "      <td>23.1</td>\n",
       "      <td>Yes</td>\n",
       "    </tr>\n",
       "    <tr>\n",
       "      <th>1</th>\n",
       "      <td>3</td>\n",
       "      <td>MountGambier</td>\n",
       "      <td>12.0</td>\n",
       "      <td>18.6</td>\n",
       "      <td>2.2</td>\n",
       "      <td>3.0</td>\n",
       "      <td>7.8</td>\n",
       "      <td>SW</td>\n",
       "      <td>52.0</td>\n",
       "      <td>SW</td>\n",
       "      <td>...</td>\n",
       "      <td>28.0</td>\n",
       "      <td>88.0</td>\n",
       "      <td>62.0</td>\n",
       "      <td>1020.2</td>\n",
       "      <td>1019.9</td>\n",
       "      <td>8.0</td>\n",
       "      <td>7.0</td>\n",
       "      <td>14.8</td>\n",
       "      <td>17.5</td>\n",
       "      <td>Yes</td>\n",
       "    </tr>\n",
       "    <tr>\n",
       "      <th>2</th>\n",
       "      <td>3</td>\n",
       "      <td>MountGinini</td>\n",
       "      <td>9.1</td>\n",
       "      <td>13.3</td>\n",
       "      <td>NaN</td>\n",
       "      <td>NaN</td>\n",
       "      <td>NaN</td>\n",
       "      <td>NE</td>\n",
       "      <td>41.0</td>\n",
       "      <td>NaN</td>\n",
       "      <td>...</td>\n",
       "      <td>NaN</td>\n",
       "      <td>NaN</td>\n",
       "      <td>NaN</td>\n",
       "      <td>NaN</td>\n",
       "      <td>NaN</td>\n",
       "      <td>NaN</td>\n",
       "      <td>NaN</td>\n",
       "      <td>NaN</td>\n",
       "      <td>NaN</td>\n",
       "      <td>NaN</td>\n",
       "    </tr>\n",
       "    <tr>\n",
       "      <th>3</th>\n",
       "      <td>10</td>\n",
       "      <td>Wollongong</td>\n",
       "      <td>13.1</td>\n",
       "      <td>20.3</td>\n",
       "      <td>0.0</td>\n",
       "      <td>NaN</td>\n",
       "      <td>NaN</td>\n",
       "      <td>SW</td>\n",
       "      <td>33.0</td>\n",
       "      <td>W</td>\n",
       "      <td>...</td>\n",
       "      <td>24.0</td>\n",
       "      <td>40.0</td>\n",
       "      <td>51.0</td>\n",
       "      <td>1021.3</td>\n",
       "      <td>1019.5</td>\n",
       "      <td>NaN</td>\n",
       "      <td>NaN</td>\n",
       "      <td>16.8</td>\n",
       "      <td>19.6</td>\n",
       "      <td>No</td>\n",
       "    </tr>\n",
       "    <tr>\n",
       "      <th>4</th>\n",
       "      <td>11</td>\n",
       "      <td>Sale</td>\n",
       "      <td>12.2</td>\n",
       "      <td>20.0</td>\n",
       "      <td>0.4</td>\n",
       "      <td>NaN</td>\n",
       "      <td>NaN</td>\n",
       "      <td>E</td>\n",
       "      <td>33.0</td>\n",
       "      <td>SW</td>\n",
       "      <td>...</td>\n",
       "      <td>19.0</td>\n",
       "      <td>92.0</td>\n",
       "      <td>69.0</td>\n",
       "      <td>1015.6</td>\n",
       "      <td>1013.2</td>\n",
       "      <td>8.0</td>\n",
       "      <td>4.0</td>\n",
       "      <td>13.6</td>\n",
       "      <td>19.0</td>\n",
       "      <td>No</td>\n",
       "    </tr>\n",
       "  </tbody>\n",
       "</table>\n",
       "<p>5 rows × 22 columns</p>\n",
       "</div>"
      ],
      "text/plain": [
       "   Month      Location  MinTemp  MaxTemp  Rainfall  Evaporation  Sunshine  \\\n",
       "0      1     NorahHead     22.0     27.8      25.2          NaN       NaN   \n",
       "1      3  MountGambier     12.0     18.6       2.2          3.0       7.8   \n",
       "2      3   MountGinini      9.1     13.3       NaN          NaN       NaN   \n",
       "3     10    Wollongong     13.1     20.3       0.0          NaN       NaN   \n",
       "4     11          Sale     12.2     20.0       0.4          NaN       NaN   \n",
       "\n",
       "  WindGustDir  WindGustSpeed WindDir9am  ... WindSpeed3pm  Humidity9am  \\\n",
       "0         SSW           57.0          S  ...         37.0         91.0   \n",
       "1          SW           52.0         SW  ...         28.0         88.0   \n",
       "2          NE           41.0        NaN  ...          NaN          NaN   \n",
       "3          SW           33.0          W  ...         24.0         40.0   \n",
       "4           E           33.0         SW  ...         19.0         92.0   \n",
       "\n",
       "   Humidity3pm  Pressure9am  Pressure3pm  Cloud9am  Cloud3pm  Temp9am  \\\n",
       "0         86.0       1006.6       1008.1       NaN       NaN     26.2   \n",
       "1         62.0       1020.2       1019.9       8.0       7.0     14.8   \n",
       "2          NaN          NaN          NaN       NaN       NaN      NaN   \n",
       "3         51.0       1021.3       1019.5       NaN       NaN     16.8   \n",
       "4         69.0       1015.6       1013.2       8.0       4.0     13.6   \n",
       "\n",
       "   Temp3pm  RainToday  \n",
       "0     23.1        Yes  \n",
       "1     17.5        Yes  \n",
       "2      NaN        NaN  \n",
       "3     19.6         No  \n",
       "4     19.0         No  \n",
       "\n",
       "[5 rows x 22 columns]"
      ]
     },
     "execution_count": 54,
     "metadata": {},
     "output_type": "execute_result"
    }
   ],
   "source": [
    "Xtest.head()"
   ]
  },
  {
   "cell_type": "markdown",
   "metadata": {},
   "source": [
    "### 通过时间，处理了两个新特征，raintoday 和 month ，以下处理更加难处理的地点特征"
   ]
  },
  {
   "cell_type": "code",
   "execution_count": 55,
   "metadata": {},
   "outputs": [
    {
     "data": {
      "text/plain": [
       "0         Katherine\n",
       "1       Tuggeranong\n",
       "2            Albany\n",
       "3              Sale\n",
       "4           Mildura\n",
       "           ...     \n",
       "3495      NorahHead\n",
       "3496     Wollongong\n",
       "3497    Witchcliffe\n",
       "3498       Watsonia\n",
       "3499     PearceRAAF\n",
       "Name: Location, Length: 3500, dtype: object"
      ]
     },
     "execution_count": 55,
     "metadata": {},
     "output_type": "execute_result"
    }
   ],
   "source": [
    "Xtrain.loc[:,\"Location\"]"
   ]
  },
  {
   "cell_type": "code",
   "execution_count": 56,
   "metadata": {},
   "outputs": [
    {
     "data": {
      "text/plain": [
       "Bendigo             94\n",
       "SalmonGums          92\n",
       "Sydney              92\n",
       "Canberra            87\n",
       "Ballarat            87\n",
       "Darwin              86\n",
       "Cairns              84\n",
       "Wollongong          82\n",
       "Albury              80\n",
       "Townsville          80\n",
       "Newcastle           78\n",
       "BadgerysCreek       77\n",
       "Adelaide            77\n",
       "Witchcliffe         76\n",
       "Moree               76\n",
       "CoffsHarbour        76\n",
       "Dartmoor            76\n",
       "Launceston          76\n",
       "WaggaWagga          75\n",
       "NorahHead           74\n",
       "MelbourneAirport    72\n",
       "SydneyAirport       72\n",
       "Mildura             72\n",
       "Richmond            71\n",
       "Cobar               71\n",
       "Hobart              71\n",
       "PerthAirport        71\n",
       "Perth               70\n",
       "PearceRAAF          69\n",
       "Walpole             69\n",
       "Nuriootpa           68\n",
       "MountGambier        68\n",
       "NorfolkIsland       68\n",
       "Woomera             67\n",
       "Albany              67\n",
       "GoldCoast           66\n",
       "Watsonia            66\n",
       "Penrith             65\n",
       "MountGinini         64\n",
       "Brisbane            63\n",
       "Williamtown         63\n",
       "AliceSprings        63\n",
       "Sale                62\n",
       "Tuggeranong         62\n",
       "Portland            60\n",
       "Katherine           53\n",
       "Melbourne           52\n",
       "Uluru               46\n",
       "Nhil                44\n",
       "Name: Location, dtype: int64"
      ]
     },
     "execution_count": 56,
     "metadata": {},
     "output_type": "execute_result"
    }
   ],
   "source": [
    "Xtrain.loc[:,\"Location\"].value_counts()"
   ]
  },
  {
   "cell_type": "code",
   "execution_count": 58,
   "metadata": {},
   "outputs": [
    {
     "data": {
      "text/plain": [
       "49"
      ]
     },
     "execution_count": 58,
     "metadata": {},
     "output_type": "execute_result"
    }
   ],
   "source": [
    "Xtrain.loc[:,\"Location\"].value_counts().count()"
   ]
  },
  {
   "cell_type": "code",
   "execution_count": null,
   "metadata": {},
   "outputs": [],
   "source": [
    "#谷歌查了对应经纬度，基本都在城市边角，进一步查资料，发现记录的位置基本上是气候站的名称\n",
    "\n",
    "#所以最后用了城市所处的气候带比如温带，亚热带增加特征"
   ]
  },
  {
   "cell_type": "code",
   "execution_count": 63,
   "metadata": {},
   "outputs": [],
   "source": [
    "cityll = pd.read_csv(r\"/Users/byronleung/Downloads/machine learning/SVM (second half)/cityll.csv\",index_col=0)\n",
    "city_climate = pd.read_csv(r\"/Users/byronleung/Downloads/machine learning/SVM (second half)/Cityclimate.csv\")"
   ]
  },
  {
   "cell_type": "code",
   "execution_count": 64,
   "metadata": {
    "scrolled": true
   },
   "outputs": [
    {
     "data": {
      "text/html": [
       "<div>\n",
       "<style scoped>\n",
       "    .dataframe tbody tr th:only-of-type {\n",
       "        vertical-align: middle;\n",
       "    }\n",
       "\n",
       "    .dataframe tbody tr th {\n",
       "        vertical-align: top;\n",
       "    }\n",
       "\n",
       "    .dataframe thead th {\n",
       "        text-align: right;\n",
       "    }\n",
       "</style>\n",
       "<table border=\"1\" class=\"dataframe\">\n",
       "  <thead>\n",
       "    <tr style=\"text-align: right;\">\n",
       "      <th></th>\n",
       "      <th>City</th>\n",
       "      <th>Latitude</th>\n",
       "      <th>Longitude</th>\n",
       "      <th>Latitudedir</th>\n",
       "      <th>Longitudedir</th>\n",
       "    </tr>\n",
       "  </thead>\n",
       "  <tbody>\n",
       "    <tr>\n",
       "      <th>0</th>\n",
       "      <td>Adelaide</td>\n",
       "      <td>34.9285°</td>\n",
       "      <td>138.6007°</td>\n",
       "      <td>S,</td>\n",
       "      <td>E</td>\n",
       "    </tr>\n",
       "    <tr>\n",
       "      <th>1</th>\n",
       "      <td>Albany</td>\n",
       "      <td>35.0275°</td>\n",
       "      <td>117.8840°</td>\n",
       "      <td>S,</td>\n",
       "      <td>E</td>\n",
       "    </tr>\n",
       "    <tr>\n",
       "      <th>2</th>\n",
       "      <td>Albury</td>\n",
       "      <td>36.0737°</td>\n",
       "      <td>146.9135°</td>\n",
       "      <td>S,</td>\n",
       "      <td>E</td>\n",
       "    </tr>\n",
       "    <tr>\n",
       "      <th>3</th>\n",
       "      <td>Wodonga</td>\n",
       "      <td>36.1241°</td>\n",
       "      <td>146.8818°</td>\n",
       "      <td>S,</td>\n",
       "      <td>E</td>\n",
       "    </tr>\n",
       "    <tr>\n",
       "      <th>4</th>\n",
       "      <td>AliceSprings</td>\n",
       "      <td>23.6980°</td>\n",
       "      <td>133.8807°</td>\n",
       "      <td>S,</td>\n",
       "      <td>E</td>\n",
       "    </tr>\n",
       "  </tbody>\n",
       "</table>\n",
       "</div>"
      ],
      "text/plain": [
       "           City  Latitude  Longitude Latitudedir Longitudedir\n",
       "0      Adelaide  34.9285°  138.6007°          S,            E\n",
       "1        Albany  35.0275°  117.8840°          S,            E\n",
       "2        Albury  36.0737°  146.9135°          S,            E\n",
       "3       Wodonga  36.1241°  146.8818°          S,            E\n",
       "4  AliceSprings  23.6980°  133.8807°          S,            E"
      ]
     },
     "execution_count": 64,
     "metadata": {},
     "output_type": "execute_result"
    }
   ],
   "source": [
    "cityll.head() #每个城市对应的经纬度，这些城市是澳大利亚统计局做的那张地图上的城市"
   ]
  },
  {
   "cell_type": "code",
   "execution_count": 65,
   "metadata": {},
   "outputs": [
    {
     "data": {
      "text/html": [
       "<div>\n",
       "<style scoped>\n",
       "    .dataframe tbody tr th:only-of-type {\n",
       "        vertical-align: middle;\n",
       "    }\n",
       "\n",
       "    .dataframe tbody tr th {\n",
       "        vertical-align: top;\n",
       "    }\n",
       "\n",
       "    .dataframe thead th {\n",
       "        text-align: right;\n",
       "    }\n",
       "</style>\n",
       "<table border=\"1\" class=\"dataframe\">\n",
       "  <thead>\n",
       "    <tr style=\"text-align: right;\">\n",
       "      <th></th>\n",
       "      <th>City</th>\n",
       "      <th>Climate</th>\n",
       "    </tr>\n",
       "  </thead>\n",
       "  <tbody>\n",
       "    <tr>\n",
       "      <th>0</th>\n",
       "      <td>Adelaide</td>\n",
       "      <td>Warm temperate</td>\n",
       "    </tr>\n",
       "    <tr>\n",
       "      <th>1</th>\n",
       "      <td>Albany</td>\n",
       "      <td>Mild temperate</td>\n",
       "    </tr>\n",
       "    <tr>\n",
       "      <th>2</th>\n",
       "      <td>Albury</td>\n",
       "      <td>Hot dry summer, cool winter</td>\n",
       "    </tr>\n",
       "    <tr>\n",
       "      <th>3</th>\n",
       "      <td>Wodonga</td>\n",
       "      <td>Hot dry summer, cool winter</td>\n",
       "    </tr>\n",
       "    <tr>\n",
       "      <th>4</th>\n",
       "      <td>AliceSprings</td>\n",
       "      <td>Hot dry summer, warm winter</td>\n",
       "    </tr>\n",
       "  </tbody>\n",
       "</table>\n",
       "</div>"
      ],
      "text/plain": [
       "           City                      Climate\n",
       "0      Adelaide            Warm temperate   \n",
       "1        Albany            Mild temperate   \n",
       "2        Albury  Hot dry summer, cool winter\n",
       "3       Wodonga  Hot dry summer, cool winter\n",
       "4  AliceSprings  Hot dry summer, warm winter"
      ]
     },
     "execution_count": 65,
     "metadata": {},
     "output_type": "execute_result"
    }
   ],
   "source": [
    "city_climate.head()\n",
    "#澳大利亚统计局做的每个城市对应的气候"
   ]
  },
  {
   "cell_type": "code",
   "execution_count": 68,
   "metadata": {},
   "outputs": [],
   "source": [
    "#看cityll里面的值，里面有 ° 这个度数的符号，我们要去掉，下面是切片的操作"
   ]
  },
  {
   "cell_type": "code",
   "execution_count": 69,
   "metadata": {},
   "outputs": [
    {
     "data": {
      "text/plain": [
       "'34.9285°'"
      ]
     },
     "execution_count": 69,
     "metadata": {},
     "output_type": "execute_result"
    }
   ],
   "source": [
    "cityll.loc[0,\"Latitude\"]"
   ]
  },
  {
   "cell_type": "code",
   "execution_count": 72,
   "metadata": {},
   "outputs": [
    {
     "data": {
      "text/plain": [
       "'34.9285'"
      ]
     },
     "execution_count": 72,
     "metadata": {},
     "output_type": "execute_result"
    }
   ],
   "source": [
    "cityll.loc[0,\"Latitude\"][:-1]"
   ]
  },
  {
   "cell_type": "code",
   "execution_count": 73,
   "metadata": {},
   "outputs": [
    {
     "data": {
      "text/plain": [
       "str"
      ]
     },
     "execution_count": 73,
     "metadata": {},
     "output_type": "execute_result"
    }
   ],
   "source": [
    "type(cityll.loc[0,\"Latitude\"][:-1])"
   ]
  },
  {
   "cell_type": "markdown",
   "metadata": {},
   "source": [
    "别忘了模型只接受数值型的value才能训练"
   ]
  },
  {
   "cell_type": "code",
   "execution_count": 66,
   "metadata": {},
   "outputs": [
    {
     "data": {
      "text/plain": [
       "34.9285"
      ]
     },
     "execution_count": 66,
     "metadata": {},
     "output_type": "execute_result"
    }
   ],
   "source": [
    "float(cityll.loc[0,\"Latitude\"][:-1])"
   ]
  },
  {
   "cell_type": "markdown",
   "metadata": {},
   "source": [
    "用 .apply(lambda:)的方式去掉度数符号"
   ]
  },
  {
   "cell_type": "code",
   "execution_count": 76,
   "metadata": {},
   "outputs": [],
   "source": [
    "cityll['Latitudenum'] = cityll['Latitude'].apply(lambda x : float(x[:-1]))"
   ]
  },
  {
   "cell_type": "code",
   "execution_count": 77,
   "metadata": {},
   "outputs": [],
   "source": [
    "cityll['Longitudenum'] = cityll['Longitude'].apply(lambda x: float(x[:-1]))"
   ]
  },
  {
   "cell_type": "code",
   "execution_count": 78,
   "metadata": {},
   "outputs": [
    {
     "data": {
      "text/html": [
       "<div>\n",
       "<style scoped>\n",
       "    .dataframe tbody tr th:only-of-type {\n",
       "        vertical-align: middle;\n",
       "    }\n",
       "\n",
       "    .dataframe tbody tr th {\n",
       "        vertical-align: top;\n",
       "    }\n",
       "\n",
       "    .dataframe thead th {\n",
       "        text-align: right;\n",
       "    }\n",
       "</style>\n",
       "<table border=\"1\" class=\"dataframe\">\n",
       "  <thead>\n",
       "    <tr style=\"text-align: right;\">\n",
       "      <th></th>\n",
       "      <th>City</th>\n",
       "      <th>Latitude</th>\n",
       "      <th>Longitude</th>\n",
       "      <th>Latitudedir</th>\n",
       "      <th>Longitudedir</th>\n",
       "      <th>Latitudenum</th>\n",
       "      <th>Longitudenum</th>\n",
       "    </tr>\n",
       "  </thead>\n",
       "  <tbody>\n",
       "    <tr>\n",
       "      <th>0</th>\n",
       "      <td>Adelaide</td>\n",
       "      <td>34.9285°</td>\n",
       "      <td>138.6007°</td>\n",
       "      <td>S,</td>\n",
       "      <td>E</td>\n",
       "      <td>34.9285</td>\n",
       "      <td>138.6007</td>\n",
       "    </tr>\n",
       "  </tbody>\n",
       "</table>\n",
       "</div>"
      ],
      "text/plain": [
       "       City  Latitude  Longitude Latitudedir Longitudedir  Latitudenum  \\\n",
       "0  Adelaide  34.9285°  138.6007°          S,            E      34.9285   \n",
       "\n",
       "   Longitudenum  \n",
       "0      138.6007  "
      ]
     },
     "execution_count": 78,
     "metadata": {},
     "output_type": "execute_result"
    }
   ],
   "source": [
    "cityll.head(1)"
   ]
  },
  {
   "cell_type": "markdown",
   "metadata": {},
   "source": [
    "说道经纬度，那肯定有方向，现在来看方向问题会不会影响计算"
   ]
  },
  {
   "cell_type": "code",
   "execution_count": 80,
   "metadata": {
    "scrolled": true
   },
   "outputs": [
    {
     "data": {
      "text/plain": [
       "['City',\n",
       " 'Latitude',\n",
       " 'Longitude',\n",
       " 'Latitudedir',\n",
       " 'Longitudedir',\n",
       " 'Latitudenum',\n",
       " 'Longitudenum']"
      ]
     },
     "execution_count": 80,
     "metadata": {},
     "output_type": "execute_result"
    }
   ],
   "source": [
    "cityll.columns.values.tolist()"
   ]
  },
  {
   "cell_type": "code",
   "execution_count": 67,
   "metadata": {},
   "outputs": [
    {
     "data": {
      "text/plain": [
       "S,    100\n",
       "Name: Latitudedir, dtype: int64"
      ]
     },
     "execution_count": 67,
     "metadata": {},
     "output_type": "execute_result"
    }
   ],
   "source": [
    "cityll.loc[:,\"Latitudedir\"].value_counts()"
   ]
  },
  {
   "cell_type": "code",
   "execution_count": 82,
   "metadata": {},
   "outputs": [
    {
     "data": {
      "text/plain": [
       "E    100\n",
       "Name: Longitudedir, dtype: int64"
      ]
     },
     "execution_count": 82,
     "metadata": {},
     "output_type": "execute_result"
    }
   ],
   "source": [
    "cityll.loc[:,'Longitudedir'].value_counts()"
   ]
  },
  {
   "cell_type": "markdown",
   "metadata": {},
   "source": [
    "全部都是南纬东经"
   ]
  },
  {
   "cell_type": "code",
   "execution_count": 83,
   "metadata": {},
   "outputs": [
    {
     "data": {
      "text/html": [
       "<div>\n",
       "<style scoped>\n",
       "    .dataframe tbody tr th:only-of-type {\n",
       "        vertical-align: middle;\n",
       "    }\n",
       "\n",
       "    .dataframe tbody tr th {\n",
       "        vertical-align: top;\n",
       "    }\n",
       "\n",
       "    .dataframe thead th {\n",
       "        text-align: right;\n",
       "    }\n",
       "</style>\n",
       "<table border=\"1\" class=\"dataframe\">\n",
       "  <thead>\n",
       "    <tr style=\"text-align: right;\">\n",
       "      <th></th>\n",
       "      <th>City</th>\n",
       "      <th>Latitudenum</th>\n",
       "      <th>Longitudenum</th>\n",
       "    </tr>\n",
       "  </thead>\n",
       "  <tbody>\n",
       "    <tr>\n",
       "      <th>0</th>\n",
       "      <td>Adelaide</td>\n",
       "      <td>34.9285</td>\n",
       "      <td>138.6007</td>\n",
       "    </tr>\n",
       "    <tr>\n",
       "      <th>1</th>\n",
       "      <td>Albany</td>\n",
       "      <td>35.0275</td>\n",
       "      <td>117.8840</td>\n",
       "    </tr>\n",
       "    <tr>\n",
       "      <th>2</th>\n",
       "      <td>Albury</td>\n",
       "      <td>36.0737</td>\n",
       "      <td>146.9135</td>\n",
       "    </tr>\n",
       "    <tr>\n",
       "      <th>3</th>\n",
       "      <td>Wodonga</td>\n",
       "      <td>36.1241</td>\n",
       "      <td>146.8818</td>\n",
       "    </tr>\n",
       "    <tr>\n",
       "      <th>4</th>\n",
       "      <td>AliceSprings</td>\n",
       "      <td>23.6980</td>\n",
       "      <td>133.8807</td>\n",
       "    </tr>\n",
       "    <tr>\n",
       "      <th>...</th>\n",
       "      <td>...</td>\n",
       "      <td>...</td>\n",
       "      <td>...</td>\n",
       "    </tr>\n",
       "    <tr>\n",
       "      <th>95</th>\n",
       "      <td>Wollongong</td>\n",
       "      <td>34.4278</td>\n",
       "      <td>150.8931</td>\n",
       "    </tr>\n",
       "    <tr>\n",
       "      <th>96</th>\n",
       "      <td>Wyndham</td>\n",
       "      <td>15.4825</td>\n",
       "      <td>128.1228</td>\n",
       "    </tr>\n",
       "    <tr>\n",
       "      <th>97</th>\n",
       "      <td>Yalgoo</td>\n",
       "      <td>28.3445</td>\n",
       "      <td>116.6851</td>\n",
       "    </tr>\n",
       "    <tr>\n",
       "      <th>98</th>\n",
       "      <td>Yulara</td>\n",
       "      <td>25.2335</td>\n",
       "      <td>130.9849</td>\n",
       "    </tr>\n",
       "    <tr>\n",
       "      <th>99</th>\n",
       "      <td>Uluru</td>\n",
       "      <td>25.3444</td>\n",
       "      <td>131.0369</td>\n",
       "    </tr>\n",
       "  </tbody>\n",
       "</table>\n",
       "<p>100 rows × 3 columns</p>\n",
       "</div>"
      ],
      "text/plain": [
       "            City  Latitudenum  Longitudenum\n",
       "0       Adelaide      34.9285      138.6007\n",
       "1         Albany      35.0275      117.8840\n",
       "2         Albury      36.0737      146.9135\n",
       "3        Wodonga      36.1241      146.8818\n",
       "4   AliceSprings      23.6980      133.8807\n",
       "..           ...          ...           ...\n",
       "95    Wollongong      34.4278      150.8931\n",
       "96       Wyndham      15.4825      128.1228\n",
       "97        Yalgoo      28.3445      116.6851\n",
       "98        Yulara      25.2335      130.9849\n",
       "99         Uluru      25.3444      131.0369\n",
       "\n",
       "[100 rows x 3 columns]"
      ]
     },
     "execution_count": 83,
     "metadata": {},
     "output_type": "execute_result"
    }
   ],
   "source": [
    "#观察一下所有的经纬度方向都是一致的，全部是南纬，东经，因为澳大利亚在南半球，东半球\n",
    "#所以经纬度的方向我们可以舍弃了\n",
    "citylld = cityll.iloc[:,[0,5,6]]\n",
    "citylld"
   ]
  },
  {
   "cell_type": "code",
   "execution_count": 84,
   "metadata": {},
   "outputs": [
    {
     "name": "stderr",
     "output_type": "stream",
     "text": [
      "/Users/byronleung/opt/anaconda3/lib/python3.7/site-packages/ipykernel_launcher.py:2: SettingWithCopyWarning: \n",
      "A value is trying to be set on a copy of a slice from a DataFrame.\n",
      "Try using .loc[row_indexer,col_indexer] = value instead\n",
      "\n",
      "See the caveats in the documentation: http://pandas.pydata.org/pandas-docs/stable/user_guide/indexing.html#returning-a-view-versus-a-copy\n",
      "  \n"
     ]
    }
   ],
   "source": [
    "#将city_climate中的气候添加到我们的citylld中\n",
    "citylld[\"climate\"] = city_climate.iloc[:,-1]"
   ]
  },
  {
   "cell_type": "code",
   "execution_count": 85,
   "metadata": {},
   "outputs": [
    {
     "data": {
      "text/html": [
       "<div>\n",
       "<style scoped>\n",
       "    .dataframe tbody tr th:only-of-type {\n",
       "        vertical-align: middle;\n",
       "    }\n",
       "\n",
       "    .dataframe tbody tr th {\n",
       "        vertical-align: top;\n",
       "    }\n",
       "\n",
       "    .dataframe thead th {\n",
       "        text-align: right;\n",
       "    }\n",
       "</style>\n",
       "<table border=\"1\" class=\"dataframe\">\n",
       "  <thead>\n",
       "    <tr style=\"text-align: right;\">\n",
       "      <th></th>\n",
       "      <th>City</th>\n",
       "      <th>Latitudenum</th>\n",
       "      <th>Longitudenum</th>\n",
       "      <th>climate</th>\n",
       "    </tr>\n",
       "  </thead>\n",
       "  <tbody>\n",
       "    <tr>\n",
       "      <th>0</th>\n",
       "      <td>Adelaide</td>\n",
       "      <td>34.9285</td>\n",
       "      <td>138.6007</td>\n",
       "      <td>Warm temperate</td>\n",
       "    </tr>\n",
       "    <tr>\n",
       "      <th>1</th>\n",
       "      <td>Albany</td>\n",
       "      <td>35.0275</td>\n",
       "      <td>117.8840</td>\n",
       "      <td>Mild temperate</td>\n",
       "    </tr>\n",
       "  </tbody>\n",
       "</table>\n",
       "</div>"
      ],
      "text/plain": [
       "       City  Latitudenum  Longitudenum            climate\n",
       "0  Adelaide      34.9285      138.6007  Warm temperate   \n",
       "1    Albany      35.0275      117.8840  Mild temperate   "
      ]
     },
     "execution_count": 85,
     "metadata": {},
     "output_type": "execute_result"
    }
   ],
   "source": [
    "citylld.head(2)"
   ]
  },
  {
   "cell_type": "code",
   "execution_count": 91,
   "metadata": {},
   "outputs": [
    {
     "data": {
      "text/plain": [
       "7"
      ]
     },
     "execution_count": 91,
     "metadata": {},
     "output_type": "execute_result"
    }
   ],
   "source": [
    "#现在来观察climate\n",
    "citylld.loc[:,'climate'].value_counts().count()"
   ]
  },
  {
   "cell_type": "code",
   "execution_count": 92,
   "metadata": {},
   "outputs": [
    {
     "data": {
      "text/plain": [
       "(7, Hot dry summer, cool winter          24\n",
       " Warm temperate                       18\n",
       " Hot dry summer, warm winter          18\n",
       " High humidity summer, warm winter    17\n",
       " Mild temperate                        9\n",
       " Cool temperate                        9\n",
       " Warm humid summer, mild winter        5\n",
       " Name: climate, dtype: int64)"
      ]
     },
     "execution_count": 92,
     "metadata": {},
     "output_type": "execute_result"
    }
   ],
   "source": [
    "citylld.loc[:,'climate'].value_counts().count(),citylld.loc[:,'climate'].value_counts()"
   ]
  },
  {
   "cell_type": "markdown",
   "metadata": {},
   "source": [
    "接下来如果想要计算气象站到对应城市的距离，就会需要所有样本数据中的城市，我们认为，只有出现在训练集的地点才会出现在测试集中，基于这样的假设，爬虫开始"
   ]
  },
  {
   "cell_type": "code",
   "execution_count": 93,
   "metadata": {},
   "outputs": [],
   "source": [
    "samplecity = pd.read_csv(r\"/Users/byronleung/Downloads/machine learning/SVM (second half)/samplecity【瑞客论坛 www.ruike1.com】.csv\",index_col=0)"
   ]
  },
  {
   "cell_type": "code",
   "execution_count": 94,
   "metadata": {},
   "outputs": [
    {
     "data": {
      "text/html": [
       "<div>\n",
       "<style scoped>\n",
       "    .dataframe tbody tr th:only-of-type {\n",
       "        vertical-align: middle;\n",
       "    }\n",
       "\n",
       "    .dataframe tbody tr th {\n",
       "        vertical-align: top;\n",
       "    }\n",
       "\n",
       "    .dataframe thead th {\n",
       "        text-align: right;\n",
       "    }\n",
       "</style>\n",
       "<table border=\"1\" class=\"dataframe\">\n",
       "  <thead>\n",
       "    <tr style=\"text-align: right;\">\n",
       "      <th></th>\n",
       "      <th>City</th>\n",
       "      <th>Latitude</th>\n",
       "      <th>Longitude</th>\n",
       "      <th>Latitudedir</th>\n",
       "      <th>Longitudedir</th>\n",
       "    </tr>\n",
       "  </thead>\n",
       "  <tbody>\n",
       "    <tr>\n",
       "      <th>0</th>\n",
       "      <td>Canberra</td>\n",
       "      <td>35.2809°</td>\n",
       "      <td>149.1300°</td>\n",
       "      <td>S,</td>\n",
       "      <td>E</td>\n",
       "    </tr>\n",
       "    <tr>\n",
       "      <th>1</th>\n",
       "      <td>Sydney</td>\n",
       "      <td>33.8688°</td>\n",
       "      <td>151.2093°</td>\n",
       "      <td>S,</td>\n",
       "      <td>E</td>\n",
       "    </tr>\n",
       "    <tr>\n",
       "      <th>2</th>\n",
       "      <td>Perth</td>\n",
       "      <td>31.9505°</td>\n",
       "      <td>115.8605°</td>\n",
       "      <td>S,</td>\n",
       "      <td>E</td>\n",
       "    </tr>\n",
       "    <tr>\n",
       "      <th>3</th>\n",
       "      <td>Darwin</td>\n",
       "      <td>12.4634°</td>\n",
       "      <td>130.8456°</td>\n",
       "      <td>S,</td>\n",
       "      <td>E</td>\n",
       "    </tr>\n",
       "    <tr>\n",
       "      <th>4</th>\n",
       "      <td>Hobart</td>\n",
       "      <td>42.8821°</td>\n",
       "      <td>147.3272°</td>\n",
       "      <td>S,</td>\n",
       "      <td>E</td>\n",
       "    </tr>\n",
       "  </tbody>\n",
       "</table>\n",
       "</div>"
      ],
      "text/plain": [
       "       City  Latitude  Longitude Latitudedir Longitudedir\n",
       "0  Canberra  35.2809°  149.1300°          S,            E\n",
       "1    Sydney  33.8688°  151.2093°          S,            E\n",
       "2     Perth  31.9505°  115.8605°          S,            E\n",
       "3    Darwin  12.4634°  130.8456°          S,            E\n",
       "4    Hobart  42.8821°  147.3272°          S,            E"
      ]
     },
     "execution_count": 94,
     "metadata": {},
     "output_type": "execute_result"
    }
   ],
   "source": [
    "samplecity.head()"
   ]
  },
  {
   "cell_type": "code",
   "execution_count": 95,
   "metadata": {},
   "outputs": [
    {
     "data": {
      "text/html": [
       "<div>\n",
       "<style scoped>\n",
       "    .dataframe tbody tr th:only-of-type {\n",
       "        vertical-align: middle;\n",
       "    }\n",
       "\n",
       "    .dataframe tbody tr th {\n",
       "        vertical-align: top;\n",
       "    }\n",
       "\n",
       "    .dataframe thead th {\n",
       "        text-align: right;\n",
       "    }\n",
       "</style>\n",
       "<table border=\"1\" class=\"dataframe\">\n",
       "  <thead>\n",
       "    <tr style=\"text-align: right;\">\n",
       "      <th></th>\n",
       "      <th>City</th>\n",
       "      <th>Latitude</th>\n",
       "      <th>Longitude</th>\n",
       "      <th>Latitudedir</th>\n",
       "      <th>Longitudedir</th>\n",
       "    </tr>\n",
       "  </thead>\n",
       "  <tbody>\n",
       "    <tr>\n",
       "      <th>0</th>\n",
       "      <td>Canberra</td>\n",
       "      <td>35.2809°</td>\n",
       "      <td>149.1300°</td>\n",
       "      <td>S,</td>\n",
       "      <td>E</td>\n",
       "    </tr>\n",
       "    <tr>\n",
       "      <th>1</th>\n",
       "      <td>Sydney</td>\n",
       "      <td>33.8688°</td>\n",
       "      <td>151.2093°</td>\n",
       "      <td>S,</td>\n",
       "      <td>E</td>\n",
       "    </tr>\n",
       "    <tr>\n",
       "      <th>2</th>\n",
       "      <td>Perth</td>\n",
       "      <td>31.9505°</td>\n",
       "      <td>115.8605°</td>\n",
       "      <td>S,</td>\n",
       "      <td>E</td>\n",
       "    </tr>\n",
       "    <tr>\n",
       "      <th>3</th>\n",
       "      <td>Darwin</td>\n",
       "      <td>12.4634°</td>\n",
       "      <td>130.8456°</td>\n",
       "      <td>S,</td>\n",
       "      <td>E</td>\n",
       "    </tr>\n",
       "    <tr>\n",
       "      <th>4</th>\n",
       "      <td>Hobart</td>\n",
       "      <td>42.8821°</td>\n",
       "      <td>147.3272°</td>\n",
       "      <td>S,</td>\n",
       "      <td>E</td>\n",
       "    </tr>\n",
       "  </tbody>\n",
       "</table>\n",
       "</div>"
      ],
      "text/plain": [
       "       City  Latitude  Longitude Latitudedir Longitudedir\n",
       "0  Canberra  35.2809°  149.1300°          S,            E\n",
       "1    Sydney  33.8688°  151.2093°          S,            E\n",
       "2     Perth  31.9505°  115.8605°          S,            E\n",
       "3    Darwin  12.4634°  130.8456°          S,            E\n",
       "4    Hobart  42.8821°  147.3272°          S,            E"
      ]
     },
     "execution_count": 95,
     "metadata": {},
     "output_type": "execute_result"
    }
   ],
   "source": [
    "samplecity.head()"
   ]
  },
  {
   "cell_type": "code",
   "execution_count": 96,
   "metadata": {},
   "outputs": [],
   "source": [
    "#我们对samplecity也执行同样的处理：去掉经纬度中度数的符号，并且舍弃我们的经纬度的方向\n",
    "samplecity[\"Latitudenum\"] = samplecity[\"Latitude\"].apply(lambda x:float(x[:-1]))\n",
    "samplecity[\"Longitudenum\"] = samplecity[\"Longitude\"].apply(lambda x:float(x[:-1]))\n",
    "samplecityd = samplecity.iloc[:,[0,5,6]]"
   ]
  },
  {
   "cell_type": "code",
   "execution_count": 97,
   "metadata": {},
   "outputs": [
    {
     "data": {
      "text/html": [
       "<div>\n",
       "<style scoped>\n",
       "    .dataframe tbody tr th:only-of-type {\n",
       "        vertical-align: middle;\n",
       "    }\n",
       "\n",
       "    .dataframe tbody tr th {\n",
       "        vertical-align: top;\n",
       "    }\n",
       "\n",
       "    .dataframe thead th {\n",
       "        text-align: right;\n",
       "    }\n",
       "</style>\n",
       "<table border=\"1\" class=\"dataframe\">\n",
       "  <thead>\n",
       "    <tr style=\"text-align: right;\">\n",
       "      <th></th>\n",
       "      <th>City</th>\n",
       "      <th>Latitudenum</th>\n",
       "      <th>Longitudenum</th>\n",
       "    </tr>\n",
       "  </thead>\n",
       "  <tbody>\n",
       "    <tr>\n",
       "      <th>0</th>\n",
       "      <td>Canberra</td>\n",
       "      <td>35.2809</td>\n",
       "      <td>149.1300</td>\n",
       "    </tr>\n",
       "    <tr>\n",
       "      <th>1</th>\n",
       "      <td>Sydney</td>\n",
       "      <td>33.8688</td>\n",
       "      <td>151.2093</td>\n",
       "    </tr>\n",
       "    <tr>\n",
       "      <th>2</th>\n",
       "      <td>Perth</td>\n",
       "      <td>31.9505</td>\n",
       "      <td>115.8605</td>\n",
       "    </tr>\n",
       "    <tr>\n",
       "      <th>3</th>\n",
       "      <td>Darwin</td>\n",
       "      <td>12.4634</td>\n",
       "      <td>130.8456</td>\n",
       "    </tr>\n",
       "    <tr>\n",
       "      <th>4</th>\n",
       "      <td>Hobart</td>\n",
       "      <td>42.8821</td>\n",
       "      <td>147.3272</td>\n",
       "    </tr>\n",
       "  </tbody>\n",
       "</table>\n",
       "</div>"
      ],
      "text/plain": [
       "       City  Latitudenum  Longitudenum\n",
       "0  Canberra      35.2809      149.1300\n",
       "1    Sydney      33.8688      151.2093\n",
       "2     Perth      31.9505      115.8605\n",
       "3    Darwin      12.4634      130.8456\n",
       "4    Hobart      42.8821      147.3272"
      ]
     },
     "execution_count": 97,
     "metadata": {},
     "output_type": "execute_result"
    }
   ],
   "source": [
    "samplecityd.head()"
   ]
  },
  {
   "cell_type": "code",
   "execution_count": 98,
   "metadata": {},
   "outputs": [
    {
     "name": "stderr",
     "output_type": "stream",
     "text": [
      "/Users/byronleung/opt/anaconda3/lib/python3.7/site-packages/pandas/core/indexing.py:376: SettingWithCopyWarning: \n",
      "A value is trying to be set on a copy of a slice from a DataFrame.\n",
      "Try using .loc[row_indexer,col_indexer] = value instead\n",
      "\n",
      "See the caveats in the documentation: http://pandas.pydata.org/pandas-docs/stable/user_guide/indexing.html#returning-a-view-versus-a-copy\n",
      "  self.obj[key] = _infer_fill_value(value)\n",
      "/Users/byronleung/opt/anaconda3/lib/python3.7/site-packages/pandas/core/indexing.py:494: SettingWithCopyWarning: \n",
      "A value is trying to be set on a copy of a slice from a DataFrame.\n",
      "Try using .loc[row_indexer,col_indexer] = value instead\n",
      "\n",
      "See the caveats in the documentation: http://pandas.pydata.org/pandas-docs/stable/user_guide/indexing.html#returning-a-view-versus-a-copy\n",
      "  self.obj[item] = s\n"
     ]
    }
   ],
   "source": [
    "#首先使用radians将角度转换成弧度\n",
    "from math import radians, sin, cos, acos\n",
    "citylld.loc[:,\"slat\"] = citylld.iloc[:,1].apply(lambda x : radians(x))\n",
    "#radians不接受boardcasting，只能一个一个带进去，顺便避免循环，所以还是用 .apply(lambda :)\n",
    "citylld.loc[:,\"slon\"] = citylld.iloc[:,2].apply(lambda x : radians(x))\n",
    "samplecityd.loc[:,\"elat\"] = samplecityd.iloc[:,1].apply(lambda x : radians(x))\n",
    "samplecityd.loc[:,\"elon\"] = samplecityd.iloc[:,2].apply(lambda x : radians(x))"
   ]
  },
  {
   "cell_type": "code",
   "execution_count": 99,
   "metadata": {},
   "outputs": [
    {
     "data": {
      "text/html": [
       "<div>\n",
       "<style scoped>\n",
       "    .dataframe tbody tr th:only-of-type {\n",
       "        vertical-align: middle;\n",
       "    }\n",
       "\n",
       "    .dataframe tbody tr th {\n",
       "        vertical-align: top;\n",
       "    }\n",
       "\n",
       "    .dataframe thead th {\n",
       "        text-align: right;\n",
       "    }\n",
       "</style>\n",
       "<table border=\"1\" class=\"dataframe\">\n",
       "  <thead>\n",
       "    <tr style=\"text-align: right;\">\n",
       "      <th></th>\n",
       "      <th>City</th>\n",
       "      <th>Latitudenum</th>\n",
       "      <th>Longitudenum</th>\n",
       "      <th>elat</th>\n",
       "      <th>elon</th>\n",
       "    </tr>\n",
       "  </thead>\n",
       "  <tbody>\n",
       "    <tr>\n",
       "      <th>0</th>\n",
       "      <td>Canberra</td>\n",
       "      <td>35.2809</td>\n",
       "      <td>149.1300</td>\n",
       "      <td>0.615768</td>\n",
       "      <td>2.602810</td>\n",
       "    </tr>\n",
       "    <tr>\n",
       "      <th>1</th>\n",
       "      <td>Sydney</td>\n",
       "      <td>33.8688</td>\n",
       "      <td>151.2093</td>\n",
       "      <td>0.591122</td>\n",
       "      <td>2.639100</td>\n",
       "    </tr>\n",
       "    <tr>\n",
       "      <th>2</th>\n",
       "      <td>Perth</td>\n",
       "      <td>31.9505</td>\n",
       "      <td>115.8605</td>\n",
       "      <td>0.557641</td>\n",
       "      <td>2.022147</td>\n",
       "    </tr>\n",
       "  </tbody>\n",
       "</table>\n",
       "</div>"
      ],
      "text/plain": [
       "       City  Latitudenum  Longitudenum      elat      elon\n",
       "0  Canberra      35.2809      149.1300  0.615768  2.602810\n",
       "1    Sydney      33.8688      151.2093  0.591122  2.639100\n",
       "2     Perth      31.9505      115.8605  0.557641  2.022147"
      ]
     },
     "execution_count": 99,
     "metadata": {},
     "output_type": "execute_result"
    }
   ],
   "source": [
    "samplecityd.head(3)\n",
    "#这就有了弧度"
   ]
  },
  {
   "cell_type": "code",
   "execution_count": 100,
   "metadata": {},
   "outputs": [
    {
     "name": "stderr",
     "output_type": "stream",
     "text": [
      "/Users/byronleung/opt/anaconda3/lib/python3.7/site-packages/pandas/core/series.py:856: RuntimeWarning: invalid value encountered in arccos\n",
      "  result = getattr(ufunc, method)(*inputs, **kwargs)\n"
     ]
    }
   ],
   "source": [
    "import sys\n",
    "for i in range(samplecityd.shape[0]):\n",
    "    slat = citylld.loc[:,\"slat\"]\n",
    "    slon = citylld.loc[:,\"slon\"]\n",
    "    elat = samplecityd.loc[i,\"elat\"]\n",
    "    elon = samplecityd.loc[i,\"elon\"]\n",
    "    dist = 6371.01 * np.arccos(np.sin(slat)*np.sin(elat) + \n",
    "                          np.cos(slat)*np.cos(elat)*np.cos(slon.values - elon))#套公式\n",
    "    city_index = np.argsort(dist)[0]\n",
    "    #每次计算后，取距离最近的城市，然后将最近的城市和城市对应的气候都匹配到samplecityd中\n",
    "    samplecityd.loc[i,\"closest_city\"] = citylld.loc[city_index,\"City\"]\n",
    "    samplecityd.loc[i,\"climate\"] = citylld.loc[city_index,\"climate\"]"
   ]
  },
  {
   "cell_type": "code",
   "execution_count": 101,
   "metadata": {},
   "outputs": [
    {
     "data": {
      "text/html": [
       "<div>\n",
       "<style scoped>\n",
       "    .dataframe tbody tr th:only-of-type {\n",
       "        vertical-align: middle;\n",
       "    }\n",
       "\n",
       "    .dataframe tbody tr th {\n",
       "        vertical-align: top;\n",
       "    }\n",
       "\n",
       "    .dataframe thead th {\n",
       "        text-align: right;\n",
       "    }\n",
       "</style>\n",
       "<table border=\"1\" class=\"dataframe\">\n",
       "  <thead>\n",
       "    <tr style=\"text-align: right;\">\n",
       "      <th></th>\n",
       "      <th>City</th>\n",
       "      <th>Latitudenum</th>\n",
       "      <th>Longitudenum</th>\n",
       "      <th>elat</th>\n",
       "      <th>elon</th>\n",
       "      <th>closest_city</th>\n",
       "      <th>climate</th>\n",
       "    </tr>\n",
       "  </thead>\n",
       "  <tbody>\n",
       "    <tr>\n",
       "      <th>0</th>\n",
       "      <td>Canberra</td>\n",
       "      <td>35.2809</td>\n",
       "      <td>149.1300</td>\n",
       "      <td>0.615768</td>\n",
       "      <td>2.602810</td>\n",
       "      <td>Canberra</td>\n",
       "      <td>Cool temperate</td>\n",
       "    </tr>\n",
       "    <tr>\n",
       "      <th>1</th>\n",
       "      <td>Sydney</td>\n",
       "      <td>33.8688</td>\n",
       "      <td>151.2093</td>\n",
       "      <td>0.591122</td>\n",
       "      <td>2.639100</td>\n",
       "      <td>Sydney</td>\n",
       "      <td>Warm temperate</td>\n",
       "    </tr>\n",
       "    <tr>\n",
       "      <th>2</th>\n",
       "      <td>Perth</td>\n",
       "      <td>31.9505</td>\n",
       "      <td>115.8605</td>\n",
       "      <td>0.557641</td>\n",
       "      <td>2.022147</td>\n",
       "      <td>Perth</td>\n",
       "      <td>Warm temperate</td>\n",
       "    </tr>\n",
       "    <tr>\n",
       "      <th>3</th>\n",
       "      <td>Darwin</td>\n",
       "      <td>12.4634</td>\n",
       "      <td>130.8456</td>\n",
       "      <td>0.217527</td>\n",
       "      <td>2.283687</td>\n",
       "      <td>Darwin</td>\n",
       "      <td>High humidity summer, warm winter</td>\n",
       "    </tr>\n",
       "    <tr>\n",
       "      <th>4</th>\n",
       "      <td>Hobart</td>\n",
       "      <td>42.8821</td>\n",
       "      <td>147.3272</td>\n",
       "      <td>0.748434</td>\n",
       "      <td>2.571345</td>\n",
       "      <td>Hobart</td>\n",
       "      <td>Cool temperate</td>\n",
       "    </tr>\n",
       "  </tbody>\n",
       "</table>\n",
       "</div>"
      ],
      "text/plain": [
       "       City  Latitudenum  Longitudenum      elat      elon closest_city  \\\n",
       "0  Canberra      35.2809      149.1300  0.615768  2.602810     Canberra   \n",
       "1    Sydney      33.8688      151.2093  0.591122  2.639100       Sydney   \n",
       "2     Perth      31.9505      115.8605  0.557641  2.022147        Perth   \n",
       "3    Darwin      12.4634      130.8456  0.217527  2.283687       Darwin   \n",
       "4    Hobart      42.8821      147.3272  0.748434  2.571345       Hobart   \n",
       "\n",
       "                             climate  \n",
       "0                  Cool temperate     \n",
       "1                  Warm temperate     \n",
       "2                  Warm temperate     \n",
       "3  High humidity summer, warm winter  \n",
       "4                  Cool temperate     "
      ]
     },
     "execution_count": 101,
     "metadata": {},
     "output_type": "execute_result"
    }
   ],
   "source": [
    "#查看最后的结果，需要检查城市匹配是否基本正确\n",
    "samplecityd.head(5)"
   ]
  },
  {
   "cell_type": "markdown",
   "metadata": {},
   "source": [
    "### 总要查看匹配的closest city是否正确"
   ]
  },
  {
   "cell_type": "code",
   "execution_count": 102,
   "metadata": {},
   "outputs": [
    {
     "data": {
      "text/plain": [
       "Warm temperate                       15\n",
       "Mild temperate                       10\n",
       "Cool temperate                        9\n",
       "Hot dry summer, cool winter           6\n",
       "High humidity summer, warm winter     4\n",
       "Hot dry summer, warm winter           3\n",
       "Warm humid summer, mild winter        2\n",
       "Name: climate, dtype: int64"
      ]
     },
     "execution_count": 102,
     "metadata": {},
     "output_type": "execute_result"
    }
   ],
   "source": [
    "#查看气候的分布\n",
    "samplecityd[\"climate\"].value_counts()"
   ]
  },
  {
   "cell_type": "code",
   "execution_count": 103,
   "metadata": {},
   "outputs": [],
   "source": [
    "#确认无误后，取出样本城市所对应的气候，并保存\n",
    "locafinal = samplecityd.iloc[:,[0,-1]]"
   ]
  },
  {
   "cell_type": "code",
   "execution_count": 104,
   "metadata": {},
   "outputs": [
    {
     "data": {
      "text/html": [
       "<div>\n",
       "<style scoped>\n",
       "    .dataframe tbody tr th:only-of-type {\n",
       "        vertical-align: middle;\n",
       "    }\n",
       "\n",
       "    .dataframe tbody tr th {\n",
       "        vertical-align: top;\n",
       "    }\n",
       "\n",
       "    .dataframe thead th {\n",
       "        text-align: right;\n",
       "    }\n",
       "</style>\n",
       "<table border=\"1\" class=\"dataframe\">\n",
       "  <thead>\n",
       "    <tr style=\"text-align: right;\">\n",
       "      <th></th>\n",
       "      <th>City</th>\n",
       "      <th>climate</th>\n",
       "    </tr>\n",
       "  </thead>\n",
       "  <tbody>\n",
       "    <tr>\n",
       "      <th>0</th>\n",
       "      <td>Canberra</td>\n",
       "      <td>Cool temperate</td>\n",
       "    </tr>\n",
       "    <tr>\n",
       "      <th>1</th>\n",
       "      <td>Sydney</td>\n",
       "      <td>Warm temperate</td>\n",
       "    </tr>\n",
       "    <tr>\n",
       "      <th>2</th>\n",
       "      <td>Perth</td>\n",
       "      <td>Warm temperate</td>\n",
       "    </tr>\n",
       "    <tr>\n",
       "      <th>3</th>\n",
       "      <td>Darwin</td>\n",
       "      <td>High humidity summer, warm winter</td>\n",
       "    </tr>\n",
       "    <tr>\n",
       "      <th>4</th>\n",
       "      <td>Hobart</td>\n",
       "      <td>Cool temperate</td>\n",
       "    </tr>\n",
       "  </tbody>\n",
       "</table>\n",
       "</div>"
      ],
      "text/plain": [
       "       City                            climate\n",
       "0  Canberra                  Cool temperate   \n",
       "1    Sydney                  Warm temperate   \n",
       "2     Perth                  Warm temperate   \n",
       "3    Darwin  High humidity summer, warm winter\n",
       "4    Hobart                  Cool temperate   "
      ]
     },
     "execution_count": 104,
     "metadata": {},
     "output_type": "execute_result"
    }
   ],
   "source": [
    "locafinal.head()"
   ]
  },
  {
   "cell_type": "code",
   "execution_count": 105,
   "metadata": {},
   "outputs": [],
   "source": [
    "locafinal.columns = [\"Location\",\"Climate\"]"
   ]
  },
  {
   "cell_type": "code",
   "execution_count": 106,
   "metadata": {},
   "outputs": [
    {
     "data": {
      "text/html": [
       "<div>\n",
       "<style scoped>\n",
       "    .dataframe tbody tr th:only-of-type {\n",
       "        vertical-align: middle;\n",
       "    }\n",
       "\n",
       "    .dataframe tbody tr th {\n",
       "        vertical-align: top;\n",
       "    }\n",
       "\n",
       "    .dataframe thead th {\n",
       "        text-align: right;\n",
       "    }\n",
       "</style>\n",
       "<table border=\"1\" class=\"dataframe\">\n",
       "  <thead>\n",
       "    <tr style=\"text-align: right;\">\n",
       "      <th></th>\n",
       "      <th>Location</th>\n",
       "      <th>Climate</th>\n",
       "    </tr>\n",
       "  </thead>\n",
       "  <tbody>\n",
       "    <tr>\n",
       "      <th>0</th>\n",
       "      <td>Canberra</td>\n",
       "      <td>Cool temperate</td>\n",
       "    </tr>\n",
       "    <tr>\n",
       "      <th>1</th>\n",
       "      <td>Sydney</td>\n",
       "      <td>Warm temperate</td>\n",
       "    </tr>\n",
       "    <tr>\n",
       "      <th>2</th>\n",
       "      <td>Perth</td>\n",
       "      <td>Warm temperate</td>\n",
       "    </tr>\n",
       "    <tr>\n",
       "      <th>3</th>\n",
       "      <td>Darwin</td>\n",
       "      <td>High humidity summer, warm winter</td>\n",
       "    </tr>\n",
       "    <tr>\n",
       "      <th>4</th>\n",
       "      <td>Hobart</td>\n",
       "      <td>Cool temperate</td>\n",
       "    </tr>\n",
       "  </tbody>\n",
       "</table>\n",
       "</div>"
      ],
      "text/plain": [
       "   Location                            Climate\n",
       "0  Canberra                  Cool temperate   \n",
       "1    Sydney                  Warm temperate   \n",
       "2     Perth                  Warm temperate   \n",
       "3    Darwin  High humidity summer, warm winter\n",
       "4    Hobart                  Cool temperate   "
      ]
     },
     "execution_count": 106,
     "metadata": {},
     "output_type": "execute_result"
    }
   ],
   "source": [
    "locafinal.head()"
   ]
  },
  {
   "cell_type": "code",
   "execution_count": 107,
   "metadata": {},
   "outputs": [],
   "source": [
    "#在这里设定locafinal的索引为地点，是为了之后进行map的匹配\n",
    "locafinal = locafinal.set_index(keys=\"Location\")"
   ]
  },
  {
   "cell_type": "code",
   "execution_count": 108,
   "metadata": {},
   "outputs": [
    {
     "data": {
      "text/html": [
       "<div>\n",
       "<style scoped>\n",
       "    .dataframe tbody tr th:only-of-type {\n",
       "        vertical-align: middle;\n",
       "    }\n",
       "\n",
       "    .dataframe tbody tr th {\n",
       "        vertical-align: top;\n",
       "    }\n",
       "\n",
       "    .dataframe thead th {\n",
       "        text-align: right;\n",
       "    }\n",
       "</style>\n",
       "<table border=\"1\" class=\"dataframe\">\n",
       "  <thead>\n",
       "    <tr style=\"text-align: right;\">\n",
       "      <th></th>\n",
       "      <th>Climate</th>\n",
       "    </tr>\n",
       "    <tr>\n",
       "      <th>Location</th>\n",
       "      <th></th>\n",
       "    </tr>\n",
       "  </thead>\n",
       "  <tbody>\n",
       "    <tr>\n",
       "      <th>Canberra</th>\n",
       "      <td>Cool temperate</td>\n",
       "    </tr>\n",
       "    <tr>\n",
       "      <th>Sydney</th>\n",
       "      <td>Warm temperate</td>\n",
       "    </tr>\n",
       "    <tr>\n",
       "      <th>Perth</th>\n",
       "      <td>Warm temperate</td>\n",
       "    </tr>\n",
       "    <tr>\n",
       "      <th>Darwin</th>\n",
       "      <td>High humidity summer, warm winter</td>\n",
       "    </tr>\n",
       "    <tr>\n",
       "      <th>Hobart</th>\n",
       "      <td>Cool temperate</td>\n",
       "    </tr>\n",
       "    <tr>\n",
       "      <th>Brisbane</th>\n",
       "      <td>Warm humid summer, mild winter</td>\n",
       "    </tr>\n",
       "    <tr>\n",
       "      <th>Adelaide</th>\n",
       "      <td>Warm temperate</td>\n",
       "    </tr>\n",
       "    <tr>\n",
       "      <th>Bendigo</th>\n",
       "      <td>Cool temperate</td>\n",
       "    </tr>\n",
       "    <tr>\n",
       "      <th>Townsville</th>\n",
       "      <td>High humidity summer, warm winter</td>\n",
       "    </tr>\n",
       "    <tr>\n",
       "      <th>AliceSprings</th>\n",
       "      <td>Hot dry summer, warm winter</td>\n",
       "    </tr>\n",
       "    <tr>\n",
       "      <th>MountGambier</th>\n",
       "      <td>Mild temperate</td>\n",
       "    </tr>\n",
       "    <tr>\n",
       "      <th>Launceston</th>\n",
       "      <td>Cool temperate</td>\n",
       "    </tr>\n",
       "    <tr>\n",
       "      <th>Ballarat</th>\n",
       "      <td>Cool temperate</td>\n",
       "    </tr>\n",
       "    <tr>\n",
       "      <th>Albany</th>\n",
       "      <td>Mild temperate</td>\n",
       "    </tr>\n",
       "    <tr>\n",
       "      <th>Albury</th>\n",
       "      <td>Hot dry summer, cool winter</td>\n",
       "    </tr>\n",
       "    <tr>\n",
       "      <th>PerthAirport</th>\n",
       "      <td>Warm temperate</td>\n",
       "    </tr>\n",
       "    <tr>\n",
       "      <th>MelbourneAirport</th>\n",
       "      <td>Mild temperate</td>\n",
       "    </tr>\n",
       "    <tr>\n",
       "      <th>Mildura</th>\n",
       "      <td>Hot dry summer, cool winter</td>\n",
       "    </tr>\n",
       "    <tr>\n",
       "      <th>SydneyAirport</th>\n",
       "      <td>Warm temperate</td>\n",
       "    </tr>\n",
       "    <tr>\n",
       "      <th>Nuriootpa</th>\n",
       "      <td>Warm temperate</td>\n",
       "    </tr>\n",
       "    <tr>\n",
       "      <th>Sale</th>\n",
       "      <td>Mild temperate</td>\n",
       "    </tr>\n",
       "    <tr>\n",
       "      <th>Watsonia</th>\n",
       "      <td>Hot dry summer, cool winter</td>\n",
       "    </tr>\n",
       "    <tr>\n",
       "      <th>Tuggeranong</th>\n",
       "      <td>Cool temperate</td>\n",
       "    </tr>\n",
       "    <tr>\n",
       "      <th>Portland</th>\n",
       "      <td>Mild temperate</td>\n",
       "    </tr>\n",
       "    <tr>\n",
       "      <th>Woomera</th>\n",
       "      <td>Warm temperate</td>\n",
       "    </tr>\n",
       "    <tr>\n",
       "      <th>Cairns</th>\n",
       "      <td>High humidity summer, warm winter</td>\n",
       "    </tr>\n",
       "    <tr>\n",
       "      <th>Cobar</th>\n",
       "      <td>Hot dry summer, cool winter</td>\n",
       "    </tr>\n",
       "    <tr>\n",
       "      <th>Wollongong</th>\n",
       "      <td>Warm temperate</td>\n",
       "    </tr>\n",
       "    <tr>\n",
       "      <th>GoldCoast</th>\n",
       "      <td>Cool temperate</td>\n",
       "    </tr>\n",
       "    <tr>\n",
       "      <th>WaggaWagga</th>\n",
       "      <td>Hot dry summer, cool winter</td>\n",
       "    </tr>\n",
       "    <tr>\n",
       "      <th>NorfolkIsland</th>\n",
       "      <td>Warm temperate</td>\n",
       "    </tr>\n",
       "    <tr>\n",
       "      <th>Penrith</th>\n",
       "      <td>Warm temperate</td>\n",
       "    </tr>\n",
       "    <tr>\n",
       "      <th>SalmonGums</th>\n",
       "      <td>Hot dry summer, cool winter</td>\n",
       "    </tr>\n",
       "    <tr>\n",
       "      <th>Newcastle</th>\n",
       "      <td>Warm temperate</td>\n",
       "    </tr>\n",
       "    <tr>\n",
       "      <th>CoffsHarbour</th>\n",
       "      <td>Warm humid summer, mild winter</td>\n",
       "    </tr>\n",
       "    <tr>\n",
       "      <th>Witchcliffe</th>\n",
       "      <td>Warm temperate</td>\n",
       "    </tr>\n",
       "    <tr>\n",
       "      <th>Richmond</th>\n",
       "      <td>Mild temperate</td>\n",
       "    </tr>\n",
       "    <tr>\n",
       "      <th>Dartmoor</th>\n",
       "      <td>Mild temperate</td>\n",
       "    </tr>\n",
       "    <tr>\n",
       "      <th>NorahHead</th>\n",
       "      <td>Cool temperate</td>\n",
       "    </tr>\n",
       "    <tr>\n",
       "      <th>BadgerysCreek</th>\n",
       "      <td>Warm temperate</td>\n",
       "    </tr>\n",
       "    <tr>\n",
       "      <th>MountGinini</th>\n",
       "      <td>Cool temperate</td>\n",
       "    </tr>\n",
       "    <tr>\n",
       "      <th>Moree</th>\n",
       "      <td>Hot dry summer, warm winter</td>\n",
       "    </tr>\n",
       "    <tr>\n",
       "      <th>Walpole</th>\n",
       "      <td>Mild temperate</td>\n",
       "    </tr>\n",
       "    <tr>\n",
       "      <th>PearceRAAF</th>\n",
       "      <td>Warm temperate</td>\n",
       "    </tr>\n",
       "    <tr>\n",
       "      <th>Williamtown</th>\n",
       "      <td>Warm temperate</td>\n",
       "    </tr>\n",
       "    <tr>\n",
       "      <th>Melbourne</th>\n",
       "      <td>Mild temperate</td>\n",
       "    </tr>\n",
       "    <tr>\n",
       "      <th>Nhil</th>\n",
       "      <td>Mild temperate</td>\n",
       "    </tr>\n",
       "    <tr>\n",
       "      <th>Katherine</th>\n",
       "      <td>High humidity summer, warm winter</td>\n",
       "    </tr>\n",
       "    <tr>\n",
       "      <th>Uluru</th>\n",
       "      <td>Hot dry summer, warm winter</td>\n",
       "    </tr>\n",
       "  </tbody>\n",
       "</table>\n",
       "</div>"
      ],
      "text/plain": [
       "                                            Climate\n",
       "Location                                           \n",
       "Canberra                          Cool temperate   \n",
       "Sydney                            Warm temperate   \n",
       "Perth                             Warm temperate   \n",
       "Darwin            High humidity summer, warm winter\n",
       "Hobart                            Cool temperate   \n",
       "Brisbane             Warm humid summer, mild winter\n",
       "Adelaide                          Warm temperate   \n",
       "Bendigo                           Cool temperate   \n",
       "Townsville        High humidity summer, warm winter\n",
       "AliceSprings            Hot dry summer, warm winter\n",
       "MountGambier                      Mild temperate   \n",
       "Launceston                        Cool temperate   \n",
       "Ballarat                          Cool temperate   \n",
       "Albany                            Mild temperate   \n",
       "Albury                  Hot dry summer, cool winter\n",
       "PerthAirport                      Warm temperate   \n",
       "MelbourneAirport                  Mild temperate   \n",
       "Mildura                 Hot dry summer, cool winter\n",
       "SydneyAirport                     Warm temperate   \n",
       "Nuriootpa                         Warm temperate   \n",
       "Sale                              Mild temperate   \n",
       "Watsonia                Hot dry summer, cool winter\n",
       "Tuggeranong                       Cool temperate   \n",
       "Portland                          Mild temperate   \n",
       "Woomera                           Warm temperate   \n",
       "Cairns            High humidity summer, warm winter\n",
       "Cobar                   Hot dry summer, cool winter\n",
       "Wollongong                        Warm temperate   \n",
       "GoldCoast                         Cool temperate   \n",
       "WaggaWagga              Hot dry summer, cool winter\n",
       "NorfolkIsland                     Warm temperate   \n",
       "Penrith                           Warm temperate   \n",
       "SalmonGums              Hot dry summer, cool winter\n",
       "Newcastle                         Warm temperate   \n",
       "CoffsHarbour         Warm humid summer, mild winter\n",
       "Witchcliffe                       Warm temperate   \n",
       "Richmond                          Mild temperate   \n",
       "Dartmoor                          Mild temperate   \n",
       "NorahHead                         Cool temperate   \n",
       "BadgerysCreek                     Warm temperate   \n",
       "MountGinini                       Cool temperate   \n",
       "Moree                   Hot dry summer, warm winter\n",
       "Walpole                           Mild temperate   \n",
       "PearceRAAF                        Warm temperate   \n",
       "Williamtown                       Warm temperate   \n",
       "Melbourne                         Mild temperate   \n",
       "Nhil                              Mild temperate   \n",
       "Katherine         High humidity summer, warm winter\n",
       "Uluru                   Hot dry summer, warm winter"
      ]
     },
     "execution_count": 108,
     "metadata": {},
     "output_type": "execute_result"
    }
   ],
   "source": [
    "locafinal"
   ]
  },
  {
   "cell_type": "code",
   "execution_count": 109,
   "metadata": {},
   "outputs": [],
   "source": [
    "locafinal.to_csv(r\"/Users/byronleung/Downloads/machine learning/SVM (second half)/samplelocation.csv\")"
   ]
  },
  {
   "attachments": {
    "image.png": {
     "image/png": "[encoded data removed]"
    }
   },
   "cell_type": "markdown",
   "metadata": {},
   "source": [
    "![image.png](attachment:image.png)"
   ]
  },
  {
   "cell_type": "code",
   "execution_count": 110,
   "metadata": {},
   "outputs": [
    {
     "data": {
      "text/html": [
       "<div>\n",
       "<style scoped>\n",
       "    .dataframe tbody tr th:only-of-type {\n",
       "        vertical-align: middle;\n",
       "    }\n",
       "\n",
       "    .dataframe tbody tr th {\n",
       "        vertical-align: top;\n",
       "    }\n",
       "\n",
       "    .dataframe thead th {\n",
       "        text-align: right;\n",
       "    }\n",
       "</style>\n",
       "<table border=\"1\" class=\"dataframe\">\n",
       "  <thead>\n",
       "    <tr style=\"text-align: right;\">\n",
       "      <th></th>\n",
       "      <th>Month</th>\n",
       "      <th>Location</th>\n",
       "      <th>MinTemp</th>\n",
       "      <th>MaxTemp</th>\n",
       "      <th>Rainfall</th>\n",
       "      <th>Evaporation</th>\n",
       "      <th>Sunshine</th>\n",
       "      <th>WindGustDir</th>\n",
       "      <th>WindGustSpeed</th>\n",
       "      <th>WindDir9am</th>\n",
       "      <th>...</th>\n",
       "      <th>WindSpeed3pm</th>\n",
       "      <th>Humidity9am</th>\n",
       "      <th>Humidity3pm</th>\n",
       "      <th>Pressure9am</th>\n",
       "      <th>Pressure3pm</th>\n",
       "      <th>Cloud9am</th>\n",
       "      <th>Cloud3pm</th>\n",
       "      <th>Temp9am</th>\n",
       "      <th>Temp3pm</th>\n",
       "      <th>RainToday</th>\n",
       "    </tr>\n",
       "  </thead>\n",
       "  <tbody>\n",
       "    <tr>\n",
       "      <th>0</th>\n",
       "      <td>8</td>\n",
       "      <td>Katherine</td>\n",
       "      <td>17.5</td>\n",
       "      <td>36.0</td>\n",
       "      <td>0.0</td>\n",
       "      <td>8.8</td>\n",
       "      <td>NaN</td>\n",
       "      <td>ESE</td>\n",
       "      <td>26.0</td>\n",
       "      <td>NNW</td>\n",
       "      <td>...</td>\n",
       "      <td>15.0</td>\n",
       "      <td>57.0</td>\n",
       "      <td>NaN</td>\n",
       "      <td>1016.8</td>\n",
       "      <td>1012.2</td>\n",
       "      <td>0.0</td>\n",
       "      <td>NaN</td>\n",
       "      <td>27.5</td>\n",
       "      <td>NaN</td>\n",
       "      <td>No</td>\n",
       "    </tr>\n",
       "    <tr>\n",
       "      <th>1</th>\n",
       "      <td>12</td>\n",
       "      <td>Tuggeranong</td>\n",
       "      <td>9.5</td>\n",
       "      <td>25.0</td>\n",
       "      <td>0.0</td>\n",
       "      <td>NaN</td>\n",
       "      <td>NaN</td>\n",
       "      <td>NNW</td>\n",
       "      <td>33.0</td>\n",
       "      <td>NE</td>\n",
       "      <td>...</td>\n",
       "      <td>17.0</td>\n",
       "      <td>59.0</td>\n",
       "      <td>31.0</td>\n",
       "      <td>1020.4</td>\n",
       "      <td>1017.5</td>\n",
       "      <td>NaN</td>\n",
       "      <td>NaN</td>\n",
       "      <td>14.6</td>\n",
       "      <td>23.6</td>\n",
       "      <td>No</td>\n",
       "    </tr>\n",
       "    <tr>\n",
       "      <th>2</th>\n",
       "      <td>4</td>\n",
       "      <td>Albany</td>\n",
       "      <td>13.0</td>\n",
       "      <td>22.6</td>\n",
       "      <td>0.0</td>\n",
       "      <td>3.8</td>\n",
       "      <td>10.4</td>\n",
       "      <td>NaN</td>\n",
       "      <td>NaN</td>\n",
       "      <td>NE</td>\n",
       "      <td>...</td>\n",
       "      <td>31.0</td>\n",
       "      <td>79.0</td>\n",
       "      <td>68.0</td>\n",
       "      <td>1020.3</td>\n",
       "      <td>1015.7</td>\n",
       "      <td>1.0</td>\n",
       "      <td>3.0</td>\n",
       "      <td>17.5</td>\n",
       "      <td>20.8</td>\n",
       "      <td>No</td>\n",
       "    </tr>\n",
       "    <tr>\n",
       "      <th>3</th>\n",
       "      <td>11</td>\n",
       "      <td>Sale</td>\n",
       "      <td>13.9</td>\n",
       "      <td>29.8</td>\n",
       "      <td>0.0</td>\n",
       "      <td>5.8</td>\n",
       "      <td>5.1</td>\n",
       "      <td>S</td>\n",
       "      <td>37.0</td>\n",
       "      <td>N</td>\n",
       "      <td>...</td>\n",
       "      <td>28.0</td>\n",
       "      <td>82.0</td>\n",
       "      <td>44.0</td>\n",
       "      <td>1012.5</td>\n",
       "      <td>1005.9</td>\n",
       "      <td>6.0</td>\n",
       "      <td>6.0</td>\n",
       "      <td>18.5</td>\n",
       "      <td>27.5</td>\n",
       "      <td>No</td>\n",
       "    </tr>\n",
       "    <tr>\n",
       "      <th>4</th>\n",
       "      <td>4</td>\n",
       "      <td>Mildura</td>\n",
       "      <td>6.0</td>\n",
       "      <td>23.5</td>\n",
       "      <td>0.0</td>\n",
       "      <td>2.8</td>\n",
       "      <td>8.6</td>\n",
       "      <td>NNE</td>\n",
       "      <td>24.0</td>\n",
       "      <td>E</td>\n",
       "      <td>...</td>\n",
       "      <td>15.0</td>\n",
       "      <td>58.0</td>\n",
       "      <td>35.0</td>\n",
       "      <td>1019.8</td>\n",
       "      <td>1014.1</td>\n",
       "      <td>2.0</td>\n",
       "      <td>4.0</td>\n",
       "      <td>12.4</td>\n",
       "      <td>22.4</td>\n",
       "      <td>No</td>\n",
       "    </tr>\n",
       "  </tbody>\n",
       "</table>\n",
       "<p>5 rows × 22 columns</p>\n",
       "</div>"
      ],
      "text/plain": [
       "   Month     Location  MinTemp  MaxTemp  Rainfall  Evaporation  Sunshine  \\\n",
       "0      8    Katherine     17.5     36.0       0.0          8.8       NaN   \n",
       "1     12  Tuggeranong      9.5     25.0       0.0          NaN       NaN   \n",
       "2      4       Albany     13.0     22.6       0.0          3.8      10.4   \n",
       "3     11         Sale     13.9     29.8       0.0          5.8       5.1   \n",
       "4      4      Mildura      6.0     23.5       0.0          2.8       8.6   \n",
       "\n",
       "  WindGustDir  WindGustSpeed WindDir9am  ... WindSpeed3pm  Humidity9am  \\\n",
       "0         ESE           26.0        NNW  ...         15.0         57.0   \n",
       "1         NNW           33.0         NE  ...         17.0         59.0   \n",
       "2         NaN            NaN         NE  ...         31.0         79.0   \n",
       "3           S           37.0          N  ...         28.0         82.0   \n",
       "4         NNE           24.0          E  ...         15.0         58.0   \n",
       "\n",
       "   Humidity3pm  Pressure9am  Pressure3pm  Cloud9am  Cloud3pm  Temp9am  \\\n",
       "0          NaN       1016.8       1012.2       0.0       NaN     27.5   \n",
       "1         31.0       1020.4       1017.5       NaN       NaN     14.6   \n",
       "2         68.0       1020.3       1015.7       1.0       3.0     17.5   \n",
       "3         44.0       1012.5       1005.9       6.0       6.0     18.5   \n",
       "4         35.0       1019.8       1014.1       2.0       4.0     12.4   \n",
       "\n",
       "   Temp3pm  RainToday  \n",
       "0      NaN         No  \n",
       "1     23.6         No  \n",
       "2     20.8         No  \n",
       "3     27.5         No  \n",
       "4     22.4         No  \n",
       "\n",
       "[5 rows x 22 columns]"
      ]
     },
     "execution_count": 110,
     "metadata": {},
     "output_type": "execute_result"
    }
   ],
   "source": [
    "#是否还记得训练集长什么样呢？\n",
    "Xtrain.head()"
   ]
  },
  {
   "cell_type": "code",
   "execution_count": 111,
   "metadata": {},
   "outputs": [],
   "source": [
    "#将location中的内容替换，并且确保匹配进入的气候字符串中不含有逗号，气候两边不含有空格\n",
    "#我们使用re这个模块来消除逗号\n",
    "#re.sub(希望替换的值，希望被替换成的值，要操作的字符串) #去掉逗号\n",
    "#x.strip()是去掉空格的函数\n",
    "#把location替换成气候的是我们的map的映射\n",
    "import re"
   ]
  },
  {
   "cell_type": "code",
   "execution_count": 112,
   "metadata": {},
   "outputs": [],
   "source": [
    "Xtrain[\"Location\"] = Xtrain[\"Location\"].map(locafinal.iloc[:,0])\n",
    "#map函数替换"
   ]
  },
  {
   "cell_type": "code",
   "execution_count": 113,
   "metadata": {},
   "outputs": [
    {
     "data": {
      "text/html": [
       "<div>\n",
       "<style scoped>\n",
       "    .dataframe tbody tr th:only-of-type {\n",
       "        vertical-align: middle;\n",
       "    }\n",
       "\n",
       "    .dataframe tbody tr th {\n",
       "        vertical-align: top;\n",
       "    }\n",
       "\n",
       "    .dataframe thead th {\n",
       "        text-align: right;\n",
       "    }\n",
       "</style>\n",
       "<table border=\"1\" class=\"dataframe\">\n",
       "  <thead>\n",
       "    <tr style=\"text-align: right;\">\n",
       "      <th></th>\n",
       "      <th>Month</th>\n",
       "      <th>Location</th>\n",
       "      <th>MinTemp</th>\n",
       "      <th>MaxTemp</th>\n",
       "      <th>Rainfall</th>\n",
       "      <th>Evaporation</th>\n",
       "      <th>Sunshine</th>\n",
       "      <th>WindGustDir</th>\n",
       "      <th>WindGustSpeed</th>\n",
       "      <th>WindDir9am</th>\n",
       "      <th>...</th>\n",
       "      <th>WindSpeed3pm</th>\n",
       "      <th>Humidity9am</th>\n",
       "      <th>Humidity3pm</th>\n",
       "      <th>Pressure9am</th>\n",
       "      <th>Pressure3pm</th>\n",
       "      <th>Cloud9am</th>\n",
       "      <th>Cloud3pm</th>\n",
       "      <th>Temp9am</th>\n",
       "      <th>Temp3pm</th>\n",
       "      <th>RainToday</th>\n",
       "    </tr>\n",
       "  </thead>\n",
       "  <tbody>\n",
       "    <tr>\n",
       "      <th>0</th>\n",
       "      <td>8</td>\n",
       "      <td>High humidity summer, warm winter</td>\n",
       "      <td>17.5</td>\n",
       "      <td>36.0</td>\n",
       "      <td>0.0</td>\n",
       "      <td>8.8</td>\n",
       "      <td>NaN</td>\n",
       "      <td>ESE</td>\n",
       "      <td>26.0</td>\n",
       "      <td>NNW</td>\n",
       "      <td>...</td>\n",
       "      <td>15.0</td>\n",
       "      <td>57.0</td>\n",
       "      <td>NaN</td>\n",
       "      <td>1016.8</td>\n",
       "      <td>1012.2</td>\n",
       "      <td>0.0</td>\n",
       "      <td>NaN</td>\n",
       "      <td>27.5</td>\n",
       "      <td>NaN</td>\n",
       "      <td>No</td>\n",
       "    </tr>\n",
       "    <tr>\n",
       "      <th>1</th>\n",
       "      <td>12</td>\n",
       "      <td>Cool temperate</td>\n",
       "      <td>9.5</td>\n",
       "      <td>25.0</td>\n",
       "      <td>0.0</td>\n",
       "      <td>NaN</td>\n",
       "      <td>NaN</td>\n",
       "      <td>NNW</td>\n",
       "      <td>33.0</td>\n",
       "      <td>NE</td>\n",
       "      <td>...</td>\n",
       "      <td>17.0</td>\n",
       "      <td>59.0</td>\n",
       "      <td>31.0</td>\n",
       "      <td>1020.4</td>\n",
       "      <td>1017.5</td>\n",
       "      <td>NaN</td>\n",
       "      <td>NaN</td>\n",
       "      <td>14.6</td>\n",
       "      <td>23.6</td>\n",
       "      <td>No</td>\n",
       "    </tr>\n",
       "    <tr>\n",
       "      <th>2</th>\n",
       "      <td>4</td>\n",
       "      <td>Mild temperate</td>\n",
       "      <td>13.0</td>\n",
       "      <td>22.6</td>\n",
       "      <td>0.0</td>\n",
       "      <td>3.8</td>\n",
       "      <td>10.4</td>\n",
       "      <td>NaN</td>\n",
       "      <td>NaN</td>\n",
       "      <td>NE</td>\n",
       "      <td>...</td>\n",
       "      <td>31.0</td>\n",
       "      <td>79.0</td>\n",
       "      <td>68.0</td>\n",
       "      <td>1020.3</td>\n",
       "      <td>1015.7</td>\n",
       "      <td>1.0</td>\n",
       "      <td>3.0</td>\n",
       "      <td>17.5</td>\n",
       "      <td>20.8</td>\n",
       "      <td>No</td>\n",
       "    </tr>\n",
       "    <tr>\n",
       "      <th>3</th>\n",
       "      <td>11</td>\n",
       "      <td>Mild temperate</td>\n",
       "      <td>13.9</td>\n",
       "      <td>29.8</td>\n",
       "      <td>0.0</td>\n",
       "      <td>5.8</td>\n",
       "      <td>5.1</td>\n",
       "      <td>S</td>\n",
       "      <td>37.0</td>\n",
       "      <td>N</td>\n",
       "      <td>...</td>\n",
       "      <td>28.0</td>\n",
       "      <td>82.0</td>\n",
       "      <td>44.0</td>\n",
       "      <td>1012.5</td>\n",
       "      <td>1005.9</td>\n",
       "      <td>6.0</td>\n",
       "      <td>6.0</td>\n",
       "      <td>18.5</td>\n",
       "      <td>27.5</td>\n",
       "      <td>No</td>\n",
       "    </tr>\n",
       "    <tr>\n",
       "      <th>4</th>\n",
       "      <td>4</td>\n",
       "      <td>Hot dry summer, cool winter</td>\n",
       "      <td>6.0</td>\n",
       "      <td>23.5</td>\n",
       "      <td>0.0</td>\n",
       "      <td>2.8</td>\n",
       "      <td>8.6</td>\n",
       "      <td>NNE</td>\n",
       "      <td>24.0</td>\n",
       "      <td>E</td>\n",
       "      <td>...</td>\n",
       "      <td>15.0</td>\n",
       "      <td>58.0</td>\n",
       "      <td>35.0</td>\n",
       "      <td>1019.8</td>\n",
       "      <td>1014.1</td>\n",
       "      <td>2.0</td>\n",
       "      <td>4.0</td>\n",
       "      <td>12.4</td>\n",
       "      <td>22.4</td>\n",
       "      <td>No</td>\n",
       "    </tr>\n",
       "  </tbody>\n",
       "</table>\n",
       "<p>5 rows × 22 columns</p>\n",
       "</div>"
      ],
      "text/plain": [
       "   Month                           Location  MinTemp  MaxTemp  Rainfall  \\\n",
       "0      8  High humidity summer, warm winter     17.5     36.0       0.0   \n",
       "1     12                  Cool temperate         9.5     25.0       0.0   \n",
       "2      4                  Mild temperate        13.0     22.6       0.0   \n",
       "3     11                  Mild temperate        13.9     29.8       0.0   \n",
       "4      4        Hot dry summer, cool winter      6.0     23.5       0.0   \n",
       "\n",
       "   Evaporation  Sunshine WindGustDir  WindGustSpeed WindDir9am  ...  \\\n",
       "0          8.8       NaN         ESE           26.0        NNW  ...   \n",
       "1          NaN       NaN         NNW           33.0         NE  ...   \n",
       "2          3.8      10.4         NaN            NaN         NE  ...   \n",
       "3          5.8       5.1           S           37.0          N  ...   \n",
       "4          2.8       8.6         NNE           24.0          E  ...   \n",
       "\n",
       "  WindSpeed3pm  Humidity9am  Humidity3pm  Pressure9am  Pressure3pm  Cloud9am  \\\n",
       "0         15.0         57.0          NaN       1016.8       1012.2       0.0   \n",
       "1         17.0         59.0         31.0       1020.4       1017.5       NaN   \n",
       "2         31.0         79.0         68.0       1020.3       1015.7       1.0   \n",
       "3         28.0         82.0         44.0       1012.5       1005.9       6.0   \n",
       "4         15.0         58.0         35.0       1019.8       1014.1       2.0   \n",
       "\n",
       "   Cloud3pm  Temp9am  Temp3pm  RainToday  \n",
       "0       NaN     27.5      NaN         No  \n",
       "1       NaN     14.6     23.6         No  \n",
       "2       3.0     17.5     20.8         No  \n",
       "3       6.0     18.5     27.5         No  \n",
       "4       4.0     12.4     22.4         No  \n",
       "\n",
       "[5 rows x 22 columns]"
      ]
     },
     "execution_count": 113,
     "metadata": {},
     "output_type": "execute_result"
    }
   ],
   "source": [
    "Xtrain.head()"
   ]
  },
  {
   "cell_type": "code",
   "execution_count": 114,
   "metadata": {},
   "outputs": [],
   "source": [
    "#城市的气候中所含的逗号和空格都去掉\n",
    "#  .strip() 是拿来去空格的\n",
    "Xtrain[\"Location\"] = Xtrain[\"Location\"].apply(lambda x:re.sub(\",\",\"\",x.strip()))#左边也是吧逗号替换成空格，然后删去空格"
   ]
  },
  {
   "cell_type": "markdown",
   "metadata": {},
   "source": [
    "## 气象站的名字替换成了对应的城市对应的气候"
   ]
  },
  {
   "cell_type": "code",
   "execution_count": 115,
   "metadata": {},
   "outputs": [
    {
     "data": {
      "text/html": [
       "<div>\n",
       "<style scoped>\n",
       "    .dataframe tbody tr th:only-of-type {\n",
       "        vertical-align: middle;\n",
       "    }\n",
       "\n",
       "    .dataframe tbody tr th {\n",
       "        vertical-align: top;\n",
       "    }\n",
       "\n",
       "    .dataframe thead th {\n",
       "        text-align: right;\n",
       "    }\n",
       "</style>\n",
       "<table border=\"1\" class=\"dataframe\">\n",
       "  <thead>\n",
       "    <tr style=\"text-align: right;\">\n",
       "      <th></th>\n",
       "      <th>Month</th>\n",
       "      <th>Location</th>\n",
       "      <th>MinTemp</th>\n",
       "      <th>MaxTemp</th>\n",
       "      <th>Rainfall</th>\n",
       "      <th>Evaporation</th>\n",
       "      <th>Sunshine</th>\n",
       "      <th>WindGustDir</th>\n",
       "      <th>WindGustSpeed</th>\n",
       "      <th>WindDir9am</th>\n",
       "      <th>...</th>\n",
       "      <th>WindSpeed3pm</th>\n",
       "      <th>Humidity9am</th>\n",
       "      <th>Humidity3pm</th>\n",
       "      <th>Pressure9am</th>\n",
       "      <th>Pressure3pm</th>\n",
       "      <th>Cloud9am</th>\n",
       "      <th>Cloud3pm</th>\n",
       "      <th>Temp9am</th>\n",
       "      <th>Temp3pm</th>\n",
       "      <th>RainToday</th>\n",
       "    </tr>\n",
       "  </thead>\n",
       "  <tbody>\n",
       "    <tr>\n",
       "      <th>0</th>\n",
       "      <td>8</td>\n",
       "      <td>High humidity summer warm winter</td>\n",
       "      <td>17.5</td>\n",
       "      <td>36.0</td>\n",
       "      <td>0.0</td>\n",
       "      <td>8.8</td>\n",
       "      <td>NaN</td>\n",
       "      <td>ESE</td>\n",
       "      <td>26.0</td>\n",
       "      <td>NNW</td>\n",
       "      <td>...</td>\n",
       "      <td>15.0</td>\n",
       "      <td>57.0</td>\n",
       "      <td>NaN</td>\n",
       "      <td>1016.8</td>\n",
       "      <td>1012.2</td>\n",
       "      <td>0.0</td>\n",
       "      <td>NaN</td>\n",
       "      <td>27.5</td>\n",
       "      <td>NaN</td>\n",
       "      <td>No</td>\n",
       "    </tr>\n",
       "    <tr>\n",
       "      <th>1</th>\n",
       "      <td>12</td>\n",
       "      <td>Cool temperate</td>\n",
       "      <td>9.5</td>\n",
       "      <td>25.0</td>\n",
       "      <td>0.0</td>\n",
       "      <td>NaN</td>\n",
       "      <td>NaN</td>\n",
       "      <td>NNW</td>\n",
       "      <td>33.0</td>\n",
       "      <td>NE</td>\n",
       "      <td>...</td>\n",
       "      <td>17.0</td>\n",
       "      <td>59.0</td>\n",
       "      <td>31.0</td>\n",
       "      <td>1020.4</td>\n",
       "      <td>1017.5</td>\n",
       "      <td>NaN</td>\n",
       "      <td>NaN</td>\n",
       "      <td>14.6</td>\n",
       "      <td>23.6</td>\n",
       "      <td>No</td>\n",
       "    </tr>\n",
       "    <tr>\n",
       "      <th>2</th>\n",
       "      <td>4</td>\n",
       "      <td>Mild temperate</td>\n",
       "      <td>13.0</td>\n",
       "      <td>22.6</td>\n",
       "      <td>0.0</td>\n",
       "      <td>3.8</td>\n",
       "      <td>10.4</td>\n",
       "      <td>NaN</td>\n",
       "      <td>NaN</td>\n",
       "      <td>NE</td>\n",
       "      <td>...</td>\n",
       "      <td>31.0</td>\n",
       "      <td>79.0</td>\n",
       "      <td>68.0</td>\n",
       "      <td>1020.3</td>\n",
       "      <td>1015.7</td>\n",
       "      <td>1.0</td>\n",
       "      <td>3.0</td>\n",
       "      <td>17.5</td>\n",
       "      <td>20.8</td>\n",
       "      <td>No</td>\n",
       "    </tr>\n",
       "  </tbody>\n",
       "</table>\n",
       "<p>3 rows × 22 columns</p>\n",
       "</div>"
      ],
      "text/plain": [
       "   Month                          Location  MinTemp  MaxTemp  Rainfall  \\\n",
       "0      8  High humidity summer warm winter     17.5     36.0       0.0   \n",
       "1     12                    Cool temperate      9.5     25.0       0.0   \n",
       "2      4                    Mild temperate     13.0     22.6       0.0   \n",
       "\n",
       "   Evaporation  Sunshine WindGustDir  WindGustSpeed WindDir9am  ...  \\\n",
       "0          8.8       NaN         ESE           26.0        NNW  ...   \n",
       "1          NaN       NaN         NNW           33.0         NE  ...   \n",
       "2          3.8      10.4         NaN            NaN         NE  ...   \n",
       "\n",
       "  WindSpeed3pm  Humidity9am  Humidity3pm  Pressure9am  Pressure3pm  Cloud9am  \\\n",
       "0         15.0         57.0          NaN       1016.8       1012.2       0.0   \n",
       "1         17.0         59.0         31.0       1020.4       1017.5       NaN   \n",
       "2         31.0         79.0         68.0       1020.3       1015.7       1.0   \n",
       "\n",
       "   Cloud3pm  Temp9am  Temp3pm  RainToday  \n",
       "0       NaN     27.5      NaN         No  \n",
       "1       NaN     14.6     23.6         No  \n",
       "2       3.0     17.5     20.8         No  \n",
       "\n",
       "[3 rows x 22 columns]"
      ]
     },
     "execution_count": 115,
     "metadata": {},
     "output_type": "execute_result"
    }
   ],
   "source": [
    "Xtrain.head(3)#修改之后就没有了逗号和空格了"
   ]
  },
  {
   "cell_type": "code",
   "execution_count": 116,
   "metadata": {},
   "outputs": [],
   "source": [
    "Xtest[\"Location\"] = Xtest[\"Location\"].map(locafinal.iloc[:,0]).apply(lambda x:re.sub(\",\",\"\",x.strip()))"
   ]
  },
  {
   "cell_type": "code",
   "execution_count": 117,
   "metadata": {},
   "outputs": [],
   "source": [
    "#修改特征内容之后，我们使用新列名“Climate”来替换之前的列名“Location”\n",
    "#注意这个命令一旦执行之后，就再没有列\"Location\"了，使用索引时要特别注意\n",
    "Xtrain = Xtrain.rename(columns={\"Location\":\"Climate\"})\n",
    "Xtest = Xtest.rename(columns={\"Location\":\"Climate\"})"
   ]
  },
  {
   "cell_type": "code",
   "execution_count": 118,
   "metadata": {},
   "outputs": [
    {
     "data": {
      "text/html": [
       "<div>\n",
       "<style scoped>\n",
       "    .dataframe tbody tr th:only-of-type {\n",
       "        vertical-align: middle;\n",
       "    }\n",
       "\n",
       "    .dataframe tbody tr th {\n",
       "        vertical-align: top;\n",
       "    }\n",
       "\n",
       "    .dataframe thead th {\n",
       "        text-align: right;\n",
       "    }\n",
       "</style>\n",
       "<table border=\"1\" class=\"dataframe\">\n",
       "  <thead>\n",
       "    <tr style=\"text-align: right;\">\n",
       "      <th></th>\n",
       "      <th>Month</th>\n",
       "      <th>Climate</th>\n",
       "      <th>MinTemp</th>\n",
       "      <th>MaxTemp</th>\n",
       "      <th>Rainfall</th>\n",
       "      <th>Evaporation</th>\n",
       "      <th>Sunshine</th>\n",
       "      <th>WindGustDir</th>\n",
       "      <th>WindGustSpeed</th>\n",
       "      <th>WindDir9am</th>\n",
       "      <th>...</th>\n",
       "      <th>WindSpeed3pm</th>\n",
       "      <th>Humidity9am</th>\n",
       "      <th>Humidity3pm</th>\n",
       "      <th>Pressure9am</th>\n",
       "      <th>Pressure3pm</th>\n",
       "      <th>Cloud9am</th>\n",
       "      <th>Cloud3pm</th>\n",
       "      <th>Temp9am</th>\n",
       "      <th>Temp3pm</th>\n",
       "      <th>RainToday</th>\n",
       "    </tr>\n",
       "  </thead>\n",
       "  <tbody>\n",
       "    <tr>\n",
       "      <th>0</th>\n",
       "      <td>8</td>\n",
       "      <td>High humidity summer warm winter</td>\n",
       "      <td>17.5</td>\n",
       "      <td>36.0</td>\n",
       "      <td>0.0</td>\n",
       "      <td>8.8</td>\n",
       "      <td>NaN</td>\n",
       "      <td>ESE</td>\n",
       "      <td>26.0</td>\n",
       "      <td>NNW</td>\n",
       "      <td>...</td>\n",
       "      <td>15.0</td>\n",
       "      <td>57.0</td>\n",
       "      <td>NaN</td>\n",
       "      <td>1016.8</td>\n",
       "      <td>1012.2</td>\n",
       "      <td>0.0</td>\n",
       "      <td>NaN</td>\n",
       "      <td>27.5</td>\n",
       "      <td>NaN</td>\n",
       "      <td>No</td>\n",
       "    </tr>\n",
       "    <tr>\n",
       "      <th>1</th>\n",
       "      <td>12</td>\n",
       "      <td>Cool temperate</td>\n",
       "      <td>9.5</td>\n",
       "      <td>25.0</td>\n",
       "      <td>0.0</td>\n",
       "      <td>NaN</td>\n",
       "      <td>NaN</td>\n",
       "      <td>NNW</td>\n",
       "      <td>33.0</td>\n",
       "      <td>NE</td>\n",
       "      <td>...</td>\n",
       "      <td>17.0</td>\n",
       "      <td>59.0</td>\n",
       "      <td>31.0</td>\n",
       "      <td>1020.4</td>\n",
       "      <td>1017.5</td>\n",
       "      <td>NaN</td>\n",
       "      <td>NaN</td>\n",
       "      <td>14.6</td>\n",
       "      <td>23.6</td>\n",
       "      <td>No</td>\n",
       "    </tr>\n",
       "    <tr>\n",
       "      <th>2</th>\n",
       "      <td>4</td>\n",
       "      <td>Mild temperate</td>\n",
       "      <td>13.0</td>\n",
       "      <td>22.6</td>\n",
       "      <td>0.0</td>\n",
       "      <td>3.8</td>\n",
       "      <td>10.4</td>\n",
       "      <td>NaN</td>\n",
       "      <td>NaN</td>\n",
       "      <td>NE</td>\n",
       "      <td>...</td>\n",
       "      <td>31.0</td>\n",
       "      <td>79.0</td>\n",
       "      <td>68.0</td>\n",
       "      <td>1020.3</td>\n",
       "      <td>1015.7</td>\n",
       "      <td>1.0</td>\n",
       "      <td>3.0</td>\n",
       "      <td>17.5</td>\n",
       "      <td>20.8</td>\n",
       "      <td>No</td>\n",
       "    </tr>\n",
       "    <tr>\n",
       "      <th>3</th>\n",
       "      <td>11</td>\n",
       "      <td>Mild temperate</td>\n",
       "      <td>13.9</td>\n",
       "      <td>29.8</td>\n",
       "      <td>0.0</td>\n",
       "      <td>5.8</td>\n",
       "      <td>5.1</td>\n",
       "      <td>S</td>\n",
       "      <td>37.0</td>\n",
       "      <td>N</td>\n",
       "      <td>...</td>\n",
       "      <td>28.0</td>\n",
       "      <td>82.0</td>\n",
       "      <td>44.0</td>\n",
       "      <td>1012.5</td>\n",
       "      <td>1005.9</td>\n",
       "      <td>6.0</td>\n",
       "      <td>6.0</td>\n",
       "      <td>18.5</td>\n",
       "      <td>27.5</td>\n",
       "      <td>No</td>\n",
       "    </tr>\n",
       "    <tr>\n",
       "      <th>4</th>\n",
       "      <td>4</td>\n",
       "      <td>Hot dry summer cool winter</td>\n",
       "      <td>6.0</td>\n",
       "      <td>23.5</td>\n",
       "      <td>0.0</td>\n",
       "      <td>2.8</td>\n",
       "      <td>8.6</td>\n",
       "      <td>NNE</td>\n",
       "      <td>24.0</td>\n",
       "      <td>E</td>\n",
       "      <td>...</td>\n",
       "      <td>15.0</td>\n",
       "      <td>58.0</td>\n",
       "      <td>35.0</td>\n",
       "      <td>1019.8</td>\n",
       "      <td>1014.1</td>\n",
       "      <td>2.0</td>\n",
       "      <td>4.0</td>\n",
       "      <td>12.4</td>\n",
       "      <td>22.4</td>\n",
       "      <td>No</td>\n",
       "    </tr>\n",
       "  </tbody>\n",
       "</table>\n",
       "<p>5 rows × 22 columns</p>\n",
       "</div>"
      ],
      "text/plain": [
       "   Month                           Climate  MinTemp  MaxTemp  Rainfall  \\\n",
       "0      8  High humidity summer warm winter     17.5     36.0       0.0   \n",
       "1     12                    Cool temperate      9.5     25.0       0.0   \n",
       "2      4                    Mild temperate     13.0     22.6       0.0   \n",
       "3     11                    Mild temperate     13.9     29.8       0.0   \n",
       "4      4        Hot dry summer cool winter      6.0     23.5       0.0   \n",
       "\n",
       "   Evaporation  Sunshine WindGustDir  WindGustSpeed WindDir9am  ...  \\\n",
       "0          8.8       NaN         ESE           26.0        NNW  ...   \n",
       "1          NaN       NaN         NNW           33.0         NE  ...   \n",
       "2          3.8      10.4         NaN            NaN         NE  ...   \n",
       "3          5.8       5.1           S           37.0          N  ...   \n",
       "4          2.8       8.6         NNE           24.0          E  ...   \n",
       "\n",
       "  WindSpeed3pm  Humidity9am  Humidity3pm  Pressure9am  Pressure3pm  Cloud9am  \\\n",
       "0         15.0         57.0          NaN       1016.8       1012.2       0.0   \n",
       "1         17.0         59.0         31.0       1020.4       1017.5       NaN   \n",
       "2         31.0         79.0         68.0       1020.3       1015.7       1.0   \n",
       "3         28.0         82.0         44.0       1012.5       1005.9       6.0   \n",
       "4         15.0         58.0         35.0       1019.8       1014.1       2.0   \n",
       "\n",
       "   Cloud3pm  Temp9am  Temp3pm  RainToday  \n",
       "0       NaN     27.5      NaN         No  \n",
       "1       NaN     14.6     23.6         No  \n",
       "2       3.0     17.5     20.8         No  \n",
       "3       6.0     18.5     27.5         No  \n",
       "4       4.0     12.4     22.4         No  \n",
       "\n",
       "[5 rows x 22 columns]"
      ]
     },
     "execution_count": 118,
     "metadata": {},
     "output_type": "execute_result"
    }
   ],
   "source": [
    "Xtrain.head()"
   ]
  },
  {
   "cell_type": "code",
   "execution_count": 119,
   "metadata": {},
   "outputs": [
    {
     "data": {
      "text/html": [
       "<div>\n",
       "<style scoped>\n",
       "    .dataframe tbody tr th:only-of-type {\n",
       "        vertical-align: middle;\n",
       "    }\n",
       "\n",
       "    .dataframe tbody tr th {\n",
       "        vertical-align: top;\n",
       "    }\n",
       "\n",
       "    .dataframe thead th {\n",
       "        text-align: right;\n",
       "    }\n",
       "</style>\n",
       "<table border=\"1\" class=\"dataframe\">\n",
       "  <thead>\n",
       "    <tr style=\"text-align: right;\">\n",
       "      <th></th>\n",
       "      <th>Month</th>\n",
       "      <th>Climate</th>\n",
       "      <th>MinTemp</th>\n",
       "      <th>MaxTemp</th>\n",
       "      <th>Rainfall</th>\n",
       "      <th>Evaporation</th>\n",
       "      <th>Sunshine</th>\n",
       "      <th>WindGustDir</th>\n",
       "      <th>WindGustSpeed</th>\n",
       "      <th>WindDir9am</th>\n",
       "      <th>...</th>\n",
       "      <th>WindSpeed3pm</th>\n",
       "      <th>Humidity9am</th>\n",
       "      <th>Humidity3pm</th>\n",
       "      <th>Pressure9am</th>\n",
       "      <th>Pressure3pm</th>\n",
       "      <th>Cloud9am</th>\n",
       "      <th>Cloud3pm</th>\n",
       "      <th>Temp9am</th>\n",
       "      <th>Temp3pm</th>\n",
       "      <th>RainToday</th>\n",
       "    </tr>\n",
       "  </thead>\n",
       "  <tbody>\n",
       "    <tr>\n",
       "      <th>0</th>\n",
       "      <td>1</td>\n",
       "      <td>Cool temperate</td>\n",
       "      <td>22.0</td>\n",
       "      <td>27.8</td>\n",
       "      <td>25.2</td>\n",
       "      <td>NaN</td>\n",
       "      <td>NaN</td>\n",
       "      <td>SSW</td>\n",
       "      <td>57.0</td>\n",
       "      <td>S</td>\n",
       "      <td>...</td>\n",
       "      <td>37.0</td>\n",
       "      <td>91.0</td>\n",
       "      <td>86.0</td>\n",
       "      <td>1006.6</td>\n",
       "      <td>1008.1</td>\n",
       "      <td>NaN</td>\n",
       "      <td>NaN</td>\n",
       "      <td>26.2</td>\n",
       "      <td>23.1</td>\n",
       "      <td>Yes</td>\n",
       "    </tr>\n",
       "    <tr>\n",
       "      <th>1</th>\n",
       "      <td>3</td>\n",
       "      <td>Mild temperate</td>\n",
       "      <td>12.0</td>\n",
       "      <td>18.6</td>\n",
       "      <td>2.2</td>\n",
       "      <td>3.0</td>\n",
       "      <td>7.8</td>\n",
       "      <td>SW</td>\n",
       "      <td>52.0</td>\n",
       "      <td>SW</td>\n",
       "      <td>...</td>\n",
       "      <td>28.0</td>\n",
       "      <td>88.0</td>\n",
       "      <td>62.0</td>\n",
       "      <td>1020.2</td>\n",
       "      <td>1019.9</td>\n",
       "      <td>8.0</td>\n",
       "      <td>7.0</td>\n",
       "      <td>14.8</td>\n",
       "      <td>17.5</td>\n",
       "      <td>Yes</td>\n",
       "    </tr>\n",
       "    <tr>\n",
       "      <th>2</th>\n",
       "      <td>3</td>\n",
       "      <td>Cool temperate</td>\n",
       "      <td>9.1</td>\n",
       "      <td>13.3</td>\n",
       "      <td>NaN</td>\n",
       "      <td>NaN</td>\n",
       "      <td>NaN</td>\n",
       "      <td>NE</td>\n",
       "      <td>41.0</td>\n",
       "      <td>NaN</td>\n",
       "      <td>...</td>\n",
       "      <td>NaN</td>\n",
       "      <td>NaN</td>\n",
       "      <td>NaN</td>\n",
       "      <td>NaN</td>\n",
       "      <td>NaN</td>\n",
       "      <td>NaN</td>\n",
       "      <td>NaN</td>\n",
       "      <td>NaN</td>\n",
       "      <td>NaN</td>\n",
       "      <td>NaN</td>\n",
       "    </tr>\n",
       "    <tr>\n",
       "      <th>3</th>\n",
       "      <td>10</td>\n",
       "      <td>Warm temperate</td>\n",
       "      <td>13.1</td>\n",
       "      <td>20.3</td>\n",
       "      <td>0.0</td>\n",
       "      <td>NaN</td>\n",
       "      <td>NaN</td>\n",
       "      <td>SW</td>\n",
       "      <td>33.0</td>\n",
       "      <td>W</td>\n",
       "      <td>...</td>\n",
       "      <td>24.0</td>\n",
       "      <td>40.0</td>\n",
       "      <td>51.0</td>\n",
       "      <td>1021.3</td>\n",
       "      <td>1019.5</td>\n",
       "      <td>NaN</td>\n",
       "      <td>NaN</td>\n",
       "      <td>16.8</td>\n",
       "      <td>19.6</td>\n",
       "      <td>No</td>\n",
       "    </tr>\n",
       "    <tr>\n",
       "      <th>4</th>\n",
       "      <td>11</td>\n",
       "      <td>Mild temperate</td>\n",
       "      <td>12.2</td>\n",
       "      <td>20.0</td>\n",
       "      <td>0.4</td>\n",
       "      <td>NaN</td>\n",
       "      <td>NaN</td>\n",
       "      <td>E</td>\n",
       "      <td>33.0</td>\n",
       "      <td>SW</td>\n",
       "      <td>...</td>\n",
       "      <td>19.0</td>\n",
       "      <td>92.0</td>\n",
       "      <td>69.0</td>\n",
       "      <td>1015.6</td>\n",
       "      <td>1013.2</td>\n",
       "      <td>8.0</td>\n",
       "      <td>4.0</td>\n",
       "      <td>13.6</td>\n",
       "      <td>19.0</td>\n",
       "      <td>No</td>\n",
       "    </tr>\n",
       "  </tbody>\n",
       "</table>\n",
       "<p>5 rows × 22 columns</p>\n",
       "</div>"
      ],
      "text/plain": [
       "   Month         Climate  MinTemp  MaxTemp  Rainfall  Evaporation  Sunshine  \\\n",
       "0      1  Cool temperate     22.0     27.8      25.2          NaN       NaN   \n",
       "1      3  Mild temperate     12.0     18.6       2.2          3.0       7.8   \n",
       "2      3  Cool temperate      9.1     13.3       NaN          NaN       NaN   \n",
       "3     10  Warm temperate     13.1     20.3       0.0          NaN       NaN   \n",
       "4     11  Mild temperate     12.2     20.0       0.4          NaN       NaN   \n",
       "\n",
       "  WindGustDir  WindGustSpeed WindDir9am  ... WindSpeed3pm  Humidity9am  \\\n",
       "0         SSW           57.0          S  ...         37.0         91.0   \n",
       "1          SW           52.0         SW  ...         28.0         88.0   \n",
       "2          NE           41.0        NaN  ...          NaN          NaN   \n",
       "3          SW           33.0          W  ...         24.0         40.0   \n",
       "4           E           33.0         SW  ...         19.0         92.0   \n",
       "\n",
       "   Humidity3pm  Pressure9am  Pressure3pm  Cloud9am  Cloud3pm  Temp9am  \\\n",
       "0         86.0       1006.6       1008.1       NaN       NaN     26.2   \n",
       "1         62.0       1020.2       1019.9       8.0       7.0     14.8   \n",
       "2          NaN          NaN          NaN       NaN       NaN      NaN   \n",
       "3         51.0       1021.3       1019.5       NaN       NaN     16.8   \n",
       "4         69.0       1015.6       1013.2       8.0       4.0     13.6   \n",
       "\n",
       "   Temp3pm  RainToday  \n",
       "0     23.1        Yes  \n",
       "1     17.5        Yes  \n",
       "2      NaN        NaN  \n",
       "3     19.6         No  \n",
       "4     19.0         No  \n",
       "\n",
       "[5 rows x 22 columns]"
      ]
     },
     "execution_count": 119,
     "metadata": {},
     "output_type": "execute_result"
    }
   ],
   "source": [
    "Xtest.head()"
   ]
  },
  {
   "cell_type": "markdown",
   "metadata": {},
   "source": [
    "# 开始处理缺失值"
   ]
  },
  {
   "cell_type": "markdown",
   "metadata": {},
   "source": [
    "用训练集的众数或者平均数去填补测试集空值也是因为不想有测试集的数据去影响model，其实假如说总的数据比较大，那么分测试集跟训练集后，他们的缺失值的平均数和众数按道理来说也是比较接近\n",
    "\n",
    "也就是fit的时候用训练集，但是transform是训练集和测试集"
   ]
  },
  {
   "cell_type": "code",
   "execution_count": 121,
   "metadata": {},
   "outputs": [
    {
     "data": {
      "text/plain": [
       "Month            0.000000\n",
       "Climate          0.000000\n",
       "MinTemp          0.004000\n",
       "MaxTemp          0.003143\n",
       "Rainfall         0.009429\n",
       "Evaporation      0.433429\n",
       "Sunshine         0.488571\n",
       "WindGustDir      0.067714\n",
       "WindGustSpeed    0.067714\n",
       "WindDir9am       0.067429\n",
       "WindDir3pm       0.024286\n",
       "WindSpeed9am     0.009714\n",
       "WindSpeed3pm     0.018000\n",
       "Humidity9am      0.011714\n",
       "Humidity3pm      0.026286\n",
       "Pressure9am      0.098857\n",
       "Pressure3pm      0.098857\n",
       "Cloud9am         0.379714\n",
       "Cloud3pm         0.401429\n",
       "Temp9am          0.005429\n",
       "Temp3pm          0.019714\n",
       "RainToday        0.009429\n",
       "dtype: float64"
      ]
     },
     "execution_count": 121,
     "metadata": {},
     "output_type": "execute_result"
    }
   ],
   "source": [
    "#查看缺失值的缺失情况\n",
    "Xtrain.isnull().mean()"
   ]
  },
  {
   "cell_type": "code",
   "execution_count": 122,
   "metadata": {},
   "outputs": [
    {
     "name": "stdout",
     "output_type": "stream",
     "text": [
      "<class 'pandas.core.frame.DataFrame'>\n",
      "RangeIndex: 3500 entries, 0 to 3499\n",
      "Data columns (total 22 columns):\n",
      "Month            3500 non-null int64\n",
      "Climate          3500 non-null object\n",
      "MinTemp          3486 non-null float64\n",
      "MaxTemp          3489 non-null float64\n",
      "Rainfall         3467 non-null float64\n",
      "Evaporation      1983 non-null float64\n",
      "Sunshine         1790 non-null float64\n",
      "WindGustDir      3263 non-null object\n",
      "WindGustSpeed    3263 non-null float64\n",
      "WindDir9am       3264 non-null object\n",
      "WindDir3pm       3415 non-null object\n",
      "WindSpeed9am     3466 non-null float64\n",
      "WindSpeed3pm     3437 non-null float64\n",
      "Humidity9am      3459 non-null float64\n",
      "Humidity3pm      3408 non-null float64\n",
      "Pressure9am      3154 non-null float64\n",
      "Pressure3pm      3154 non-null float64\n",
      "Cloud9am         2171 non-null float64\n",
      "Cloud3pm         2095 non-null float64\n",
      "Temp9am          3481 non-null float64\n",
      "Temp3pm          3431 non-null float64\n",
      "RainToday        3467 non-null object\n",
      "dtypes: float64(16), int64(1), object(5)\n",
      "memory usage: 601.7+ KB\n"
     ]
    }
   ],
   "source": [
    "Xtrain.info()"
   ]
  },
  {
   "cell_type": "markdown",
   "metadata": {},
   "source": [
    "#### object类型一般对应的都是分类型"
   ]
  },
  {
   "cell_type": "code",
   "execution_count": 123,
   "metadata": {
    "scrolled": true
   },
   "outputs": [
    {
     "data": {
      "text/plain": [
       "Month            False\n",
       "Climate           True\n",
       "MinTemp          False\n",
       "MaxTemp          False\n",
       "Rainfall         False\n",
       "Evaporation      False\n",
       "Sunshine         False\n",
       "WindGustDir       True\n",
       "WindGustSpeed    False\n",
       "WindDir9am        True\n",
       "WindDir3pm        True\n",
       "WindSpeed9am     False\n",
       "WindSpeed3pm     False\n",
       "Humidity9am      False\n",
       "Humidity3pm      False\n",
       "Pressure9am      False\n",
       "Pressure3pm      False\n",
       "Cloud9am         False\n",
       "Cloud3pm         False\n",
       "Temp9am          False\n",
       "Temp3pm          False\n",
       "RainToday         True\n",
       "dtype: bool"
      ]
     },
     "execution_count": 123,
     "metadata": {},
     "output_type": "execute_result"
    }
   ],
   "source": [
    "Xtrain.dtypes == \"object\""
   ]
  },
  {
   "cell_type": "code",
   "execution_count": 126,
   "metadata": {},
   "outputs": [
    {
     "data": {
      "text/plain": [
       "Month              int64\n",
       "Climate           object\n",
       "MinTemp          float64\n",
       "MaxTemp          float64\n",
       "Rainfall         float64\n",
       "Evaporation      float64\n",
       "Sunshine         float64\n",
       "WindGustDir       object\n",
       "WindGustSpeed    float64\n",
       "WindDir9am        object\n",
       "WindDir3pm        object\n",
       "WindSpeed9am     float64\n",
       "WindSpeed3pm     float64\n",
       "Humidity9am      float64\n",
       "Humidity3pm      float64\n",
       "Pressure9am      float64\n",
       "Pressure3pm      float64\n",
       "Cloud9am         float64\n",
       "Cloud3pm         float64\n",
       "Temp9am          float64\n",
       "Temp3pm          float64\n",
       "RainToday         object\n",
       "dtype: object"
      ]
     },
     "execution_count": 126,
     "metadata": {},
     "output_type": "execute_result"
    }
   ],
   "source": [
    "Xtrain.dtypes"
   ]
  },
  {
   "cell_type": "code",
   "execution_count": 124,
   "metadata": {},
   "outputs": [],
   "source": [
    "#首先找出，分类型特征都有哪些\n",
    "cate = Xtrain.columns[Xtrain.dtypes == \"object\"].tolist()"
   ]
  },
  {
   "cell_type": "code",
   "execution_count": 125,
   "metadata": {},
   "outputs": [
    {
     "data": {
      "text/plain": [
       "['Climate', 'WindGustDir', 'WindDir9am', 'WindDir3pm', 'RainToday']"
      ]
     },
     "execution_count": 125,
     "metadata": {},
     "output_type": "execute_result"
    }
   ],
   "source": [
    "cate"
   ]
  },
  {
   "cell_type": "code",
   "execution_count": 127,
   "metadata": {},
   "outputs": [],
   "source": [
    "#除了特征类型为\"object\"的特征们，还有虽然用数字表示，但是本质为分类型特征的云层遮蔽程度\n",
    "cloud = [\"Cloud9am\",\"Cloud3pm\"]\n",
    "cate = cate + cloud#list相加就是把list联合在一起"
   ]
  },
  {
   "cell_type": "code",
   "execution_count": 128,
   "metadata": {},
   "outputs": [
    {
     "data": {
      "text/plain": [
       "['Climate',\n",
       " 'WindGustDir',\n",
       " 'WindDir9am',\n",
       " 'WindDir3pm',\n",
       " 'RainToday',\n",
       " 'Cloud9am',\n",
       " 'Cloud3pm']"
      ]
     },
     "execution_count": 128,
     "metadata": {},
     "output_type": "execute_result"
    }
   ],
   "source": [
    "cate"
   ]
  },
  {
   "cell_type": "code",
   "execution_count": 129,
   "metadata": {},
   "outputs": [],
   "source": [
    "#对于分类型特征，我们使用众数来进行填补\n",
    "from sklearn.impute import SimpleImputer #0.20, conda, pip"
   ]
  },
  {
   "cell_type": "code",
   "execution_count": 130,
   "metadata": {},
   "outputs": [
    {
     "data": {
      "text/plain": [
       "SimpleImputer(add_indicator=False, copy=True, fill_value=None,\n",
       "              missing_values=nan, strategy='most_frequent', verbose=0)"
      ]
     },
     "execution_count": 130,
     "metadata": {},
     "output_type": "execute_result"
    }
   ],
   "source": [
    "si = SimpleImputer(missing_values=np.nan  #告诉算法缺失值就是np.nan空值\n",
    "                   ,strategy=\"most_frequent\") #填补方式就是众数\n",
    "#注意，我们使用训练集数据来训练我们的填补器，本质是在生成训练集中的众数\n",
    "si.fit(Xtrain.loc[:,cate])#要训练fit的数据只是训练集上，分类型的数据"
   ]
  },
  {
   "cell_type": "code",
   "execution_count": 131,
   "metadata": {},
   "outputs": [],
   "source": [
    "#然后我们用训练集中的众数来同时填补训练集和测试集  transform\n",
    "Xtrain.loc[:,cate] = si.transform(Xtrain.loc[:,cate])\n",
    "Xtest.loc[:,cate] = si.transform(Xtest.loc[:,cate])"
   ]
  },
  {
   "cell_type": "code",
   "execution_count": 132,
   "metadata": {},
   "outputs": [
    {
     "data": {
      "text/html": [
       "<div>\n",
       "<style scoped>\n",
       "    .dataframe tbody tr th:only-of-type {\n",
       "        vertical-align: middle;\n",
       "    }\n",
       "\n",
       "    .dataframe tbody tr th {\n",
       "        vertical-align: top;\n",
       "    }\n",
       "\n",
       "    .dataframe thead th {\n",
       "        text-align: right;\n",
       "    }\n",
       "</style>\n",
       "<table border=\"1\" class=\"dataframe\">\n",
       "  <thead>\n",
       "    <tr style=\"text-align: right;\">\n",
       "      <th></th>\n",
       "      <th>Month</th>\n",
       "      <th>Climate</th>\n",
       "      <th>MinTemp</th>\n",
       "      <th>MaxTemp</th>\n",
       "      <th>Rainfall</th>\n",
       "      <th>Evaporation</th>\n",
       "      <th>Sunshine</th>\n",
       "      <th>WindGustDir</th>\n",
       "      <th>WindGustSpeed</th>\n",
       "      <th>WindDir9am</th>\n",
       "      <th>...</th>\n",
       "      <th>WindSpeed3pm</th>\n",
       "      <th>Humidity9am</th>\n",
       "      <th>Humidity3pm</th>\n",
       "      <th>Pressure9am</th>\n",
       "      <th>Pressure3pm</th>\n",
       "      <th>Cloud9am</th>\n",
       "      <th>Cloud3pm</th>\n",
       "      <th>Temp9am</th>\n",
       "      <th>Temp3pm</th>\n",
       "      <th>RainToday</th>\n",
       "    </tr>\n",
       "  </thead>\n",
       "  <tbody>\n",
       "    <tr>\n",
       "      <th>0</th>\n",
       "      <td>8</td>\n",
       "      <td>High humidity summer warm winter</td>\n",
       "      <td>17.5</td>\n",
       "      <td>36.0</td>\n",
       "      <td>0.0</td>\n",
       "      <td>8.8</td>\n",
       "      <td>NaN</td>\n",
       "      <td>ESE</td>\n",
       "      <td>26.0</td>\n",
       "      <td>NNW</td>\n",
       "      <td>...</td>\n",
       "      <td>15.0</td>\n",
       "      <td>57.0</td>\n",
       "      <td>NaN</td>\n",
       "      <td>1016.8</td>\n",
       "      <td>1012.2</td>\n",
       "      <td>0.0</td>\n",
       "      <td>7.0</td>\n",
       "      <td>27.5</td>\n",
       "      <td>NaN</td>\n",
       "      <td>No</td>\n",
       "    </tr>\n",
       "    <tr>\n",
       "      <th>1</th>\n",
       "      <td>12</td>\n",
       "      <td>Cool temperate</td>\n",
       "      <td>9.5</td>\n",
       "      <td>25.0</td>\n",
       "      <td>0.0</td>\n",
       "      <td>NaN</td>\n",
       "      <td>NaN</td>\n",
       "      <td>NNW</td>\n",
       "      <td>33.0</td>\n",
       "      <td>NE</td>\n",
       "      <td>...</td>\n",
       "      <td>17.0</td>\n",
       "      <td>59.0</td>\n",
       "      <td>31.0</td>\n",
       "      <td>1020.4</td>\n",
       "      <td>1017.5</td>\n",
       "      <td>7.0</td>\n",
       "      <td>7.0</td>\n",
       "      <td>14.6</td>\n",
       "      <td>23.6</td>\n",
       "      <td>No</td>\n",
       "    </tr>\n",
       "    <tr>\n",
       "      <th>2</th>\n",
       "      <td>4</td>\n",
       "      <td>Mild temperate</td>\n",
       "      <td>13.0</td>\n",
       "      <td>22.6</td>\n",
       "      <td>0.0</td>\n",
       "      <td>3.8</td>\n",
       "      <td>10.4</td>\n",
       "      <td>W</td>\n",
       "      <td>NaN</td>\n",
       "      <td>NE</td>\n",
       "      <td>...</td>\n",
       "      <td>31.0</td>\n",
       "      <td>79.0</td>\n",
       "      <td>68.0</td>\n",
       "      <td>1020.3</td>\n",
       "      <td>1015.7</td>\n",
       "      <td>1.0</td>\n",
       "      <td>3.0</td>\n",
       "      <td>17.5</td>\n",
       "      <td>20.8</td>\n",
       "      <td>No</td>\n",
       "    </tr>\n",
       "    <tr>\n",
       "      <th>3</th>\n",
       "      <td>11</td>\n",
       "      <td>Mild temperate</td>\n",
       "      <td>13.9</td>\n",
       "      <td>29.8</td>\n",
       "      <td>0.0</td>\n",
       "      <td>5.8</td>\n",
       "      <td>5.1</td>\n",
       "      <td>S</td>\n",
       "      <td>37.0</td>\n",
       "      <td>N</td>\n",
       "      <td>...</td>\n",
       "      <td>28.0</td>\n",
       "      <td>82.0</td>\n",
       "      <td>44.0</td>\n",
       "      <td>1012.5</td>\n",
       "      <td>1005.9</td>\n",
       "      <td>6.0</td>\n",
       "      <td>6.0</td>\n",
       "      <td>18.5</td>\n",
       "      <td>27.5</td>\n",
       "      <td>No</td>\n",
       "    </tr>\n",
       "    <tr>\n",
       "      <th>4</th>\n",
       "      <td>4</td>\n",
       "      <td>Hot dry summer cool winter</td>\n",
       "      <td>6.0</td>\n",
       "      <td>23.5</td>\n",
       "      <td>0.0</td>\n",
       "      <td>2.8</td>\n",
       "      <td>8.6</td>\n",
       "      <td>NNE</td>\n",
       "      <td>24.0</td>\n",
       "      <td>E</td>\n",
       "      <td>...</td>\n",
       "      <td>15.0</td>\n",
       "      <td>58.0</td>\n",
       "      <td>35.0</td>\n",
       "      <td>1019.8</td>\n",
       "      <td>1014.1</td>\n",
       "      <td>2.0</td>\n",
       "      <td>4.0</td>\n",
       "      <td>12.4</td>\n",
       "      <td>22.4</td>\n",
       "      <td>No</td>\n",
       "    </tr>\n",
       "  </tbody>\n",
       "</table>\n",
       "<p>5 rows × 22 columns</p>\n",
       "</div>"
      ],
      "text/plain": [
       "   Month                           Climate  MinTemp  MaxTemp  Rainfall  \\\n",
       "0      8  High humidity summer warm winter     17.5     36.0       0.0   \n",
       "1     12                    Cool temperate      9.5     25.0       0.0   \n",
       "2      4                    Mild temperate     13.0     22.6       0.0   \n",
       "3     11                    Mild temperate     13.9     29.8       0.0   \n",
       "4      4        Hot dry summer cool winter      6.0     23.5       0.0   \n",
       "\n",
       "   Evaporation  Sunshine WindGustDir  WindGustSpeed WindDir9am  ...  \\\n",
       "0          8.8       NaN         ESE           26.0        NNW  ...   \n",
       "1          NaN       NaN         NNW           33.0         NE  ...   \n",
       "2          3.8      10.4           W            NaN         NE  ...   \n",
       "3          5.8       5.1           S           37.0          N  ...   \n",
       "4          2.8       8.6         NNE           24.0          E  ...   \n",
       "\n",
       "  WindSpeed3pm  Humidity9am  Humidity3pm  Pressure9am  Pressure3pm  Cloud9am  \\\n",
       "0         15.0         57.0          NaN       1016.8       1012.2       0.0   \n",
       "1         17.0         59.0         31.0       1020.4       1017.5       7.0   \n",
       "2         31.0         79.0         68.0       1020.3       1015.7       1.0   \n",
       "3         28.0         82.0         44.0       1012.5       1005.9       6.0   \n",
       "4         15.0         58.0         35.0       1019.8       1014.1       2.0   \n",
       "\n",
       "   Cloud3pm  Temp9am  Temp3pm  RainToday  \n",
       "0       7.0     27.5      NaN         No  \n",
       "1       7.0     14.6     23.6         No  \n",
       "2       3.0     17.5     20.8         No  \n",
       "3       6.0     18.5     27.5         No  \n",
       "4       4.0     12.4     22.4         No  \n",
       "\n",
       "[5 rows x 22 columns]"
      ]
     },
     "execution_count": 132,
     "metadata": {},
     "output_type": "execute_result"
    }
   ],
   "source": [
    "Xtrain.head()"
   ]
  },
  {
   "cell_type": "code",
   "execution_count": 133,
   "metadata": {},
   "outputs": [
    {
     "data": {
      "text/html": [
       "<div>\n",
       "<style scoped>\n",
       "    .dataframe tbody tr th:only-of-type {\n",
       "        vertical-align: middle;\n",
       "    }\n",
       "\n",
       "    .dataframe tbody tr th {\n",
       "        vertical-align: top;\n",
       "    }\n",
       "\n",
       "    .dataframe thead th {\n",
       "        text-align: right;\n",
       "    }\n",
       "</style>\n",
       "<table border=\"1\" class=\"dataframe\">\n",
       "  <thead>\n",
       "    <tr style=\"text-align: right;\">\n",
       "      <th></th>\n",
       "      <th>Month</th>\n",
       "      <th>Climate</th>\n",
       "      <th>MinTemp</th>\n",
       "      <th>MaxTemp</th>\n",
       "      <th>Rainfall</th>\n",
       "      <th>Evaporation</th>\n",
       "      <th>Sunshine</th>\n",
       "      <th>WindGustDir</th>\n",
       "      <th>WindGustSpeed</th>\n",
       "      <th>WindDir9am</th>\n",
       "      <th>...</th>\n",
       "      <th>WindSpeed3pm</th>\n",
       "      <th>Humidity9am</th>\n",
       "      <th>Humidity3pm</th>\n",
       "      <th>Pressure9am</th>\n",
       "      <th>Pressure3pm</th>\n",
       "      <th>Cloud9am</th>\n",
       "      <th>Cloud3pm</th>\n",
       "      <th>Temp9am</th>\n",
       "      <th>Temp3pm</th>\n",
       "      <th>RainToday</th>\n",
       "    </tr>\n",
       "  </thead>\n",
       "  <tbody>\n",
       "    <tr>\n",
       "      <th>0</th>\n",
       "      <td>1</td>\n",
       "      <td>Cool temperate</td>\n",
       "      <td>22.0</td>\n",
       "      <td>27.8</td>\n",
       "      <td>25.2</td>\n",
       "      <td>NaN</td>\n",
       "      <td>NaN</td>\n",
       "      <td>SSW</td>\n",
       "      <td>57.0</td>\n",
       "      <td>S</td>\n",
       "      <td>...</td>\n",
       "      <td>37.0</td>\n",
       "      <td>91.0</td>\n",
       "      <td>86.0</td>\n",
       "      <td>1006.6</td>\n",
       "      <td>1008.1</td>\n",
       "      <td>7.0</td>\n",
       "      <td>7.0</td>\n",
       "      <td>26.2</td>\n",
       "      <td>23.1</td>\n",
       "      <td>Yes</td>\n",
       "    </tr>\n",
       "    <tr>\n",
       "      <th>1</th>\n",
       "      <td>3</td>\n",
       "      <td>Mild temperate</td>\n",
       "      <td>12.0</td>\n",
       "      <td>18.6</td>\n",
       "      <td>2.2</td>\n",
       "      <td>3.0</td>\n",
       "      <td>7.8</td>\n",
       "      <td>SW</td>\n",
       "      <td>52.0</td>\n",
       "      <td>SW</td>\n",
       "      <td>...</td>\n",
       "      <td>28.0</td>\n",
       "      <td>88.0</td>\n",
       "      <td>62.0</td>\n",
       "      <td>1020.2</td>\n",
       "      <td>1019.9</td>\n",
       "      <td>8.0</td>\n",
       "      <td>7.0</td>\n",
       "      <td>14.8</td>\n",
       "      <td>17.5</td>\n",
       "      <td>Yes</td>\n",
       "    </tr>\n",
       "    <tr>\n",
       "      <th>2</th>\n",
       "      <td>3</td>\n",
       "      <td>Cool temperate</td>\n",
       "      <td>9.1</td>\n",
       "      <td>13.3</td>\n",
       "      <td>NaN</td>\n",
       "      <td>NaN</td>\n",
       "      <td>NaN</td>\n",
       "      <td>NE</td>\n",
       "      <td>41.0</td>\n",
       "      <td>N</td>\n",
       "      <td>...</td>\n",
       "      <td>NaN</td>\n",
       "      <td>NaN</td>\n",
       "      <td>NaN</td>\n",
       "      <td>NaN</td>\n",
       "      <td>NaN</td>\n",
       "      <td>7.0</td>\n",
       "      <td>7.0</td>\n",
       "      <td>NaN</td>\n",
       "      <td>NaN</td>\n",
       "      <td>No</td>\n",
       "    </tr>\n",
       "    <tr>\n",
       "      <th>3</th>\n",
       "      <td>10</td>\n",
       "      <td>Warm temperate</td>\n",
       "      <td>13.1</td>\n",
       "      <td>20.3</td>\n",
       "      <td>0.0</td>\n",
       "      <td>NaN</td>\n",
       "      <td>NaN</td>\n",
       "      <td>SW</td>\n",
       "      <td>33.0</td>\n",
       "      <td>W</td>\n",
       "      <td>...</td>\n",
       "      <td>24.0</td>\n",
       "      <td>40.0</td>\n",
       "      <td>51.0</td>\n",
       "      <td>1021.3</td>\n",
       "      <td>1019.5</td>\n",
       "      <td>7.0</td>\n",
       "      <td>7.0</td>\n",
       "      <td>16.8</td>\n",
       "      <td>19.6</td>\n",
       "      <td>No</td>\n",
       "    </tr>\n",
       "    <tr>\n",
       "      <th>4</th>\n",
       "      <td>11</td>\n",
       "      <td>Mild temperate</td>\n",
       "      <td>12.2</td>\n",
       "      <td>20.0</td>\n",
       "      <td>0.4</td>\n",
       "      <td>NaN</td>\n",
       "      <td>NaN</td>\n",
       "      <td>E</td>\n",
       "      <td>33.0</td>\n",
       "      <td>SW</td>\n",
       "      <td>...</td>\n",
       "      <td>19.0</td>\n",
       "      <td>92.0</td>\n",
       "      <td>69.0</td>\n",
       "      <td>1015.6</td>\n",
       "      <td>1013.2</td>\n",
       "      <td>8.0</td>\n",
       "      <td>4.0</td>\n",
       "      <td>13.6</td>\n",
       "      <td>19.0</td>\n",
       "      <td>No</td>\n",
       "    </tr>\n",
       "  </tbody>\n",
       "</table>\n",
       "<p>5 rows × 22 columns</p>\n",
       "</div>"
      ],
      "text/plain": [
       "   Month         Climate  MinTemp  MaxTemp  Rainfall  Evaporation  Sunshine  \\\n",
       "0      1  Cool temperate     22.0     27.8      25.2          NaN       NaN   \n",
       "1      3  Mild temperate     12.0     18.6       2.2          3.0       7.8   \n",
       "2      3  Cool temperate      9.1     13.3       NaN          NaN       NaN   \n",
       "3     10  Warm temperate     13.1     20.3       0.0          NaN       NaN   \n",
       "4     11  Mild temperate     12.2     20.0       0.4          NaN       NaN   \n",
       "\n",
       "  WindGustDir  WindGustSpeed WindDir9am  ... WindSpeed3pm  Humidity9am  \\\n",
       "0         SSW           57.0          S  ...         37.0         91.0   \n",
       "1          SW           52.0         SW  ...         28.0         88.0   \n",
       "2          NE           41.0          N  ...          NaN          NaN   \n",
       "3          SW           33.0          W  ...         24.0         40.0   \n",
       "4           E           33.0         SW  ...         19.0         92.0   \n",
       "\n",
       "   Humidity3pm  Pressure9am  Pressure3pm  Cloud9am  Cloud3pm  Temp9am  \\\n",
       "0         86.0       1006.6       1008.1       7.0       7.0     26.2   \n",
       "1         62.0       1020.2       1019.9       8.0       7.0     14.8   \n",
       "2          NaN          NaN          NaN       7.0       7.0      NaN   \n",
       "3         51.0       1021.3       1019.5       7.0       7.0     16.8   \n",
       "4         69.0       1015.6       1013.2       8.0       4.0     13.6   \n",
       "\n",
       "   Temp3pm  RainToday  \n",
       "0     23.1        Yes  \n",
       "1     17.5        Yes  \n",
       "2      NaN         No  \n",
       "3     19.6         No  \n",
       "4     19.0         No  \n",
       "\n",
       "[5 rows x 22 columns]"
      ]
     },
     "execution_count": 133,
     "metadata": {},
     "output_type": "execute_result"
    }
   ],
   "source": [
    "Xtest.head()"
   ]
  },
  {
   "cell_type": "code",
   "execution_count": 134,
   "metadata": {},
   "outputs": [
    {
     "data": {
      "text/plain": [
       "Climate        0.0\n",
       "WindGustDir    0.0\n",
       "WindDir9am     0.0\n",
       "WindDir3pm     0.0\n",
       "RainToday      0.0\n",
       "Cloud9am       0.0\n",
       "Cloud3pm       0.0\n",
       "dtype: float64"
      ]
     },
     "execution_count": 134,
     "metadata": {},
     "output_type": "execute_result"
    }
   ],
   "source": [
    "#查看分类型特征是否依然存在缺失值\n",
    "Xtrain.loc[:,cate].isnull().mean()"
   ]
  },
  {
   "cell_type": "code",
   "execution_count": 135,
   "metadata": {},
   "outputs": [
    {
     "data": {
      "text/plain": [
       "Climate        0.0\n",
       "WindGustDir    0.0\n",
       "WindDir9am     0.0\n",
       "WindDir3pm     0.0\n",
       "RainToday      0.0\n",
       "Cloud9am       0.0\n",
       "Cloud3pm       0.0\n",
       "dtype: float64"
      ]
     },
     "execution_count": 135,
     "metadata": {},
     "output_type": "execute_result"
    }
   ],
   "source": [
    "Xtest.loc[:,cate].isnull().mean()"
   ]
  },
  {
   "cell_type": "markdown",
   "metadata": {},
   "source": [
    "#### 如此，所有分类型特征的缺失值都被填补完毕了"
   ]
  },
  {
   "cell_type": "markdown",
   "metadata": {},
   "source": [
    "只能nominal分类（不能按大小排序，相加，乘除）的特征可以考虑做哑变量，但是做哑变量的话features会变得非常多\n",
    "\n",
    "但是如果选择普通的编码的话features就不会变多，下面就尝试不同编码"
   ]
  },
  {
   "cell_type": "code",
   "execution_count": 136,
   "metadata": {},
   "outputs": [],
   "source": [
    "#将所有的分类型变量编码为数字，一个类别是一个数字\n",
    "from sklearn.preprocessing import OrdinalEncoder #只允许二维以上的数据进行输入\n",
    "oe = OrdinalEncoder()"
   ]
  },
  {
   "cell_type": "code",
   "execution_count": 137,
   "metadata": {},
   "outputs": [],
   "source": [
    "#利用训练集进行fit\n",
    "oe = oe.fit(Xtrain.loc[:,cate])"
   ]
  },
  {
   "cell_type": "code",
   "execution_count": 138,
   "metadata": {},
   "outputs": [],
   "source": [
    "#用训练集的编码结果来编码训练和测试特征矩阵\n",
    "#在这里如果测试特征矩阵报错，就说明测试集中出现了训练集中从未见过的类别\n",
    "Xtrain.loc[:,cate] = oe.transform(Xtrain.loc[:,cate])\n",
    "Xtest.loc[:,cate] = oe.transform(Xtest.loc[:,cate])"
   ]
  },
  {
   "cell_type": "code",
   "execution_count": 139,
   "metadata": {},
   "outputs": [
    {
     "data": {
      "text/plain": [
       "['Climate',\n",
       " 'WindGustDir',\n",
       " 'WindDir9am',\n",
       " 'WindDir3pm',\n",
       " 'RainToday',\n",
       " 'Cloud9am',\n",
       " 'Cloud3pm']"
      ]
     },
     "execution_count": 139,
     "metadata": {},
     "output_type": "execute_result"
    }
   ],
   "source": [
    "cate"
   ]
  },
  {
   "cell_type": "code",
   "execution_count": 140,
   "metadata": {},
   "outputs": [
    {
     "data": {
      "text/html": [
       "<div>\n",
       "<style scoped>\n",
       "    .dataframe tbody tr th:only-of-type {\n",
       "        vertical-align: middle;\n",
       "    }\n",
       "\n",
       "    .dataframe tbody tr th {\n",
       "        vertical-align: top;\n",
       "    }\n",
       "\n",
       "    .dataframe thead th {\n",
       "        text-align: right;\n",
       "    }\n",
       "</style>\n",
       "<table border=\"1\" class=\"dataframe\">\n",
       "  <thead>\n",
       "    <tr style=\"text-align: right;\">\n",
       "      <th></th>\n",
       "      <th>Climate</th>\n",
       "      <th>WindGustDir</th>\n",
       "      <th>WindDir9am</th>\n",
       "      <th>WindDir3pm</th>\n",
       "      <th>RainToday</th>\n",
       "      <th>Cloud9am</th>\n",
       "      <th>Cloud3pm</th>\n",
       "    </tr>\n",
       "  </thead>\n",
       "  <tbody>\n",
       "    <tr>\n",
       "      <th>0</th>\n",
       "      <td>1.0</td>\n",
       "      <td>2.0</td>\n",
       "      <td>6.0</td>\n",
       "      <td>0.0</td>\n",
       "      <td>0.0</td>\n",
       "      <td>0.0</td>\n",
       "      <td>7.0</td>\n",
       "    </tr>\n",
       "    <tr>\n",
       "      <th>1</th>\n",
       "      <td>0.0</td>\n",
       "      <td>6.0</td>\n",
       "      <td>4.0</td>\n",
       "      <td>6.0</td>\n",
       "      <td>0.0</td>\n",
       "      <td>7.0</td>\n",
       "      <td>7.0</td>\n",
       "    </tr>\n",
       "    <tr>\n",
       "      <th>2</th>\n",
       "      <td>4.0</td>\n",
       "      <td>13.0</td>\n",
       "      <td>4.0</td>\n",
       "      <td>0.0</td>\n",
       "      <td>0.0</td>\n",
       "      <td>1.0</td>\n",
       "      <td>3.0</td>\n",
       "    </tr>\n",
       "    <tr>\n",
       "      <th>3</th>\n",
       "      <td>4.0</td>\n",
       "      <td>8.0</td>\n",
       "      <td>3.0</td>\n",
       "      <td>8.0</td>\n",
       "      <td>0.0</td>\n",
       "      <td>6.0</td>\n",
       "      <td>6.0</td>\n",
       "    </tr>\n",
       "    <tr>\n",
       "      <th>4</th>\n",
       "      <td>2.0</td>\n",
       "      <td>5.0</td>\n",
       "      <td>0.0</td>\n",
       "      <td>6.0</td>\n",
       "      <td>0.0</td>\n",
       "      <td>2.0</td>\n",
       "      <td>4.0</td>\n",
       "    </tr>\n",
       "  </tbody>\n",
       "</table>\n",
       "</div>"
      ],
      "text/plain": [
       "   Climate  WindGustDir  WindDir9am  WindDir3pm  RainToday  Cloud9am  Cloud3pm\n",
       "0      1.0          2.0         6.0         0.0        0.0       0.0       7.0\n",
       "1      0.0          6.0         4.0         6.0        0.0       7.0       7.0\n",
       "2      4.0         13.0         4.0         0.0        0.0       1.0       3.0\n",
       "3      4.0          8.0         3.0         8.0        0.0       6.0       6.0\n",
       "4      2.0          5.0         0.0         6.0        0.0       2.0       4.0"
      ]
     },
     "execution_count": 140,
     "metadata": {},
     "output_type": "execute_result"
    }
   ],
   "source": [
    "Xtrain.loc[:,cate].head()"
   ]
  },
  {
   "cell_type": "code",
   "execution_count": 141,
   "metadata": {
    "scrolled": true
   },
   "outputs": [
    {
     "data": {
      "text/html": [
       "<div>\n",
       "<style scoped>\n",
       "    .dataframe tbody tr th:only-of-type {\n",
       "        vertical-align: middle;\n",
       "    }\n",
       "\n",
       "    .dataframe tbody tr th {\n",
       "        vertical-align: top;\n",
       "    }\n",
       "\n",
       "    .dataframe thead th {\n",
       "        text-align: right;\n",
       "    }\n",
       "</style>\n",
       "<table border=\"1\" class=\"dataframe\">\n",
       "  <thead>\n",
       "    <tr style=\"text-align: right;\">\n",
       "      <th></th>\n",
       "      <th>Climate</th>\n",
       "      <th>WindGustDir</th>\n",
       "      <th>WindDir9am</th>\n",
       "      <th>WindDir3pm</th>\n",
       "      <th>RainToday</th>\n",
       "      <th>Cloud9am</th>\n",
       "      <th>Cloud3pm</th>\n",
       "    </tr>\n",
       "  </thead>\n",
       "  <tbody>\n",
       "    <tr>\n",
       "      <th>0</th>\n",
       "      <td>0.0</td>\n",
       "      <td>11.0</td>\n",
       "      <td>8.0</td>\n",
       "      <td>11.0</td>\n",
       "      <td>1.0</td>\n",
       "      <td>7.0</td>\n",
       "      <td>7.0</td>\n",
       "    </tr>\n",
       "    <tr>\n",
       "      <th>1</th>\n",
       "      <td>4.0</td>\n",
       "      <td>12.0</td>\n",
       "      <td>12.0</td>\n",
       "      <td>8.0</td>\n",
       "      <td>1.0</td>\n",
       "      <td>8.0</td>\n",
       "      <td>7.0</td>\n",
       "    </tr>\n",
       "    <tr>\n",
       "      <th>2</th>\n",
       "      <td>0.0</td>\n",
       "      <td>4.0</td>\n",
       "      <td>3.0</td>\n",
       "      <td>9.0</td>\n",
       "      <td>0.0</td>\n",
       "      <td>7.0</td>\n",
       "      <td>7.0</td>\n",
       "    </tr>\n",
       "    <tr>\n",
       "      <th>3</th>\n",
       "      <td>6.0</td>\n",
       "      <td>12.0</td>\n",
       "      <td>13.0</td>\n",
       "      <td>9.0</td>\n",
       "      <td>0.0</td>\n",
       "      <td>7.0</td>\n",
       "      <td>7.0</td>\n",
       "    </tr>\n",
       "    <tr>\n",
       "      <th>4</th>\n",
       "      <td>4.0</td>\n",
       "      <td>0.0</td>\n",
       "      <td>12.0</td>\n",
       "      <td>0.0</td>\n",
       "      <td>0.0</td>\n",
       "      <td>8.0</td>\n",
       "      <td>4.0</td>\n",
       "    </tr>\n",
       "  </tbody>\n",
       "</table>\n",
       "</div>"
      ],
      "text/plain": [
       "   Climate  WindGustDir  WindDir9am  WindDir3pm  RainToday  Cloud9am  Cloud3pm\n",
       "0      0.0         11.0         8.0        11.0        1.0       7.0       7.0\n",
       "1      4.0         12.0        12.0         8.0        1.0       8.0       7.0\n",
       "2      0.0          4.0         3.0         9.0        0.0       7.0       7.0\n",
       "3      6.0         12.0        13.0         9.0        0.0       7.0       7.0\n",
       "4      4.0          0.0        12.0         0.0        0.0       8.0       4.0"
      ]
     },
     "execution_count": 141,
     "metadata": {},
     "output_type": "execute_result"
    }
   ],
   "source": [
    "Xtest.loc[:,cate].head()"
   ]
  },
  {
   "cell_type": "code",
   "execution_count": 142,
   "metadata": {},
   "outputs": [
    {
     "data": {
      "text/html": [
       "<div>\n",
       "<style scoped>\n",
       "    .dataframe tbody tr th:only-of-type {\n",
       "        vertical-align: middle;\n",
       "    }\n",
       "\n",
       "    .dataframe tbody tr th {\n",
       "        vertical-align: top;\n",
       "    }\n",
       "\n",
       "    .dataframe thead th {\n",
       "        text-align: right;\n",
       "    }\n",
       "</style>\n",
       "<table border=\"1\" class=\"dataframe\">\n",
       "  <thead>\n",
       "    <tr style=\"text-align: right;\">\n",
       "      <th></th>\n",
       "      <th>Month</th>\n",
       "      <th>Climate</th>\n",
       "      <th>MinTemp</th>\n",
       "      <th>MaxTemp</th>\n",
       "      <th>Rainfall</th>\n",
       "      <th>Evaporation</th>\n",
       "      <th>Sunshine</th>\n",
       "      <th>WindGustDir</th>\n",
       "      <th>WindGustSpeed</th>\n",
       "      <th>WindDir9am</th>\n",
       "      <th>...</th>\n",
       "      <th>WindSpeed3pm</th>\n",
       "      <th>Humidity9am</th>\n",
       "      <th>Humidity3pm</th>\n",
       "      <th>Pressure9am</th>\n",
       "      <th>Pressure3pm</th>\n",
       "      <th>Cloud9am</th>\n",
       "      <th>Cloud3pm</th>\n",
       "      <th>Temp9am</th>\n",
       "      <th>Temp3pm</th>\n",
       "      <th>RainToday</th>\n",
       "    </tr>\n",
       "  </thead>\n",
       "  <tbody>\n",
       "    <tr>\n",
       "      <th>0</th>\n",
       "      <td>8</td>\n",
       "      <td>1.0</td>\n",
       "      <td>17.5</td>\n",
       "      <td>36.0</td>\n",
       "      <td>0.0</td>\n",
       "      <td>8.8</td>\n",
       "      <td>NaN</td>\n",
       "      <td>2.0</td>\n",
       "      <td>26.0</td>\n",
       "      <td>6.0</td>\n",
       "      <td>...</td>\n",
       "      <td>15.0</td>\n",
       "      <td>57.0</td>\n",
       "      <td>NaN</td>\n",
       "      <td>1016.8</td>\n",
       "      <td>1012.2</td>\n",
       "      <td>0.0</td>\n",
       "      <td>7.0</td>\n",
       "      <td>27.5</td>\n",
       "      <td>NaN</td>\n",
       "      <td>0.0</td>\n",
       "    </tr>\n",
       "    <tr>\n",
       "      <th>1</th>\n",
       "      <td>12</td>\n",
       "      <td>0.0</td>\n",
       "      <td>9.5</td>\n",
       "      <td>25.0</td>\n",
       "      <td>0.0</td>\n",
       "      <td>NaN</td>\n",
       "      <td>NaN</td>\n",
       "      <td>6.0</td>\n",
       "      <td>33.0</td>\n",
       "      <td>4.0</td>\n",
       "      <td>...</td>\n",
       "      <td>17.0</td>\n",
       "      <td>59.0</td>\n",
       "      <td>31.0</td>\n",
       "      <td>1020.4</td>\n",
       "      <td>1017.5</td>\n",
       "      <td>7.0</td>\n",
       "      <td>7.0</td>\n",
       "      <td>14.6</td>\n",
       "      <td>23.6</td>\n",
       "      <td>0.0</td>\n",
       "    </tr>\n",
       "    <tr>\n",
       "      <th>2</th>\n",
       "      <td>4</td>\n",
       "      <td>4.0</td>\n",
       "      <td>13.0</td>\n",
       "      <td>22.6</td>\n",
       "      <td>0.0</td>\n",
       "      <td>3.8</td>\n",
       "      <td>10.4</td>\n",
       "      <td>13.0</td>\n",
       "      <td>NaN</td>\n",
       "      <td>4.0</td>\n",
       "      <td>...</td>\n",
       "      <td>31.0</td>\n",
       "      <td>79.0</td>\n",
       "      <td>68.0</td>\n",
       "      <td>1020.3</td>\n",
       "      <td>1015.7</td>\n",
       "      <td>1.0</td>\n",
       "      <td>3.0</td>\n",
       "      <td>17.5</td>\n",
       "      <td>20.8</td>\n",
       "      <td>0.0</td>\n",
       "    </tr>\n",
       "    <tr>\n",
       "      <th>3</th>\n",
       "      <td>11</td>\n",
       "      <td>4.0</td>\n",
       "      <td>13.9</td>\n",
       "      <td>29.8</td>\n",
       "      <td>0.0</td>\n",
       "      <td>5.8</td>\n",
       "      <td>5.1</td>\n",
       "      <td>8.0</td>\n",
       "      <td>37.0</td>\n",
       "      <td>3.0</td>\n",
       "      <td>...</td>\n",
       "      <td>28.0</td>\n",
       "      <td>82.0</td>\n",
       "      <td>44.0</td>\n",
       "      <td>1012.5</td>\n",
       "      <td>1005.9</td>\n",
       "      <td>6.0</td>\n",
       "      <td>6.0</td>\n",
       "      <td>18.5</td>\n",
       "      <td>27.5</td>\n",
       "      <td>0.0</td>\n",
       "    </tr>\n",
       "    <tr>\n",
       "      <th>4</th>\n",
       "      <td>4</td>\n",
       "      <td>2.0</td>\n",
       "      <td>6.0</td>\n",
       "      <td>23.5</td>\n",
       "      <td>0.0</td>\n",
       "      <td>2.8</td>\n",
       "      <td>8.6</td>\n",
       "      <td>5.0</td>\n",
       "      <td>24.0</td>\n",
       "      <td>0.0</td>\n",
       "      <td>...</td>\n",
       "      <td>15.0</td>\n",
       "      <td>58.0</td>\n",
       "      <td>35.0</td>\n",
       "      <td>1019.8</td>\n",
       "      <td>1014.1</td>\n",
       "      <td>2.0</td>\n",
       "      <td>4.0</td>\n",
       "      <td>12.4</td>\n",
       "      <td>22.4</td>\n",
       "      <td>0.0</td>\n",
       "    </tr>\n",
       "  </tbody>\n",
       "</table>\n",
       "<p>5 rows × 22 columns</p>\n",
       "</div>"
      ],
      "text/plain": [
       "   Month  Climate  MinTemp  MaxTemp  Rainfall  Evaporation  Sunshine  \\\n",
       "0      8      1.0     17.5     36.0       0.0          8.8       NaN   \n",
       "1     12      0.0      9.5     25.0       0.0          NaN       NaN   \n",
       "2      4      4.0     13.0     22.6       0.0          3.8      10.4   \n",
       "3     11      4.0     13.9     29.8       0.0          5.8       5.1   \n",
       "4      4      2.0      6.0     23.5       0.0          2.8       8.6   \n",
       "\n",
       "   WindGustDir  WindGustSpeed  WindDir9am  ...  WindSpeed3pm  Humidity9am  \\\n",
       "0          2.0           26.0         6.0  ...          15.0         57.0   \n",
       "1          6.0           33.0         4.0  ...          17.0         59.0   \n",
       "2         13.0            NaN         4.0  ...          31.0         79.0   \n",
       "3          8.0           37.0         3.0  ...          28.0         82.0   \n",
       "4          5.0           24.0         0.0  ...          15.0         58.0   \n",
       "\n",
       "   Humidity3pm  Pressure9am  Pressure3pm  Cloud9am  Cloud3pm  Temp9am  \\\n",
       "0          NaN       1016.8       1012.2       0.0       7.0     27.5   \n",
       "1         31.0       1020.4       1017.5       7.0       7.0     14.6   \n",
       "2         68.0       1020.3       1015.7       1.0       3.0     17.5   \n",
       "3         44.0       1012.5       1005.9       6.0       6.0     18.5   \n",
       "4         35.0       1019.8       1014.1       2.0       4.0     12.4   \n",
       "\n",
       "   Temp3pm  RainToday  \n",
       "0      NaN        0.0  \n",
       "1     23.6        0.0  \n",
       "2     20.8        0.0  \n",
       "3     27.5        0.0  \n",
       "4     22.4        0.0  \n",
       "\n",
       "[5 rows x 22 columns]"
      ]
     },
     "execution_count": 142,
     "metadata": {},
     "output_type": "execute_result"
    }
   ],
   "source": [
    "Xtrain.head()"
   ]
  },
  {
   "cell_type": "markdown",
   "metadata": {},
   "source": [
    "全部变成了数字"
   ]
  },
  {
   "cell_type": "code",
   "execution_count": 143,
   "metadata": {},
   "outputs": [],
   "source": [
    "col = Xtrain.columns.tolist()"
   ]
  },
  {
   "cell_type": "code",
   "execution_count": 144,
   "metadata": {},
   "outputs": [
    {
     "data": {
      "text/plain": [
       "['Month',\n",
       " 'Climate',\n",
       " 'MinTemp',\n",
       " 'MaxTemp',\n",
       " 'Rainfall',\n",
       " 'Evaporation',\n",
       " 'Sunshine',\n",
       " 'WindGustDir',\n",
       " 'WindGustSpeed',\n",
       " 'WindDir9am',\n",
       " 'WindDir3pm',\n",
       " 'WindSpeed9am',\n",
       " 'WindSpeed3pm',\n",
       " 'Humidity9am',\n",
       " 'Humidity3pm',\n",
       " 'Pressure9am',\n",
       " 'Pressure3pm',\n",
       " 'Cloud9am',\n",
       " 'Cloud3pm',\n",
       " 'Temp9am',\n",
       " 'Temp3pm',\n",
       " 'RainToday']"
      ]
     },
     "execution_count": 144,
     "metadata": {},
     "output_type": "execute_result"
    }
   ],
   "source": [
    "col"
   ]
  },
  {
   "cell_type": "code",
   "execution_count": 146,
   "metadata": {},
   "outputs": [
    {
     "data": {
      "text/plain": [
       "['Climate',\n",
       " 'WindGustDir',\n",
       " 'WindDir9am',\n",
       " 'WindDir3pm',\n",
       " 'RainToday',\n",
       " 'Cloud9am',\n",
       " 'Cloud3pm']"
      ]
     },
     "execution_count": 146,
     "metadata": {},
     "output_type": "execute_result"
    }
   ],
   "source": [
    "cate"
   ]
  },
  {
   "cell_type": "code",
   "execution_count": 147,
   "metadata": {},
   "outputs": [],
   "source": [
    "for i in cate:\n",
    "    col.remove(i)#remove(i)  用这个loop去移除属于分类型特征"
   ]
  },
  {
   "cell_type": "code",
   "execution_count": 148,
   "metadata": {},
   "outputs": [
    {
     "data": {
      "text/plain": [
       "['Month',\n",
       " 'MinTemp',\n",
       " 'MaxTemp',\n",
       " 'Rainfall',\n",
       " 'Evaporation',\n",
       " 'Sunshine',\n",
       " 'WindGustSpeed',\n",
       " 'WindSpeed9am',\n",
       " 'WindSpeed3pm',\n",
       " 'Humidity9am',\n",
       " 'Humidity3pm',\n",
       " 'Pressure9am',\n",
       " 'Pressure3pm',\n",
       " 'Temp9am',\n",
       " 'Temp3pm']"
      ]
     },
     "execution_count": 148,
     "metadata": {},
     "output_type": "execute_result"
    }
   ],
   "source": [
    "col"
   ]
  },
  {
   "cell_type": "code",
   "execution_count": 149,
   "metadata": {},
   "outputs": [],
   "source": [
    "#实例化模型，填补策略为\"mean\"表示均值\n",
    "impmean = SimpleImputer(missing_values=np.nan,strategy = \"mean\")\n",
    "#用训练集来fit模型\n",
    "impmean = impmean.fit(Xtrain.loc[:,col])\n",
    "#分别在训练集和测试集上进行均值填补\n",
    "Xtrain.loc[:,col] = impmean.transform(Xtrain.loc[:,col])\n",
    "Xtest.loc[:,col] = impmean.transform(Xtest.loc[:,col])"
   ]
  },
  {
   "cell_type": "code",
   "execution_count": 150,
   "metadata": {},
   "outputs": [
    {
     "data": {
      "text/plain": [
       "Month            0.0\n",
       "Climate          0.0\n",
       "MinTemp          0.0\n",
       "MaxTemp          0.0\n",
       "Rainfall         0.0\n",
       "Evaporation      0.0\n",
       "Sunshine         0.0\n",
       "WindGustDir      0.0\n",
       "WindGustSpeed    0.0\n",
       "WindDir9am       0.0\n",
       "WindDir3pm       0.0\n",
       "WindSpeed9am     0.0\n",
       "WindSpeed3pm     0.0\n",
       "Humidity9am      0.0\n",
       "Humidity3pm      0.0\n",
       "Pressure9am      0.0\n",
       "Pressure3pm      0.0\n",
       "Cloud9am         0.0\n",
       "Cloud3pm         0.0\n",
       "Temp9am          0.0\n",
       "Temp3pm          0.0\n",
       "RainToday        0.0\n",
       "dtype: float64"
      ]
     },
     "execution_count": 150,
     "metadata": {},
     "output_type": "execute_result"
    }
   ],
   "source": [
    "Xtrain.isnull().mean()"
   ]
  },
  {
   "cell_type": "code",
   "execution_count": 151,
   "metadata": {},
   "outputs": [
    {
     "data": {
      "text/plain": [
       "Month            0.0\n",
       "Climate          0.0\n",
       "MinTemp          0.0\n",
       "MaxTemp          0.0\n",
       "Rainfall         0.0\n",
       "Evaporation      0.0\n",
       "Sunshine         0.0\n",
       "WindGustDir      0.0\n",
       "WindGustSpeed    0.0\n",
       "WindDir9am       0.0\n",
       "WindDir3pm       0.0\n",
       "WindSpeed9am     0.0\n",
       "WindSpeed3pm     0.0\n",
       "Humidity9am      0.0\n",
       "Humidity3pm      0.0\n",
       "Pressure9am      0.0\n",
       "Pressure3pm      0.0\n",
       "Cloud9am         0.0\n",
       "Cloud3pm         0.0\n",
       "Temp9am          0.0\n",
       "Temp3pm          0.0\n",
       "RainToday        0.0\n",
       "dtype: float64"
      ]
     },
     "execution_count": 151,
     "metadata": {},
     "output_type": "execute_result"
    }
   ],
   "source": [
    "Xtest.isnull().mean()"
   ]
  },
  {
   "cell_type": "markdown",
   "metadata": {},
   "source": [
    "这样一来连续性变量的features也没有空值了"
   ]
  },
  {
   "cell_type": "markdown",
   "metadata": {},
   "source": [
    "连续型变量还有一种重要的处理就是无量纲化，也是SVM执行前的重要步骤，在填补完缺失值之后，无量纲化是不对分类类型变量进行的，因为把分类类型的变量比如说0~8压缩成0~1的数字，那样就没有什么意义了，所以只对连续型变量进行无量纲化就好了"
   ]
  },
  {
   "cell_type": "code",
   "execution_count": 152,
   "metadata": {},
   "outputs": [],
   "source": [
    "col.remove(\"Month\")"
   ]
  },
  {
   "cell_type": "code",
   "execution_count": 153,
   "metadata": {},
   "outputs": [
    {
     "data": {
      "text/plain": [
       "['MinTemp',\n",
       " 'MaxTemp',\n",
       " 'Rainfall',\n",
       " 'Evaporation',\n",
       " 'Sunshine',\n",
       " 'WindGustSpeed',\n",
       " 'WindSpeed9am',\n",
       " 'WindSpeed3pm',\n",
       " 'Humidity9am',\n",
       " 'Humidity3pm',\n",
       " 'Pressure9am',\n",
       " 'Pressure3pm',\n",
       " 'Temp9am',\n",
       " 'Temp3pm']"
      ]
     },
     "execution_count": 153,
     "metadata": {},
     "output_type": "execute_result"
    }
   ],
   "source": [
    "col"
   ]
  },
  {
   "cell_type": "code",
   "execution_count": 154,
   "metadata": {},
   "outputs": [],
   "source": [
    "from sklearn.preprocessing import StandardScaler #数据转换为均值为0，方差为1的数据\n",
    "#标准化不改变数据的分布，不会把数据变成正态分布的"
   ]
  },
  {
   "cell_type": "code",
   "execution_count": 155,
   "metadata": {},
   "outputs": [],
   "source": [
    "ss = StandardScaler()\n",
    "ss = ss.fit(Xtrain.loc[:,col])\n",
    "Xtrain.loc[:,col] = ss.transform(Xtrain.loc[:,col])\n",
    "Xtest.loc[:,col] = ss.transform(Xtest.loc[:,col])"
   ]
  },
  {
   "cell_type": "code",
   "execution_count": 156,
   "metadata": {},
   "outputs": [
    {
     "data": {
      "text/html": [
       "<div>\n",
       "<style scoped>\n",
       "    .dataframe tbody tr th:only-of-type {\n",
       "        vertical-align: middle;\n",
       "    }\n",
       "\n",
       "    .dataframe tbody tr th {\n",
       "        vertical-align: top;\n",
       "    }\n",
       "\n",
       "    .dataframe thead th {\n",
       "        text-align: right;\n",
       "    }\n",
       "</style>\n",
       "<table border=\"1\" class=\"dataframe\">\n",
       "  <thead>\n",
       "    <tr style=\"text-align: right;\">\n",
       "      <th></th>\n",
       "      <th>Month</th>\n",
       "      <th>Climate</th>\n",
       "      <th>MinTemp</th>\n",
       "      <th>MaxTemp</th>\n",
       "      <th>Rainfall</th>\n",
       "      <th>Evaporation</th>\n",
       "      <th>Sunshine</th>\n",
       "      <th>WindGustDir</th>\n",
       "      <th>WindGustSpeed</th>\n",
       "      <th>WindDir9am</th>\n",
       "      <th>...</th>\n",
       "      <th>WindSpeed3pm</th>\n",
       "      <th>Humidity9am</th>\n",
       "      <th>Humidity3pm</th>\n",
       "      <th>Pressure9am</th>\n",
       "      <th>Pressure3pm</th>\n",
       "      <th>Cloud9am</th>\n",
       "      <th>Cloud3pm</th>\n",
       "      <th>Temp9am</th>\n",
       "      <th>Temp3pm</th>\n",
       "      <th>RainToday</th>\n",
       "    </tr>\n",
       "  </thead>\n",
       "  <tbody>\n",
       "    <tr>\n",
       "      <th>0</th>\n",
       "      <td>8.0</td>\n",
       "      <td>1.0</td>\n",
       "      <td>0.826375</td>\n",
       "      <td>1.774044</td>\n",
       "      <td>-0.314379</td>\n",
       "      <td>0.964367</td>\n",
       "      <td>0.000000</td>\n",
       "      <td>2.0</td>\n",
       "      <td>-1.085893e+00</td>\n",
       "      <td>6.0</td>\n",
       "      <td>...</td>\n",
       "      <td>-0.416443</td>\n",
       "      <td>-0.646283</td>\n",
       "      <td>0.000000</td>\n",
       "      <td>-0.122589</td>\n",
       "      <td>-0.453507</td>\n",
       "      <td>0.0</td>\n",
       "      <td>7.0</td>\n",
       "      <td>1.612270</td>\n",
       "      <td>0.000000</td>\n",
       "      <td>0.0</td>\n",
       "    </tr>\n",
       "    <tr>\n",
       "      <th>1</th>\n",
       "      <td>12.0</td>\n",
       "      <td>0.0</td>\n",
       "      <td>-0.427048</td>\n",
       "      <td>0.244031</td>\n",
       "      <td>-0.314379</td>\n",
       "      <td>0.000000</td>\n",
       "      <td>0.000000</td>\n",
       "      <td>6.0</td>\n",
       "      <td>-5.373993e-01</td>\n",
       "      <td>4.0</td>\n",
       "      <td>...</td>\n",
       "      <td>-0.182051</td>\n",
       "      <td>-0.539186</td>\n",
       "      <td>-1.011310</td>\n",
       "      <td>0.414254</td>\n",
       "      <td>0.340522</td>\n",
       "      <td>7.0</td>\n",
       "      <td>7.0</td>\n",
       "      <td>-0.366608</td>\n",
       "      <td>0.270238</td>\n",
       "      <td>0.0</td>\n",
       "    </tr>\n",
       "    <tr>\n",
       "      <th>2</th>\n",
       "      <td>4.0</td>\n",
       "      <td>4.0</td>\n",
       "      <td>0.121324</td>\n",
       "      <td>-0.089790</td>\n",
       "      <td>-0.314379</td>\n",
       "      <td>-0.551534</td>\n",
       "      <td>1.062619</td>\n",
       "      <td>13.0</td>\n",
       "      <td>-1.113509e-15</td>\n",
       "      <td>4.0</td>\n",
       "      <td>...</td>\n",
       "      <td>1.458692</td>\n",
       "      <td>0.531786</td>\n",
       "      <td>0.800547</td>\n",
       "      <td>0.399342</td>\n",
       "      <td>0.070852</td>\n",
       "      <td>1.0</td>\n",
       "      <td>3.0</td>\n",
       "      <td>0.078256</td>\n",
       "      <td>-0.132031</td>\n",
       "      <td>0.0</td>\n",
       "    </tr>\n",
       "    <tr>\n",
       "      <th>3</th>\n",
       "      <td>11.0</td>\n",
       "      <td>4.0</td>\n",
       "      <td>0.262334</td>\n",
       "      <td>0.911673</td>\n",
       "      <td>-0.314379</td>\n",
       "      <td>0.054826</td>\n",
       "      <td>-0.885225</td>\n",
       "      <td>8.0</td>\n",
       "      <td>-2.239744e-01</td>\n",
       "      <td>3.0</td>\n",
       "      <td>...</td>\n",
       "      <td>1.107105</td>\n",
       "      <td>0.692432</td>\n",
       "      <td>-0.374711</td>\n",
       "      <td>-0.763819</td>\n",
       "      <td>-1.397352</td>\n",
       "      <td>6.0</td>\n",
       "      <td>6.0</td>\n",
       "      <td>0.231658</td>\n",
       "      <td>0.830540</td>\n",
       "      <td>0.0</td>\n",
       "    </tr>\n",
       "    <tr>\n",
       "      <th>4</th>\n",
       "      <td>4.0</td>\n",
       "      <td>2.0</td>\n",
       "      <td>-0.975421</td>\n",
       "      <td>0.035393</td>\n",
       "      <td>-0.314379</td>\n",
       "      <td>-0.854715</td>\n",
       "      <td>0.401087</td>\n",
       "      <td>5.0</td>\n",
       "      <td>-1.242605e+00</td>\n",
       "      <td>0.0</td>\n",
       "      <td>...</td>\n",
       "      <td>-0.416443</td>\n",
       "      <td>-0.592734</td>\n",
       "      <td>-0.815433</td>\n",
       "      <td>0.324780</td>\n",
       "      <td>-0.168855</td>\n",
       "      <td>2.0</td>\n",
       "      <td>4.0</td>\n",
       "      <td>-0.704091</td>\n",
       "      <td>0.097837</td>\n",
       "      <td>0.0</td>\n",
       "    </tr>\n",
       "  </tbody>\n",
       "</table>\n",
       "<p>5 rows × 22 columns</p>\n",
       "</div>"
      ],
      "text/plain": [
       "   Month  Climate   MinTemp   MaxTemp  Rainfall  Evaporation  Sunshine  \\\n",
       "0    8.0      1.0  0.826375  1.774044 -0.314379     0.964367  0.000000   \n",
       "1   12.0      0.0 -0.427048  0.244031 -0.314379     0.000000  0.000000   \n",
       "2    4.0      4.0  0.121324 -0.089790 -0.314379    -0.551534  1.062619   \n",
       "3   11.0      4.0  0.262334  0.911673 -0.314379     0.054826 -0.885225   \n",
       "4    4.0      2.0 -0.975421  0.035393 -0.314379    -0.854715  0.401087   \n",
       "\n",
       "   WindGustDir  WindGustSpeed  WindDir9am  ...  WindSpeed3pm  Humidity9am  \\\n",
       "0          2.0  -1.085893e+00         6.0  ...     -0.416443    -0.646283   \n",
       "1          6.0  -5.373993e-01         4.0  ...     -0.182051    -0.539186   \n",
       "2         13.0  -1.113509e-15         4.0  ...      1.458692     0.531786   \n",
       "3          8.0  -2.239744e-01         3.0  ...      1.107105     0.692432   \n",
       "4          5.0  -1.242605e+00         0.0  ...     -0.416443    -0.592734   \n",
       "\n",
       "   Humidity3pm  Pressure9am  Pressure3pm  Cloud9am  Cloud3pm   Temp9am  \\\n",
       "0     0.000000    -0.122589    -0.453507       0.0       7.0  1.612270   \n",
       "1    -1.011310     0.414254     0.340522       7.0       7.0 -0.366608   \n",
       "2     0.800547     0.399342     0.070852       1.0       3.0  0.078256   \n",
       "3    -0.374711    -0.763819    -1.397352       6.0       6.0  0.231658   \n",
       "4    -0.815433     0.324780    -0.168855       2.0       4.0 -0.704091   \n",
       "\n",
       "    Temp3pm  RainToday  \n",
       "0  0.000000        0.0  \n",
       "1  0.270238        0.0  \n",
       "2 -0.132031        0.0  \n",
       "3  0.830540        0.0  \n",
       "4  0.097837        0.0  \n",
       "\n",
       "[5 rows x 22 columns]"
      ]
     },
     "execution_count": 156,
     "metadata": {},
     "output_type": "execute_result"
    }
   ],
   "source": [
    "Xtrain.head()"
   ]
  },
  {
   "cell_type": "code",
   "execution_count": 157,
   "metadata": {},
   "outputs": [
    {
     "data": {
      "text/html": [
       "<div>\n",
       "<style scoped>\n",
       "    .dataframe tbody tr th:only-of-type {\n",
       "        vertical-align: middle;\n",
       "    }\n",
       "\n",
       "    .dataframe tbody tr th {\n",
       "        vertical-align: top;\n",
       "    }\n",
       "\n",
       "    .dataframe thead th {\n",
       "        text-align: right;\n",
       "    }\n",
       "</style>\n",
       "<table border=\"1\" class=\"dataframe\">\n",
       "  <thead>\n",
       "    <tr style=\"text-align: right;\">\n",
       "      <th></th>\n",
       "      <th>Month</th>\n",
       "      <th>Climate</th>\n",
       "      <th>MinTemp</th>\n",
       "      <th>MaxTemp</th>\n",
       "      <th>Rainfall</th>\n",
       "      <th>Evaporation</th>\n",
       "      <th>Sunshine</th>\n",
       "      <th>WindGustDir</th>\n",
       "      <th>WindGustSpeed</th>\n",
       "      <th>WindDir9am</th>\n",
       "      <th>...</th>\n",
       "      <th>WindSpeed3pm</th>\n",
       "      <th>Humidity9am</th>\n",
       "      <th>Humidity3pm</th>\n",
       "      <th>Pressure9am</th>\n",
       "      <th>Pressure3pm</th>\n",
       "      <th>Cloud9am</th>\n",
       "      <th>Cloud3pm</th>\n",
       "      <th>Temp9am</th>\n",
       "      <th>Temp3pm</th>\n",
       "      <th>RainToday</th>\n",
       "    </tr>\n",
       "  </thead>\n",
       "  <tbody>\n",
       "    <tr>\n",
       "      <th>0</th>\n",
       "      <td>1.0</td>\n",
       "      <td>0.0</td>\n",
       "      <td>1.531425</td>\n",
       "      <td>0.633489</td>\n",
       "      <td>2.871067</td>\n",
       "      <td>0.000000</td>\n",
       "      <td>0.000000</td>\n",
       "      <td>11.0</td>\n",
       "      <td>1.343150</td>\n",
       "      <td>8.0</td>\n",
       "      <td>...</td>\n",
       "      <td>2.161868e+00</td>\n",
       "      <td>1.174369</td>\n",
       "      <td>1.681991</td>\n",
       "      <td>-1.643646</td>\n",
       "      <td>-1.067755</td>\n",
       "      <td>7.0</td>\n",
       "      <td>7.0</td>\n",
       "      <td>1.412848</td>\n",
       "      <td>0.198404</td>\n",
       "      <td>1.0</td>\n",
       "    </tr>\n",
       "    <tr>\n",
       "      <th>1</th>\n",
       "      <td>3.0</td>\n",
       "      <td>4.0</td>\n",
       "      <td>-0.035354</td>\n",
       "      <td>-0.646158</td>\n",
       "      <td>-0.036285</td>\n",
       "      <td>-0.794079</td>\n",
       "      <td>0.107073</td>\n",
       "      <td>12.0</td>\n",
       "      <td>0.951369</td>\n",
       "      <td>12.0</td>\n",
       "      <td>...</td>\n",
       "      <td>1.107105e+00</td>\n",
       "      <td>1.013723</td>\n",
       "      <td>0.506733</td>\n",
       "      <td>0.384430</td>\n",
       "      <td>0.700082</td>\n",
       "      <td>8.0</td>\n",
       "      <td>7.0</td>\n",
       "      <td>-0.335927</td>\n",
       "      <td>-0.606132</td>\n",
       "      <td>1.0</td>\n",
       "    </tr>\n",
       "    <tr>\n",
       "      <th>2</th>\n",
       "      <td>3.0</td>\n",
       "      <td>0.0</td>\n",
       "      <td>-0.489720</td>\n",
       "      <td>-1.383346</td>\n",
       "      <td>0.000000</td>\n",
       "      <td>0.000000</td>\n",
       "      <td>0.000000</td>\n",
       "      <td>4.0</td>\n",
       "      <td>0.089450</td>\n",
       "      <td>3.0</td>\n",
       "      <td>...</td>\n",
       "      <td>-4.163637e-16</td>\n",
       "      <td>0.000000</td>\n",
       "      <td>0.000000</td>\n",
       "      <td>0.000000</td>\n",
       "      <td>0.000000</td>\n",
       "      <td>7.0</td>\n",
       "      <td>7.0</td>\n",
       "      <td>0.000000</td>\n",
       "      <td>0.000000</td>\n",
       "      <td>0.0</td>\n",
       "    </tr>\n",
       "    <tr>\n",
       "      <th>3</th>\n",
       "      <td>10.0</td>\n",
       "      <td>6.0</td>\n",
       "      <td>0.136992</td>\n",
       "      <td>-0.409702</td>\n",
       "      <td>-0.314379</td>\n",
       "      <td>0.000000</td>\n",
       "      <td>0.000000</td>\n",
       "      <td>12.0</td>\n",
       "      <td>-0.537399</td>\n",
       "      <td>13.0</td>\n",
       "      <td>...</td>\n",
       "      <td>6.383207e-01</td>\n",
       "      <td>-1.556609</td>\n",
       "      <td>-0.031928</td>\n",
       "      <td>0.548465</td>\n",
       "      <td>0.640155</td>\n",
       "      <td>7.0</td>\n",
       "      <td>7.0</td>\n",
       "      <td>-0.029125</td>\n",
       "      <td>-0.304431</td>\n",
       "      <td>0.0</td>\n",
       "    </tr>\n",
       "    <tr>\n",
       "      <th>4</th>\n",
       "      <td>11.0</td>\n",
       "      <td>4.0</td>\n",
       "      <td>-0.004018</td>\n",
       "      <td>-0.451429</td>\n",
       "      <td>-0.263817</td>\n",
       "      <td>0.000000</td>\n",
       "      <td>0.000000</td>\n",
       "      <td>0.0</td>\n",
       "      <td>-0.537399</td>\n",
       "      <td>12.0</td>\n",
       "      <td>...</td>\n",
       "      <td>5.234093e-02</td>\n",
       "      <td>1.227917</td>\n",
       "      <td>0.849516</td>\n",
       "      <td>-0.301537</td>\n",
       "      <td>-0.303690</td>\n",
       "      <td>8.0</td>\n",
       "      <td>4.0</td>\n",
       "      <td>-0.520009</td>\n",
       "      <td>-0.390632</td>\n",
       "      <td>0.0</td>\n",
       "    </tr>\n",
       "  </tbody>\n",
       "</table>\n",
       "<p>5 rows × 22 columns</p>\n",
       "</div>"
      ],
      "text/plain": [
       "   Month  Climate   MinTemp   MaxTemp  Rainfall  Evaporation  Sunshine  \\\n",
       "0    1.0      0.0  1.531425  0.633489  2.871067     0.000000  0.000000   \n",
       "1    3.0      4.0 -0.035354 -0.646158 -0.036285    -0.794079  0.107073   \n",
       "2    3.0      0.0 -0.489720 -1.383346  0.000000     0.000000  0.000000   \n",
       "3   10.0      6.0  0.136992 -0.409702 -0.314379     0.000000  0.000000   \n",
       "4   11.0      4.0 -0.004018 -0.451429 -0.263817     0.000000  0.000000   \n",
       "\n",
       "   WindGustDir  WindGustSpeed  WindDir9am  ...  WindSpeed3pm  Humidity9am  \\\n",
       "0         11.0       1.343150         8.0  ...  2.161868e+00     1.174369   \n",
       "1         12.0       0.951369        12.0  ...  1.107105e+00     1.013723   \n",
       "2          4.0       0.089450         3.0  ... -4.163637e-16     0.000000   \n",
       "3         12.0      -0.537399        13.0  ...  6.383207e-01    -1.556609   \n",
       "4          0.0      -0.537399        12.0  ...  5.234093e-02     1.227917   \n",
       "\n",
       "   Humidity3pm  Pressure9am  Pressure3pm  Cloud9am  Cloud3pm   Temp9am  \\\n",
       "0     1.681991    -1.643646    -1.067755       7.0       7.0  1.412848   \n",
       "1     0.506733     0.384430     0.700082       8.0       7.0 -0.335927   \n",
       "2     0.000000     0.000000     0.000000       7.0       7.0  0.000000   \n",
       "3    -0.031928     0.548465     0.640155       7.0       7.0 -0.029125   \n",
       "4     0.849516    -0.301537    -0.303690       8.0       4.0 -0.520009   \n",
       "\n",
       "    Temp3pm  RainToday  \n",
       "0  0.198404        1.0  \n",
       "1 -0.606132        1.0  \n",
       "2  0.000000        0.0  \n",
       "3 -0.304431        0.0  \n",
       "4 -0.390632        0.0  \n",
       "\n",
       "[5 rows x 22 columns]"
      ]
     },
     "execution_count": 157,
     "metadata": {},
     "output_type": "execute_result"
    }
   ],
   "source": [
    "Xtest.head()"
   ]
  },
  {
   "cell_type": "code",
   "execution_count": 158,
   "metadata": {},
   "outputs": [
    {
     "data": {
      "text/html": [
       "<div>\n",
       "<style scoped>\n",
       "    .dataframe tbody tr th:only-of-type {\n",
       "        vertical-align: middle;\n",
       "    }\n",
       "\n",
       "    .dataframe tbody tr th {\n",
       "        vertical-align: top;\n",
       "    }\n",
       "\n",
       "    .dataframe thead th {\n",
       "        text-align: right;\n",
       "    }\n",
       "</style>\n",
       "<table border=\"1\" class=\"dataframe\">\n",
       "  <thead>\n",
       "    <tr style=\"text-align: right;\">\n",
       "      <th></th>\n",
       "      <th>0</th>\n",
       "    </tr>\n",
       "  </thead>\n",
       "  <tbody>\n",
       "    <tr>\n",
       "      <th>0</th>\n",
       "      <td>0</td>\n",
       "    </tr>\n",
       "    <tr>\n",
       "      <th>1</th>\n",
       "      <td>0</td>\n",
       "    </tr>\n",
       "    <tr>\n",
       "      <th>2</th>\n",
       "      <td>0</td>\n",
       "    </tr>\n",
       "    <tr>\n",
       "      <th>3</th>\n",
       "      <td>1</td>\n",
       "    </tr>\n",
       "    <tr>\n",
       "      <th>4</th>\n",
       "      <td>0</td>\n",
       "    </tr>\n",
       "  </tbody>\n",
       "</table>\n",
       "</div>"
      ],
      "text/plain": [
       "   0\n",
       "0  0\n",
       "1  0\n",
       "2  0\n",
       "3  1\n",
       "4  0"
      ]
     },
     "execution_count": 158,
     "metadata": {},
     "output_type": "execute_result"
    }
   ],
   "source": [
    "Ytrain.head()"
   ]
  },
  {
   "cell_type": "code",
   "execution_count": 159,
   "metadata": {},
   "outputs": [],
   "source": [
    "from time import time #随时监控我们的模型的运行时间\n",
    "import datetime\n",
    "from sklearn.svm import SVC\n",
    "from sklearn.model_selection import cross_val_score\n",
    "from sklearn.metrics import roc_auc_score, recall_score"
   ]
  },
  {
   "cell_type": "markdown",
   "metadata": {},
   "source": [
    "一般建模的时候都是用文件里面的label去建模，那么csv文件想要保存就得先变成dataframe，dataframe文件的label就算只有一列，也会反映出二维（行，）这样子，因为测试集和训练集的label只能接受一维，所以务必记得降维！！！"
   ]
  },
  {
   "cell_type": "code",
   "execution_count": 160,
   "metadata": {},
   "outputs": [],
   "source": [
    "Ytrain = Ytrain.iloc[:,0].ravel()\n",
    "Ytest = Ytest.iloc[:,0].ravel()"
   ]
  },
  {
   "cell_type": "code",
   "execution_count": 161,
   "metadata": {},
   "outputs": [],
   "source": [
    "#建模选择自然是我们的支持向量机SVC，首先用核函数的学习曲线来选择核函数\n",
    "#我们希望同时观察，精确性，recall以及AUC分数\n",
    "times = time() #因为SVM是计算量很大的模型，所以我们需要时刻监控我们的模型运行时间"
   ]
  },
  {
   "cell_type": "code",
   "execution_count": 162,
   "metadata": {},
   "outputs": [
    {
     "name": "stdout",
     "output_type": "stream",
     "text": [
      "linear 's testing accuracy 0.844000, recall is 0.469388', auc is 0.869029\n",
      "00:01:540782\n",
      "poly 's testing accuracy 0.840667, recall is 0.457726', auc is 0.868157\n",
      "00:01:967149\n",
      "rbf 's testing accuracy 0.813333, recall is 0.306122', auc is 0.814873\n",
      "00:02:719143\n",
      "sigmoid 's testing accuracy 0.655333, recall is 0.154519', auc is 0.437308\n",
      "00:03:234494\n"
     ]
    }
   ],
   "source": [
    "for kernel in [\"linear\",\"poly\",\"rbf\",\"sigmoid\"]:\n",
    "    clf = SVC(kernel = kernel\n",
    "              ,gamma=\"auto\"\n",
    "              ,degree = 1\n",
    "              ,cache_size = 5000\n",
    "             ).fit(Xtrain, Ytrain)\n",
    "    result = clf.predict(Xtest)#获取模型预测的结果\n",
    "    score = clf.score(Xtest,Ytest)\n",
    "    recall = recall_score(Ytest, result)\n",
    "    auc = roc_auc_score(Ytest,clf.decision_function(Xtest))#计算AUC面积，注意参数顺序，要shift+tab确认一波\n",
    "    print(\"%s 's testing accuracy %f, recall is %f', auc is %f\" % (kernel,score,recall,auc))\n",
    "    print(datetime.datetime.fromtimestamp(time()-times).strftime(\"%M:%S:%f\"))"
   ]
  },
  {
   "cell_type": "markdown",
   "metadata": {},
   "source": [
    "recall没眼看"
   ]
  },
  {
   "cell_type": "markdown",
   "metadata": {},
   "source": [
    "第一反应就是想到class_weight"
   ]
  },
  {
   "cell_type": "code",
   "execution_count": 163,
   "metadata": {
    "scrolled": true
   },
   "outputs": [
    {
     "name": "stdout",
     "output_type": "stream",
     "text": [
      "linear 's testing accuracy 0.796667, recall is 0.775510', auc is 0.870062\n",
      "00:01:270474\n",
      "poly 's testing accuracy 0.793333, recall is 0.763848', auc is 0.871448\n",
      "00:01:772329\n",
      "rbf 's testing accuracy 0.803333, recall is 0.600583', auc is 0.819713\n",
      "00:02:568084\n",
      "sigmoid 's testing accuracy 0.562000, recall is 0.282799', auc is 0.437119\n",
      "00:03:640839\n"
     ]
    }
   ],
   "source": [
    "times = time()\n",
    "for kernel in [\"linear\",\"poly\",\"rbf\",\"sigmoid\"]:\n",
    "    clf = SVC(kernel = kernel\n",
    "              ,gamma=\"auto\"\n",
    "              ,degree = 1\n",
    "              ,cache_size = 5000\n",
    "              ,class_weight = \"balanced\"#balanced模式\n",
    "             ).fit(Xtrain, Ytrain)\n",
    "    result = clf.predict(Xtest)\n",
    "    score = clf.score(Xtest,Ytest)\n",
    "    recall = recall_score(Ytest, result)\n",
    "    auc = roc_auc_score(Ytest,clf.decision_function(Xtest))\n",
    "    print(\"%s 's testing accuracy %f, recall is %f', auc is %f\" % (kernel,score,recall,auc))\n",
    "    print(datetime.datetime.fromtimestamp(time()-times).strftime(\"%M:%S:%f\"))"
   ]
  },
  {
   "cell_type": "markdown",
   "metadata": {},
   "source": [
    "recall大大增加，从0.46到0.77，大跃进"
   ]
  },
  {
   "cell_type": "markdown",
   "metadata": {},
   "source": [
    "在锁定了线性核函数之后，甚至可以将class_weight调节得更加倾向于少数类，不计代价去提升recall"
   ]
  },
  {
   "cell_type": "code",
   "execution_count": 164,
   "metadata": {},
   "outputs": [
    {
     "name": "stdout",
     "output_type": "stream",
     "text": [
      "testing accuracy 0.548000, recall is 0.970845', auc is 0.867172\n",
      "00:02:502171\n"
     ]
    }
   ],
   "source": [
    "times = time()\n",
    "clf = SVC(kernel = \"linear\"\n",
    "          ,gamma=\"auto\"\n",
    "          ,cache_size = 5000\n",
    "          ,class_weight = {1:15} #注意，这里写的其实是，类别1：15，隐藏了类别0：1这个比例\n",
    "         ).fit(Xtrain, Ytrain)\n",
    "result = clf.predict(Xtest)\n",
    "score = clf.score(Xtest,Ytest)\n",
    "recall = recall_score(Ytest, result)\n",
    "auc = roc_auc_score(Ytest,clf.decision_function(Xtest))\n",
    "print(\"testing accuracy %f, recall is %f', auc is %f\" %(score,recall,auc))\n",
    "print(datetime.datetime.fromtimestamp(time()-times).strftime(\"%M:%S:%f\"))"
   ]
  },
  {
   "cell_type": "markdown",
   "metadata": {},
   "source": [
    "下面来查看样本不均衡的严重性"
   ]
  },
  {
   "cell_type": "code",
   "execution_count": 165,
   "metadata": {},
   "outputs": [],
   "source": [
    "valuec = pd.Series(Ytest).value_counts()"
   ]
  },
  {
   "cell_type": "code",
   "execution_count": 166,
   "metadata": {},
   "outputs": [
    {
     "data": {
      "text/plain": [
       "0    1157\n",
       "1     343\n",
       "dtype: int64"
      ]
     },
     "execution_count": 166,
     "metadata": {},
     "output_type": "execute_result"
    }
   ],
   "source": [
    "valuec"
   ]
  },
  {
   "cell_type": "code",
   "execution_count": 167,
   "metadata": {},
   "outputs": [
    {
     "data": {
      "text/plain": [
       "0.7713333333333333"
      ]
     },
     "execution_count": 167,
     "metadata": {},
     "output_type": "execute_result"
    }
   ],
   "source": [
    "valuec[0]/valuec.sum()\n",
    "#样本不均衡的问题不是太严重"
   ]
  },
  {
   "cell_type": "markdown",
   "metadata": {},
   "source": [
    "初步判断，可以认为其实已经将大部分的多数类判断正确了，所以才能够得到现在的正确率，为了证明我们的判断，可以使用混淆矩阵来计算特异度，如果特异度specificity非常高，则证明多数类上已经很难被操作了"
   ]
  },
  {
   "cell_type": "code",
   "execution_count": 168,
   "metadata": {},
   "outputs": [],
   "source": [
    "#查看模型的特异度\n",
    "#specificity：  所有判断正确的0样本/0样本的比例  00/(01+00)\n",
    "from sklearn.metrics import confusion_matrix as CM"
   ]
  },
  {
   "cell_type": "code",
   "execution_count": 169,
   "metadata": {},
   "outputs": [],
   "source": [
    "clf = SVC(kernel = \"linear\"\n",
    "          ,gamma=\"auto\"\n",
    "          ,cache_size = 5000\n",
    "         ).fit(Xtrain, Ytrain)\n",
    "result = clf.predict(Xtest)"
   ]
  },
  {
   "cell_type": "code",
   "execution_count": 170,
   "metadata": {},
   "outputs": [],
   "source": [
    "cm = CM(Ytest #第一个参数是真实label\n",
    "        ,result #第二个参数是预测值，是输入的可以被调的东西可以是decision_function的距离可以是概率预测，但是不能是预测好的结果\n",
    "        ,labels=(1,0))#labels里面（少数类，多数类）"
   ]
  },
  {
   "cell_type": "code",
   "execution_count": 171,
   "metadata": {
    "scrolled": true
   },
   "outputs": [
    {
     "data": {
      "text/plain": [
       "array([[ 161,  182],\n",
       "       [  52, 1105]])"
      ]
     },
     "execution_count": 171,
     "metadata": {},
     "output_type": "execute_result"
    }
   ],
   "source": [
    "cm"
   ]
  },
  {
   "cell_type": "markdown",
   "metadata": {},
   "source": [
    "左上到右下的对角线上的数字就是预测=真实，所以上面的混淆矩阵来看判断对了几乎所有的大样本和超过一半的小样本，所以精度才那么高（0.84）"
   ]
  },
  {
   "cell_type": "code",
   "execution_count": 172,
   "metadata": {},
   "outputs": [],
   "source": [
    "specificity = cm[1,1]/cm[1,:].sum()"
   ]
  },
  {
   "cell_type": "code",
   "execution_count": 173,
   "metadata": {},
   "outputs": [
    {
     "data": {
      "text/plain": [
       "0.9550561797752809"
      ]
     },
     "execution_count": 173,
     "metadata": {},
     "output_type": "execute_result"
    }
   ],
   "source": [
    "specificity #几乎所有的0都被判断正确了，还有不少1也被判断正确了"
   ]
  },
  {
   "attachments": {
    "image.png": {
     "image/png": "[encoded data removed]"
    }
   },
   "cell_type": "markdown",
   "metadata": {},
   "source": [
    "![image.png](attachment:image.png)"
   ]
  },
  {
   "cell_type": "code",
   "execution_count": 175,
   "metadata": {},
   "outputs": [],
   "source": [
    "irange = np.linspace(0.01,0.05,10)"
   ]
  },
  {
   "cell_type": "code",
   "execution_count": 176,
   "metadata": {},
   "outputs": [
    {
     "data": {
      "text/plain": [
       "array([0.01      , 0.01444444, 0.01888889, 0.02333333, 0.02777778,\n",
       "       0.03222222, 0.03666667, 0.04111111, 0.04555556, 0.05      ])"
      ]
     },
     "execution_count": 176,
     "metadata": {},
     "output_type": "execute_result"
    }
   ],
   "source": [
    "irange"
   ]
  },
  {
   "cell_type": "code",
   "execution_count": 177,
   "metadata": {},
   "outputs": [
    {
     "name": "stdout",
     "output_type": "stream",
     "text": [
      "under ratio 1:1.010000 testing accuracy 0.844667, recall is 0.475219', auc is 0.869157\n",
      "00:00:987808\n",
      "under ratio 1:1.014444 testing accuracy 0.844667, recall is 0.478134', auc is 0.869185\n",
      "00:00:938547\n",
      "under ratio 1:1.018889 testing accuracy 0.844667, recall is 0.478134', auc is 0.869198\n",
      "00:00:875009\n",
      "under ratio 1:1.023333 testing accuracy 0.845333, recall is 0.481050', auc is 0.869175\n",
      "00:00:897024\n",
      "under ratio 1:1.027778 testing accuracy 0.844000, recall is 0.481050', auc is 0.869394\n",
      "00:00:904602\n",
      "under ratio 1:1.032222 testing accuracy 0.844000, recall is 0.481050', auc is 0.869528\n",
      "00:00:885704\n",
      "under ratio 1:1.036667 testing accuracy 0.844000, recall is 0.481050', auc is 0.869659\n",
      "00:00:941288\n",
      "under ratio 1:1.041111 testing accuracy 0.844667, recall is 0.483965', auc is 0.869629\n",
      "00:00:928434\n",
      "under ratio 1:1.045556 testing accuracy 0.844667, recall is 0.483965', auc is 0.869712\n",
      "00:00:932963\n",
      "under ratio 1:1.050000 testing accuracy 0.845333, recall is 0.486880', auc is 0.869863\n",
      "00:00:916759\n"
     ]
    }
   ],
   "source": [
    "for i in irange:\n",
    "    times = time()\n",
    "    clf = SVC(kernel = \"linear\"\n",
    "              ,gamma=\"auto\"\n",
    "              ,cache_size = 5000\n",
    "              ,class_weight = {1:1+i}\n",
    "             ).fit(Xtrain, Ytrain)\n",
    "    result = clf.predict(Xtest)\n",
    "    score = clf.score(Xtest,Ytest)\n",
    "    recall = recall_score(Ytest, result)\n",
    "    auc = roc_auc_score(Ytest,clf.decision_function(Xtest))\n",
    "    print(\"under ratio 1:%f testing accuracy %f, recall is %f', auc is %f\" %(1+i,score,recall,auc))\n",
    "    print(datetime.datetime.fromtimestamp(time()-times).strftime(\"%M:%S:%f\"))"
   ]
  },
  {
   "cell_type": "markdown",
   "metadata": {},
   "source": [
    "还是有升高的，model还是有提高的空间，现在来细化"
   ]
  },
  {
   "cell_type": "code",
   "execution_count": 178,
   "metadata": {},
   "outputs": [],
   "source": [
    "irange_ = np.linspace(0.018889,0.027778,10)"
   ]
  },
  {
   "cell_type": "code",
   "execution_count": 179,
   "metadata": {},
   "outputs": [
    {
     "name": "stdout",
     "output_type": "stream",
     "text": [
      "under ratio 1:1.018889 testing accuracy 0.844667, recall is 0.478134', auc is 0.869213\n",
      "00:00:989480\n",
      "under ratio 1:1.019877 testing accuracy 0.844000, recall is 0.478134', auc is 0.869228\n",
      "00:01:288398\n",
      "under ratio 1:1.020864 testing accuracy 0.844000, recall is 0.478134', auc is 0.869218\n",
      "00:01:040751\n",
      "under ratio 1:1.021852 testing accuracy 0.844667, recall is 0.478134', auc is 0.869188\n",
      "00:00:967238\n",
      "under ratio 1:1.022840 testing accuracy 0.844667, recall is 0.478134', auc is 0.869220\n",
      "00:00:911923\n",
      "under ratio 1:1.023827 testing accuracy 0.844667, recall is 0.481050', auc is 0.869188\n",
      "00:00:951113\n",
      "under ratio 1:1.024815 testing accuracy 0.844667, recall is 0.481050', auc is 0.869231\n",
      "00:00:876717\n",
      "under ratio 1:1.025803 testing accuracy 0.844000, recall is 0.481050', auc is 0.869253\n",
      "00:00:924288\n",
      "under ratio 1:1.026790 testing accuracy 0.844000, recall is 0.481050', auc is 0.869314\n",
      "00:00:897420\n",
      "under ratio 1:1.027778 testing accuracy 0.844667, recall is 0.481050', auc is 0.869374\n",
      "00:00:962826\n"
     ]
    }
   ],
   "source": [
    "for i in irange_:\n",
    "    times = time()\n",
    "    clf = SVC(kernel = \"linear\"\n",
    "              ,gamma=\"auto\"\n",
    "              ,cache_size = 5000\n",
    "              ,class_weight = {1:1+i}\n",
    "             ).fit(Xtrain, Ytrain)\n",
    "    result = clf.predict(Xtest)\n",
    "    score = clf.score(Xtest,Ytest)\n",
    "    recall = recall_score(Ytest, result)\n",
    "    auc = roc_auc_score(Ytest,clf.decision_function(Xtest))\n",
    "    print(\"under ratio 1:%f testing accuracy %f, recall is %f', auc is %f\" %(1+i,score,recall,auc))\n",
    "    print(datetime.datetime.fromtimestamp(time()-times).strftime(\"%M:%S:%f\"))"
   ]
  },
  {
   "cell_type": "markdown",
   "metadata": {},
   "source": [
    "模型调节得效果不大好，没有出现比0.8453更高的精度，hence，在模型不做样本平衡的情况下，准确率已经非常接近极限了，让模型想着少数类的方向调节，不能够达到质变，如果真的希望再提升准确率，只能选择更换模型的方式，因为调参基本上已经不能帮助我们了"
   ]
  },
  {
   "cell_type": "markdown",
   "metadata": {},
   "source": [
    "对于二分类label，又是线性数据，可以尝试逻辑回归"
   ]
  },
  {
   "cell_type": "code",
   "execution_count": 180,
   "metadata": {},
   "outputs": [],
   "source": [
    "from sklearn.linear_model import LogisticRegression as LR"
   ]
  },
  {
   "cell_type": "code",
   "execution_count": 181,
   "metadata": {},
   "outputs": [
    {
     "data": {
      "text/plain": [
       "0.8486666666666667"
      ]
     },
     "execution_count": 181,
     "metadata": {},
     "output_type": "execute_result"
    }
   ],
   "source": [
    "logclf = LR(solver=\"liblinear\").fit(Xtrain, Ytrain)#实例化\n",
    "logclf.score(Xtest,Ytest)"
   ]
  },
  {
   "cell_type": "code",
   "execution_count": 182,
   "metadata": {},
   "outputs": [],
   "source": [
    "C_range = np.linspace(5,10,10)#逻辑回归要调参第一个一般调C值"
   ]
  },
  {
   "cell_type": "code",
   "execution_count": 183,
   "metadata": {},
   "outputs": [
    {
     "name": "stdout",
     "output_type": "stream",
     "text": [
      "5.0 0.8493333333333334\n",
      "5.555555555555555 0.8493333333333334\n",
      "6.111111111111111 0.8486666666666667\n",
      "6.666666666666667 0.8493333333333334\n",
      "7.222222222222222 0.8493333333333334\n",
      "7.777777777777778 0.8493333333333334\n",
      "8.333333333333334 0.8493333333333334\n",
      "8.88888888888889 0.8493333333333334\n",
      "9.444444444444445 0.8493333333333334\n",
      "10.0 0.8493333333333334\n"
     ]
    }
   ],
   "source": [
    "for C in C_range:\n",
    "    logclf = LR(solver=\"liblinear\",C=C).fit(Xtrain, Ytrain)\n",
    "    print(C,logclf.score(Xtest,Ytest))"
   ]
  },
  {
   "cell_type": "markdown",
   "metadata": {},
   "source": [
    "逻辑回归还是不擅长在调整小样本来说，而且要老是调整阈值"
   ]
  },
  {
   "cell_type": "markdown",
   "metadata": {},
   "source": [
    "小提升，没有质变，可能模型的精确度提升到0.9以上需要集成算法比如梯度提升数"
   ]
  },
  {
   "cell_type": "markdown",
   "metadata": {},
   "source": [
    "## 追求平衡"
   ]
  },
  {
   "cell_type": "markdown",
   "metadata": {},
   "source": [
    "前面经历了多种尝试，选定了线性核，并发现调节class_weight并不能够使我们模型有较大的改善。现在我们 来试试看调节线性核函数的C值能否有效果"
   ]
  },
  {
   "cell_type": "markdown",
   "metadata": {},
   "source": [
    "放弃代码直接上结果"
   ]
  },
  {
   "cell_type": "code",
   "execution_count": 185,
   "metadata": {},
   "outputs": [
    {
     "name": "stdout",
     "output_type": "stream",
     "text": [
      "testing accuracy 0.795333,recall is 0.772595', auc is 0.870165\n",
      "00:02:646832\n"
     ]
    }
   ],
   "source": [
    "times = time()\n",
    "clf = SVC(kernel = \"linear\"#线性核模型\n",
    "          ,C=3.1663157894736838#把目前最佳的C值带入\n",
    "          ,cache_size = 5000\n",
    "          ,class_weight = \"balanced\"\n",
    "         ).fit(Xtrain, Ytrain)\n",
    "result = clf.predict(Xtest)\n",
    "score = clf.score(Xtest,Ytest)\n",
    "recall = recall_score(Ytest, result)\n",
    "auc = roc_auc_score(Ytest,clf.decision_function(Xtest))\n",
    "print(\"testing accuracy %f,recall is %f', auc is %f\" % (score,recall,auc))\n",
    "print(datetime.datetime.fromtimestamp(time()-times).strftime(\"%M:%S:%f\"))"
   ]
  },
  {
   "cell_type": "code",
   "execution_count": 186,
   "metadata": {},
   "outputs": [],
   "source": [
    "from sklearn.metrics import roc_curve as ROC\n",
    "import matplotlib.pyplot as plt"
   ]
  },
  {
   "cell_type": "code",
   "execution_count": 187,
   "metadata": {},
   "outputs": [],
   "source": [
    "FPR, Recall, thresholds = ROC(Ytest#真实值\n",
    "                              ,clf.decision_function(Xtest)#置信度\n",
    "                              ,pos_label=1)"
   ]
  },
  {
   "cell_type": "code",
   "execution_count": 188,
   "metadata": {},
   "outputs": [],
   "source": [
    "area = roc_auc_score(Ytest,clf.decision_function(Xtest))"
   ]
  },
  {
   "cell_type": "code",
   "execution_count": 189,
   "metadata": {},
   "outputs": [
    {
     "data": {
      "text/plain": [
       "0.8701653769298805"
      ]
     },
     "execution_count": 189,
     "metadata": {},
     "output_type": "execute_result"
    }
   ],
   "source": [
    "area#模型不错"
   ]
  },
  {
   "cell_type": "code",
   "execution_count": 190,
   "metadata": {},
   "outputs": [
    {
     "data": {
      "image/png": "[encoded data removed]",
      "text/plain": [
       "<Figure size 432x288 with 1 Axes>"
      ]
     },
     "metadata": {
      "needs_background": "light"
     },
     "output_type": "display_data"
    }
   ],
   "source": [
    "plt.figure()\n",
    "plt.plot(FPR, Recall, color='red',\n",
    "         label='ROC curve (area = %0.2f)' % area)\n",
    "plt.plot([0, 1], [0, 1], color='black', linestyle='--')\n",
    "plt.xlim([-0.05, 1.05])\n",
    "plt.ylim([-0.05, 1.05])\n",
    "plt.xlabel('False Positive Rate')\n",
    "plt.ylabel('Recall')\n",
    "plt.title('Receiver operating characteristic example')\n",
    "plt.legend(loc=\"lower right\")\n",
    "plt.show()"
   ]
  },
  {
   "cell_type": "markdown",
   "metadata": {},
   "source": [
    "用这个模型作为base去求解最佳阈值："
   ]
  },
  {
   "cell_type": "code",
   "execution_count": 191,
   "metadata": {},
   "outputs": [],
   "source": [
    "maxindex = (Recall - FPR).tolist().index(max(Recall - FPR))#找到差异最大的点的索引去找出这个阈值"
   ]
  },
  {
   "cell_type": "code",
   "execution_count": 192,
   "metadata": {},
   "outputs": [
    {
     "data": {
      "text/plain": [
       "-0.08950517388953827"
      ]
     },
     "execution_count": 192,
     "metadata": {},
     "output_type": "execute_result"
    }
   ],
   "source": [
    "thresholds[maxindex]#输入的是decision_function 是置信度，是距离，是可以为负的"
   ]
  },
  {
   "cell_type": "markdown",
   "metadata": {},
   "source": [
    "基于选出的最佳阈值，认为确定的y_predict，并确定在这个阈值之下的recall和准确度的值"
   ]
  },
  {
   "cell_type": "code",
   "execution_count": 193,
   "metadata": {},
   "outputs": [],
   "source": [
    "from sklearn.metrics import accuracy_score as AC"
   ]
  },
  {
   "cell_type": "code",
   "execution_count": 194,
   "metadata": {},
   "outputs": [],
   "source": [
    "clf = SVC(kernel = \"linear\",C=3.1663157894736838,cache_size = 5000\n",
    "          ,class_weight = \"balanced\"\n",
    "         ).fit(Xtrain, Ytrain)"
   ]
  },
  {
   "cell_type": "code",
   "execution_count": 195,
   "metadata": {},
   "outputs": [],
   "source": [
    "prob = pd.DataFrame(clf.decision_function(Xtest))"
   ]
  },
  {
   "cell_type": "code",
   "execution_count": 196,
   "metadata": {},
   "outputs": [
    {
     "data": {
      "text/html": [
       "<div>\n",
       "<style scoped>\n",
       "    .dataframe tbody tr th:only-of-type {\n",
       "        vertical-align: middle;\n",
       "    }\n",
       "\n",
       "    .dataframe tbody tr th {\n",
       "        vertical-align: top;\n",
       "    }\n",
       "\n",
       "    .dataframe thead th {\n",
       "        text-align: right;\n",
       "    }\n",
       "</style>\n",
       "<table border=\"1\" class=\"dataframe\">\n",
       "  <thead>\n",
       "    <tr style=\"text-align: right;\">\n",
       "      <th></th>\n",
       "      <th>0</th>\n",
       "    </tr>\n",
       "  </thead>\n",
       "  <tbody>\n",
       "    <tr>\n",
       "      <th>0</th>\n",
       "      <td>2.189193</td>\n",
       "    </tr>\n",
       "    <tr>\n",
       "      <th>1</th>\n",
       "      <td>0.373116</td>\n",
       "    </tr>\n",
       "    <tr>\n",
       "      <th>2</th>\n",
       "      <td>-0.015488</td>\n",
       "    </tr>\n",
       "    <tr>\n",
       "      <th>3</th>\n",
       "      <td>-1.136262</td>\n",
       "    </tr>\n",
       "    <tr>\n",
       "      <th>4</th>\n",
       "      <td>-0.240851</td>\n",
       "    </tr>\n",
       "  </tbody>\n",
       "</table>\n",
       "</div>"
      ],
      "text/plain": [
       "          0\n",
       "0  2.189193\n",
       "1  0.373116\n",
       "2 -0.015488\n",
       "3 -1.136262\n",
       "4 -0.240851"
      ]
     },
     "execution_count": 196,
     "metadata": {},
     "output_type": "execute_result"
    }
   ],
   "source": [
    "prob.head()"
   ]
  },
  {
   "cell_type": "code",
   "execution_count": 197,
   "metadata": {},
   "outputs": [],
   "source": [
    "prob.loc[prob.iloc[:,0] >= thresholds[maxindex],\"y_pred\"]=1\n",
    "prob.loc[prob.iloc[:,0] < thresholds[maxindex],\"y_pred\"]=0"
   ]
  },
  {
   "cell_type": "code",
   "execution_count": 198,
   "metadata": {},
   "outputs": [
    {
     "data": {
      "text/plain": [
       "0"
      ]
     },
     "execution_count": 198,
     "metadata": {},
     "output_type": "execute_result"
    }
   ],
   "source": [
    "prob.loc[:,\"y_pred\"].isnull().sum()"
   ]
  },
  {
   "cell_type": "code",
   "execution_count": 199,
   "metadata": {},
   "outputs": [
    {
     "name": "stdout",
     "output_type": "stream",
     "text": [
      "testing accuracy 0.789333,recall is 0.804665\n",
      "00:00:004939\n"
     ]
    }
   ],
   "source": [
    "times = time()\n",
    "score = AC(Ytest,prob.loc[:,\"y_pred\"].values)\n",
    "recall = recall_score(Ytest, prob.loc[:,\"y_pred\"])\n",
    "print(\"testing accuracy %f,recall is %f\" % (score,recall))\n",
    "print(datetime.datetime.fromtimestamp(time()-times).strftime(\"%M:%S:%f\"))"
   ]
  }
 ],
 "metadata": {
  "kernelspec": {
   "display_name": "Python 3",
   "language": "python",
   "name": "python3"
  },
  "language_info": {
   "codemirror_mode": {
    "name": "ipython",
    "version": 3
   },
   "file_extension": ".py",
   "mimetype": "text/x-python",
   "name": "python",
   "nbconvert_exporter": "python",
   "pygments_lexer": "ipython3",
   "version": "3.7.4"
  }
 },
 "nbformat": 4,
 "nbformat_minor": 2
}
